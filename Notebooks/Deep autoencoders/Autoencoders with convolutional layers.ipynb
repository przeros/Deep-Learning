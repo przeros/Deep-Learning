{
  "nbformat": 4,
  "nbformat_minor": 0,
  "metadata": {
    "colab": {
      "provenance": []
    },
    "kernelspec": {
      "name": "python3",
      "display_name": "Python 3"
    },
    "accelerator": "GPU",
    "gpuClass": "standard"
  },
  "cells": [
    {
      "cell_type": "markdown",
      "metadata": {
        "id": "lSUl9_Laj0TA"
      },
      "source": [
        "##### AI TECH - Akademia Innowacyjnych Zastosowań Technologii Cyfrowych. Programu Operacyjnego Polska Cyfrowa na lata 2014-2020\n",
        "<hr>\n"
      ]
    },
    {
      "cell_type": "code",
      "metadata": {
        "colab": {
          "base_uri": "https://localhost:8080/",
          "height": 176
        },
        "id": "tzXA5njax1iW",
        "cellView": "form",
        "outputId": "d3933072-530e-4a70-f7c7-df1cf207c3a5"
      },
      "source": [
        "#@title\n",
        "%%html\n",
        "<iframe src=\"https://www.polskacyfrowa.gov.pl/media/48246/FE_POPC_poziom_pl-1_rgb.jpg\" width=\"800\"></iframe>\n"
      ],
      "execution_count": null,
      "outputs": [
        {
          "output_type": "display_data",
          "data": {
            "text/plain": [
              "<IPython.core.display.HTML object>"
            ],
            "text/html": [
              "<iframe src=\"https://www.polskacyfrowa.gov.pl/media/48246/FE_POPC_poziom_pl-1_rgb.jpg\" width=\"800\"></iframe>\n"
            ]
          },
          "metadata": {}
        }
      ]
    },
    {
      "cell_type": "markdown",
      "metadata": {
        "id": "k1TWd6UH3Thw"
      },
      "source": [
        "# Uczenie głębokie\n",
        "\n",
        "Jacek Rumiński, Politechnika Gdańska, Wydział ETI, Katedra Inżynierii Biomedycznej\n",
        "\n",
        "**Wykład 7:** Autokodery głębokie\n",
        "\n",
        "**Przykład (2):** Autokodery z warstwami splotowymi"
      ]
    },
    {
      "cell_type": "markdown",
      "metadata": {
        "id": "P2vfry0KZLv4"
      },
      "source": [
        "\n",
        "Istotę autokoderów poznaliśmy w czasie prezentacji i w przykładach z uczenia maszynowego. W tym notatniku skupimy się na głębokich wersjach autokoderów z zastosowaniem warstw z sieci splotowych.\n"
      ]
    },
    {
      "cell_type": "code",
      "metadata": {
        "id": "5SCT-WJ119Pp",
        "colab": {
          "base_uri": "https://localhost:8080/"
        },
        "outputId": "6c5b2323-5a17-4811-dda0-704e977f7ee2"
      },
      "source": [
        "# Read packages\n",
        "import numpy as np\n",
        "import tensorflow as tf\n",
        "import matplotlib.pyplot as plt\n",
        "import matplotlib\n",
        "from tensorflow.keras.datasets import cifar10\n",
        "from tensorflow.keras import layers, losses\n",
        "\n",
        "\n",
        "\n",
        "print(tf.__version__)"
      ],
      "execution_count": null,
      "outputs": [
        {
          "output_type": "stream",
          "name": "stdout",
          "text": [
            "2.9.2\n"
          ]
        }
      ]
    },
    {
      "cell_type": "code",
      "source": [
        "# Load data and split to training and test datasets\n",
        "\n",
        "(x_train, y_train), (x_test, y_test) = cifar10.load_data()\n",
        "\n",
        "class_names = [\n",
        "'airplane','automobile','bird', 'cat', 'deer' ,\n",
        "'dog', 'frog', 'horse', 'ship', 'truck']\n",
        "\n",
        "# Data properties\n",
        "image_width = 32;\n",
        "image_height = 32;\n",
        "image_components = 3\n",
        "\n",
        "\n",
        "x_train = x_train.astype('float32') / 255.0\n",
        "x_test = x_test.astype('float32') / 255.0\n",
        "\n",
        "# Show an example\n",
        "example = 200\n",
        "class_id = y_train[example].item()\n",
        "\n",
        "plt.rcParams[\"axes.grid\"] = False\n",
        "plt.imshow(x_train[example])\n",
        "print(\"True original label :\", class_id, class_names[class_id])\n"
      ],
      "metadata": {
        "colab": {
          "base_uri": "https://localhost:8080/",
          "height": 321
        },
        "id": "kATLJyr0lCt4",
        "outputId": "cb9a2263-5de5-41a6-c62c-8a5522d80862"
      },
      "execution_count": null,
      "outputs": [
        {
          "output_type": "stream",
          "name": "stdout",
          "text": [
            "Downloading data from https://www.cs.toronto.edu/~kriz/cifar-10-python.tar.gz\n",
            "170498071/170498071 [==============================] - 3s 0us/step\n",
            "True original label : 6 frog\n"
          ]
        },
        {
          "output_type": "display_data",
          "data": {
            "text/plain": [
              "<Figure size 432x288 with 1 Axes>"
            ],
            "image/png": "[encoded data removed]"
          },
          "metadata": {
            "needs_background": "light"
          }
        }
      ]
    },
    {
      "cell_type": "markdown",
      "metadata": {
        "id": "FIhfUm5Qbu2b"
      },
      "source": [
        "Zaproponujmy teraz model autokodera, który będzie zmieniał reprezentację danych do nowej E wymiarowej przestrzeni ukrytej. Wprowadźmy zmienną latent_space_dim do określenia wymiaru E (będziemy mogli eksperymentować z wpływem doboru rozmiaru reprezentacji danych w przestrzeni ukrytej na wyniki autokodera).\n",
        "\n",
        "Jeśli E < L (liczba cech zbioru oryginalnego) mówimy o niekompletnych autokoderach (ang. undercomplete autoencoders).\n",
        "\n",
        "Jeśli E > L mówimy o nadkompletnych autokoderach (ang. overcomplete autoencoders), często związanych z danymi reprezentowanymi w warstwie ukrytej w sposób rzadki (dużo zer - wiele neuronów nieaktywnych) - ang. sparse autoencoders.\n",
        "\n",
        "Zajmijmy się przypadkiem E<L. Zaadaptujmy model poznany wczesniej w czasie prezentacji z kursu na temat uczenia maszynowego. Poprzednio uzywaliśmy zbioru MNIST (28,18,1). Teraz uzywamy zbioru CIFAR, który charakteryzuje się większą liczbą komponentów koloru (32,32,3). Uwzględnijmy tę różnicę w modelu.\n",
        "\n"
      ]
    },
    {
      "cell_type": "code",
      "source": [
        "class AE(tf.keras.models.Model):\n",
        "  def __init__(self, data_shape, lat_dim, enc_act, dec_act):\n",
        "    super(AE, self).__init__()\n",
        "    self.latent_space_dim = lat_dim\n",
        "    self.m_name = \"Dense Shallow Autoencoder\"\n",
        "\n",
        "    self.encoder = tf.keras.Sequential([\n",
        "      # Data shape (50000, 32, 32, 3), so make it flat for the Dense layer\n",
        "      layers.Flatten(),\n",
        "      layers.Dense(self.latent_space_dim, activation=enc_act),\n",
        "    ])\n",
        "\n",
        "    self.decoder = tf.keras.Sequential([\n",
        "      # Data shape (50000, 32, 32, 3), so output 32*32\n",
        "      layers.Dense(data_shape[1]*data_shape[2]*data_shape[3], activation=dec_act),\n",
        "      layers.Reshape((data_shape[1],data_shape[2],data_shape[3]))\n",
        "    ])\n",
        "\n",
        "  # forward projection\n",
        "  def call(self, x):\n",
        "    z = self.encoder(x)\n",
        "    x_e = self.decoder(z)\n",
        "    return x_e"
      ],
      "metadata": {
        "id": "mZe-7KZ7Ae-u"
      },
      "execution_count": null,
      "outputs": []
    },
    {
      "cell_type": "markdown",
      "source": [
        "Zastosujmy model dla danych CIFAR definiując przykładowe wartości hiperparsametrów i przeprowadźmy trening."
      ],
      "metadata": {
        "id": "E4vQxt84DIHX"
      }
    },
    {
      "cell_type": "code",
      "metadata": {
        "colab": {
          "base_uri": "https://localhost:8080/"
        },
        "id": "33NjhE39dkzb",
        "outputId": "16324538-5291-402b-ea02-8ec461079046"
      },
      "source": [
        "latent_space_dim = 8*8*3\n",
        "encoder_activation = 'relu'\n",
        "decoder_activation = 'sigmoid'\n",
        "epochs = 20\n",
        "print(x_train.shape)\n",
        "\n",
        "ae = AE(x_train.shape, latent_space_dim, encoder_activation, decoder_activation)\n",
        "ae.compile(optimizer='adam', loss=losses.MeanSquaredError())\n",
        "\n",
        "ae.fit(x_train, x_train, epochs=epochs, shuffle=True,\n",
        "       validation_data=(x_test, x_test))\n",
        "\n",
        "in_shape = x_train[0].shape\n",
        "in_shape_size = in_shape[0] * in_shape[1] * in_shape[2]\n",
        "print(\"\\n\\n\")\n",
        "print(f\"Input shape is {in_shape}, data length is {in_shape_size}\")\n",
        "print(f\"Latent space data length is {ae.latent_space_dim}\")\n",
        "\n",
        "if in_shape_size > ae.latent_space_dim:\n",
        "    print(f\"The {ae.m_name} is an undercomplete autoencoder\")\n",
        "else:\n",
        "    print(f\"The {ae.m_name} is a overcomplete autoencoder\")\n"
      ],
      "execution_count": null,
      "outputs": [
        {
          "output_type": "stream",
          "name": "stdout",
          "text": [
            "(50000, 32, 32, 3)\n",
            "Epoch 1/20\n",
            "1563/1563 [==============================] - 8s 4ms/step - loss: 0.0255 - val_loss: 0.0177\n",
            "Epoch 2/20\n",
            "1563/1563 [==============================] - 5s 3ms/step - loss: 0.0152 - val_loss: 0.0133\n",
            "Epoch 3/20\n",
            "1563/1563 [==============================] - 5s 3ms/step - loss: 0.0128 - val_loss: 0.0123\n",
            "Epoch 4/20\n",
            "1563/1563 [==============================] - 5s 3ms/step - loss: 0.0125 - val_loss: 0.0123\n",
            "Epoch 5/20\n",
            "1563/1563 [==============================] - 5s 3ms/step - loss: 0.0124 - val_loss: 0.0123\n",
            "Epoch 6/20\n",
            "1563/1563 [==============================] - 5s 3ms/step - loss: 0.0123 - val_loss: 0.0124\n",
            "Epoch 7/20\n",
            "1563/1563 [==============================] - 5s 3ms/step - loss: 0.0123 - val_loss: 0.0124\n",
            "Epoch 8/20\n",
            "1563/1563 [==============================] - 5s 3ms/step - loss: 0.0123 - val_loss: 0.0122\n",
            "Epoch 9/20\n",
            "1563/1563 [==============================] - 5s 3ms/step - loss: 0.0122 - val_loss: 0.0123\n",
            "Epoch 10/20\n",
            "1563/1563 [==============================] - 5s 3ms/step - loss: 0.0122 - val_loss: 0.0122\n",
            "Epoch 11/20\n",
            "1563/1563 [==============================] - 6s 4ms/step - loss: 0.0122 - val_loss: 0.0122\n",
            "Epoch 12/20\n",
            "1563/1563 [==============================] - 5s 3ms/step - loss: 0.0122 - val_loss: 0.0123\n",
            "Epoch 13/20\n",
            "1563/1563 [==============================] - 5s 3ms/step - loss: 0.0122 - val_loss: 0.0123\n",
            "Epoch 14/20\n",
            "1563/1563 [==============================] - 5s 3ms/step - loss: 0.0121 - val_loss: 0.0121\n",
            "Epoch 15/20\n",
            "1563/1563 [==============================] - 5s 3ms/step - loss: 0.0121 - val_loss: 0.0121\n",
            "Epoch 16/20\n",
            "1563/1563 [==============================] - 5s 3ms/step - loss: 0.0121 - val_loss: 0.0123\n",
            "Epoch 17/20\n",
            "1563/1563 [==============================] - 5s 3ms/step - loss: 0.0121 - val_loss: 0.0121\n",
            "Epoch 18/20\n",
            "1563/1563 [==============================] - 5s 3ms/step - loss: 0.0121 - val_loss: 0.0120\n",
            "Epoch 19/20\n",
            "1563/1563 [==============================] - 5s 3ms/step - loss: 0.0120 - val_loss: 0.0121\n",
            "Epoch 20/20\n",
            "1563/1563 [==============================] - 5s 3ms/step - loss: 0.0121 - val_loss: 0.0121\n",
            "\n",
            "\n",
            "\n",
            "Input shape is (32, 32, 3), data length is 3072\n",
            "Latent space data length is 192\n",
            "The Dense Shallow Autoencoder is an undercomplete autoencoder\n"
          ]
        }
      ]
    },
    {
      "cell_type": "markdown",
      "source": [
        "Zobcmzy ile parametrów mają poszczególne bloki autokodera."
      ],
      "metadata": {
        "id": "3PrrrQdlDTVr"
      }
    },
    {
      "cell_type": "code",
      "source": [
        "print(\"Total DAE model summary:\")\n",
        "ae.summary()\n",
        "\n",
        "\n",
        "print(\"Encoder summary:\")\n",
        "ae.encoder.summary()\n",
        "\n",
        "print(\"Decoder summary:\")\n",
        "ae.decoder.summary()"
      ],
      "metadata": {
        "colab": {
          "base_uri": "https://localhost:8080/"
        },
        "id": "lFahOcZhsVtx",
        "outputId": "e52b7fa8-e34a-47dc-a495-17e475ec14aa"
      },
      "execution_count": null,
      "outputs": [
        {
          "output_type": "stream",
          "name": "stdout",
          "text": [
            "Total DAE model summary:\n",
            "Model: \"ae\"\n",
            "_________________________________________________________________\n",
            " Layer (type)                Output Shape              Param #   \n",
            "=================================================================\n",
            " sequential (Sequential)     (None, 192)               590016    \n",
            "                                                                 \n",
            " sequential_1 (Sequential)   (None, 32, 32, 3)         592896    \n",
            "                                                                 \n",
            "=================================================================\n",
            "Total params: 1,182,912\n",
            "Trainable params: 1,182,912\n",
            "Non-trainable params: 0\n",
            "_________________________________________________________________\n",
            "Encoder summary:\n",
            "Model: \"sequential\"\n",
            "_________________________________________________________________\n",
            " Layer (type)                Output Shape              Param #   \n",
            "=================================================================\n",
            " flatten (Flatten)           (None, 3072)              0         \n",
            "                                                                 \n",
            " dense (Dense)               (None, 192)               590016    \n",
            "                                                                 \n",
            "=================================================================\n",
            "Total params: 590,016\n",
            "Trainable params: 590,016\n",
            "Non-trainable params: 0\n",
            "_________________________________________________________________\n",
            "Decoder summary:\n",
            "Model: \"sequential_1\"\n",
            "_________________________________________________________________\n",
            " Layer (type)                Output Shape              Param #   \n",
            "=================================================================\n",
            " dense_1 (Dense)             (None, 3072)              592896    \n",
            "                                                                 \n",
            " reshape (Reshape)           (None, 32, 32, 3)         0         \n",
            "                                                                 \n",
            "=================================================================\n",
            "Total params: 592,896\n",
            "Trainable params: 592,896\n",
            "Non-trainable params: 0\n",
            "_________________________________________________________________\n"
          ]
        }
      ]
    },
    {
      "cell_type": "markdown",
      "metadata": {
        "id": "vgAYj6aQWgvn"
      },
      "source": [
        "W celu ilustracji działania zastosujmy koder i dekoder dla zbioru testowego."
      ]
    },
    {
      "cell_type": "code",
      "metadata": {
        "id": "dg6G0t0zd6Xp",
        "colab": {
          "base_uri": "https://localhost:8080/"
        },
        "outputId": "4ec59eb5-4f1e-4245-d4e2-a25735841528"
      },
      "source": [
        "img_encoded = ae.encoder(x_test).numpy()\n",
        "img_decoded = ae.decoder(img_encoded).numpy()\n",
        "\n",
        "print(\"Evaluate\")\n",
        "result = ae.evaluate(x_test, x_test)\n",
        "print(ae.metrics_names)\n",
        "print(result)"
      ],
      "execution_count": null,
      "outputs": [
        {
          "output_type": "stream",
          "name": "stdout",
          "text": [
            "Evaluate\n",
            "313/313 [==============================] - 1s 2ms/step - loss: 0.0121\n",
            "['loss']\n",
            "0.01210116595029831\n"
          ]
        }
      ]
    },
    {
      "cell_type": "markdown",
      "metadata": {
        "id": "7wXbdcHUWqQt"
      },
      "source": [
        "Zilustrujmy następnie obraz oryginalny oraz zrekonstruowany przez autokoder."
      ]
    },
    {
      "cell_type": "code",
      "metadata": {
        "colab": {
          "base_uri": "https://localhost:8080/",
          "height": 309
        },
        "id": "u0hljUWNe7GN",
        "outputId": "b0455f25-7662-4524-9999-cc76128a7456"
      },
      "source": [
        "example = 200\n",
        "\n",
        "print(\"Input representation dimension (shape):\", x_test[example].shape)\n",
        "print(\"Latent space dimension (shape):\", img_encoded[example].shape)\n",
        "\n",
        "print(\"Label for the example:\", class_names[int(y_test[example])])\n",
        "\n",
        "matplotlib.rcParams.update({'font.size': 16})\n",
        "fig, (ax1, ax2, ax3) = plt.subplots(1, 3, figsize=(11,11))\n",
        "\n",
        "ax1.set_title(\"Original\")\n",
        "ax1.imshow(x_test[example], cmap='gray')\n",
        "\n",
        "ax2.set_title(\"Reconstructed\")\n",
        "ax2.imshow(img_decoded[example], cmap='gray')\n",
        "\n",
        "ax3.set_title(\"Difference\")\n",
        "ax3.imshow(np.abs(img_decoded[example]-x_test[example]), cmap='gray')\n",
        "plt.show()"
      ],
      "execution_count": null,
      "outputs": [
        {
          "output_type": "stream",
          "name": "stdout",
          "text": [
            "Input representation dimension (shape): (32, 32, 3)\n",
            "Latent space dimension (shape): (192,)\n",
            "Label for the example: dog\n"
          ]
        },
        {
          "output_type": "display_data",
          "data": {
            "text/plain": [
              "<Figure size 792x792 with 3 Axes>"
            ],
            "image/png": "[encoded data removed]"
          },
          "metadata": {
            "needs_background": "light"
          }
        }
      ]
    },
    {
      "cell_type": "markdown",
      "metadata": {
        "id": "mtgeIBXnWxei"
      },
      "source": [
        "Możemy zaobserwować efekt znacznego wygładzenia obrazu (wygładzenie to filtracja dolnoprzepustowa - zmniejszamy częstotliwości przestrzenne, czyli liczbę zmian wartości pikseli na jednostkę długości).\n",
        "\n",
        "Tak prosty model wytrenowany dla niewielkiej liczbie epok niezbyt dobrze rokonstruuje dane wejściowe. Zachęcam do eksperymentowania z liczbą warstw Dense, z liczbą parametrów, itp.\n",
        "\n",
        "Oczywiste staje się jednal pytanie, czy moglibyśmy zastosować wyuczony autokoder do odszumiania obrazów.\n",
        "\n",
        "Wygenerujemy obraz z szumem i zastosujmy TEN SAM model, który trenowaliśmy wyżej."
      ]
    },
    {
      "cell_type": "code",
      "metadata": {
        "colab": {
          "base_uri": "https://localhost:8080/",
          "height": 225
        },
        "id": "lQNv9vyBlHOm",
        "outputId": "f7144e01-0e64-4b42-8dd4-f4084727b57b"
      },
      "source": [
        "noise_amp = 0.1\n",
        "noise = noise_amp * np.random.normal(size=(32,32,3))\n",
        "print(f\" Max noise value is {np.max(noise)}\")\n",
        "true_image = x_test[example]\n",
        "img_example = np.array(true_image + noise)\n",
        "img_example = np.interp(img_example, (img_example.min(), img_example.max()), (0, 1))\n",
        "\n",
        "img_example=img_example.reshape((1,32,32,3))\n",
        "\n",
        "\n",
        "img_example_encoded = ae.encoder(img_example).numpy()\n",
        "img_example_decoded = ae.decoder(img_example_encoded).numpy()\n",
        "\n",
        "matplotlib.rcParams.update({'font.size': 16})\n",
        "fig, (ax1, ax2, ax3, ax4) = plt.subplots(1, 4, figsize=(11,11))\n",
        "\n",
        "ax1.set_title(\"Original\")\n",
        "ax1.imshow(true_image, cmap='gray')\n",
        "\n",
        "ax2.set_title(\"Noisy\")\n",
        "ax2.imshow(img_example[0], cmap='gray')\n",
        "\n",
        "ax3.set_title(\"Reconstructed\")\n",
        "ax3.imshow(img_example_decoded[0], cmap='gray')\n",
        "\n",
        "ax4.set_title(\"Difference\")\n",
        "ax4.imshow(np.abs(img_example_decoded[0]-img_example[0]), cmap='gray')\n",
        "plt.show()"
      ],
      "execution_count": null,
      "outputs": [
        {
          "output_type": "stream",
          "name": "stdout",
          "text": [
            " Max noise value is 0.42645982003216903\n"
          ]
        },
        {
          "output_type": "display_data",
          "data": {
            "text/plain": [
              "<Figure size 792x792 with 4 Axes>"
            ],
            "image/png": "[encoded data removed]"
          },
          "metadata": {
            "needs_background": "light"
          }
        }
      ]
    },
    {
      "cell_type": "markdown",
      "source": [
        "Udało nam sie zredukować szum wysokiej częśtotliwości, ale nasz zrekonstruowany obraz jest ciągle bardzo rozmyty."
      ],
      "metadata": {
        "id": "qlr5cZWXF53V"
      }
    },
    {
      "cell_type": "markdown",
      "source": [
        "# GŁĘBOKIE AUTOKODERY\n",
        "\n",
        "Zdefiniujmy teraz model bazujący wyłącznie na warstwach poznanych przy omawianiu modeli splotowych.\n",
        "\n",
        "W tej wersji modelu przyjmiemy jako parametr rozmiar głębokości (liczbę kanałów) przestrzeni ukrytej. Redukcję danych w koderze zrealizujemy poprzez operację MaxPooling zachowując przy tym rozmiar obrazów dla operacji splotu (odpowiednia wartość zmienne padding='same').\n"
      ],
      "metadata": {
        "id": "91Kd12L4CIg_"
      }
    },
    {
      "cell_type": "code",
      "metadata": {
        "id": "VcRUsMG_YU9T"
      },
      "source": [
        "class DAE(tf.keras.models.Model):\n",
        "  def __init__(self, data_shape, lat_dim, enc_act, dec_act, padding='same'):\n",
        "    super(DAE, self).__init__()\n",
        "    self.channel_dim = lat_dim\n",
        "    self.latent_space_dim = lat_dim * 8 * 8  # assuming 2xMaxPool in the encoder\n",
        "    self.m_name = \"Simple Convolutional Autoencoder\"\n",
        "\n",
        "    self.encoder = tf.keras.Sequential([\n",
        "      layers.Conv2D(32, 3, activation=enc_act, padding=padding),\n",
        "      #layers.LayerNormalization(),\n",
        "      layers.MaxPool2D(2),\n",
        "      layers.Conv2D(64, 3, activation=enc_act, padding=padding),\n",
        "      #layers.LayerNormalization(),\n",
        "      layers.MaxPool2D(2),\n",
        "      layers.Conv2D(self.channel_dim, 3, activation=enc_act, padding=padding),\n",
        "      layers.LayerNormalization(),\n",
        "    ])\n",
        "\n",
        "    # We used MaxPool two times, so we need to upscale two times in the decoder\n",
        "    self.decoder = tf.keras.Sequential([\n",
        "      layers.UpSampling2D((2,2)),\n",
        "      layers.Conv2D(64, 3,activation=dec_act, padding=padding),\n",
        "      #layers.LayerNormalization(),\n",
        "      layers.UpSampling2D((2,2)),\n",
        "      layers.Conv2D(32, 3,activation=dec_act, padding=padding),\n",
        "      #layers.LayerNormalization(),\n",
        "      layers.Conv2D(3, 1),  # Generate 3 channels\n",
        "      layers.Activation(\"sigmoid\"),  # Scale output to get values in range (0,1)\n",
        "    ])\n",
        "\n",
        "  # forward projection\n",
        "  def call(self, x):\n",
        "    z = self.encoder(x)\n",
        "    x_e = self.decoder(z)\n",
        "    return x_e"
      ],
      "execution_count": null,
      "outputs": []
    },
    {
      "cell_type": "markdown",
      "source": [
        "Kolejne operacje zróbmy takie same jak dla pierwszego, prostego modelu autokodera płytkiego."
      ],
      "metadata": {
        "id": "CU8JYNEsEdbW"
      }
    },
    {
      "cell_type": "code",
      "source": [
        "latent_space_depth_dim = 3  # if spatial shape is (8,8) then latent_space_dim is 8*8*latent_space_depth_dim\n",
        "encoder_activation = 'relu'\n",
        "decoder_activation = 'sigmoid'\n",
        "epochs = 20\n",
        "print(x_train.shape)\n",
        "\n",
        "ae = DAE(x_train.shape, latent_space_depth_dim, encoder_activation, decoder_activation)\n",
        "ae.compile(optimizer='adam', loss=losses.MeanSquaredError())\n",
        "\n",
        "ae.fit(x_train, x_train, epochs=epochs, shuffle=True,\n",
        "       validation_data=(x_test, x_test))\n",
        "\n",
        "in_shape = x_train[0].shape\n",
        "in_shape_size = in_shape[0] * in_shape[1] * in_shape[2]\n",
        "print(\"\\n\\n\")\n",
        "print(f\"Input shape is {in_shape}, data length is {in_shape_size}\")\n",
        "print(f\"Latent space data length is {ae.latent_space_dim}\")\n",
        "\n",
        "if in_shape_size > ae.latent_space_dim:\n",
        "    print(f\"The {ae.m_name} is an undercomplete autoencoder\")\n",
        "else:\n",
        "    print(f\"The {ae.m_name} is a sparse autoencoder\")"
      ],
      "metadata": {
        "colab": {
          "base_uri": "https://localhost:8080/"
        },
        "id": "9axIGnMCB2aC",
        "outputId": "4244259c-0cfc-44ef-9ec8-80f977c36f5e"
      },
      "execution_count": null,
      "outputs": [
        {
          "output_type": "stream",
          "name": "stdout",
          "text": [
            "(50000, 32, 32, 3)\n",
            "Epoch 1/20\n",
            "1563/1563 [==============================] - 16s 6ms/step - loss: 0.0153 - val_loss: 0.0133\n",
            "Epoch 2/20\n",
            "1563/1563 [==============================] - 10s 6ms/step - loss: 0.0129 - val_loss: 0.0128\n",
            "Epoch 3/20\n",
            "1563/1563 [==============================] - 9s 6ms/step - loss: 0.0128 - val_loss: 0.0127\n",
            "Epoch 4/20\n",
            "1563/1563 [==============================] - 9s 6ms/step - loss: 0.0126 - val_loss: 0.0127\n",
            "Epoch 5/20\n",
            "1563/1563 [==============================] - 10s 6ms/step - loss: 0.0126 - val_loss: 0.0125\n",
            "Epoch 6/20\n",
            "1563/1563 [==============================] - 10s 6ms/step - loss: 0.0125 - val_loss: 0.0125\n",
            "Epoch 7/20\n",
            "1563/1563 [==============================] - 10s 6ms/step - loss: 0.0125 - val_loss: 0.0125\n",
            "Epoch 8/20\n",
            "1563/1563 [==============================] - 10s 6ms/step - loss: 0.0125 - val_loss: 0.0124\n",
            "Epoch 9/20\n",
            "1563/1563 [==============================] - 10s 6ms/step - loss: 0.0124 - val_loss: 0.0124\n",
            "Epoch 10/20\n",
            "1563/1563 [==============================] - 10s 6ms/step - loss: 0.0124 - val_loss: 0.0123\n",
            "Epoch 11/20\n",
            "1563/1563 [==============================] - 10s 6ms/step - loss: 0.0124 - val_loss: 0.0123\n",
            "Epoch 12/20\n",
            "1563/1563 [==============================] - 10s 7ms/step - loss: 0.0124 - val_loss: 0.0123\n",
            "Epoch 13/20\n",
            "1563/1563 [==============================] - 10s 6ms/step - loss: 0.0123 - val_loss: 0.0123\n",
            "Epoch 14/20\n",
            "1563/1563 [==============================] - 10s 7ms/step - loss: 0.0123 - val_loss: 0.0122\n",
            "Epoch 15/20\n",
            "1563/1563 [==============================] - 10s 6ms/step - loss: 0.0123 - val_loss: 0.0123\n",
            "Epoch 16/20\n",
            "1563/1563 [==============================] - 10s 6ms/step - loss: 0.0123 - val_loss: 0.0122\n",
            "Epoch 17/20\n",
            "1563/1563 [==============================] - 10s 6ms/step - loss: 0.0122 - val_loss: 0.0122\n",
            "Epoch 18/20\n",
            "1563/1563 [==============================] - 10s 6ms/step - loss: 0.0122 - val_loss: 0.0122\n",
            "Epoch 19/20\n",
            "1563/1563 [==============================] - 10s 6ms/step - loss: 0.0122 - val_loss: 0.0121\n",
            "Epoch 20/20\n",
            "1563/1563 [==============================] - 10s 6ms/step - loss: 0.0122 - val_loss: 0.0121\n",
            "\n",
            "\n",
            "\n",
            "Input shape is (32, 32, 3), data length is 3072\n",
            "Latent space data length is 192\n",
            "The Simple Convolutional Autoencoder is an undercomplete autoencoder\n"
          ]
        }
      ]
    },
    {
      "cell_type": "code",
      "source": [
        "print(\"Total DAE model summary:\")\n",
        "ae.summary()\n",
        "\n",
        "\n",
        "print(\"Encoder summary:\")\n",
        "ae.encoder.summary()\n",
        "\n",
        "print(\"Decoder summary:\")\n",
        "ae.decoder.summary()"
      ],
      "metadata": {
        "colab": {
          "base_uri": "https://localhost:8080/"
        },
        "id": "cEn5J8jLB3lO",
        "outputId": "11f78c0d-78f3-465b-e933-19cde69acec1"
      },
      "execution_count": null,
      "outputs": [
        {
          "output_type": "stream",
          "name": "stdout",
          "text": [
            "Total DAE model summary:\n",
            "Model: \"dae\"\n",
            "_________________________________________________________________\n",
            " Layer (type)                Output Shape              Param #   \n",
            "=================================================================\n",
            " sequential_2 (Sequential)   (None, 8, 8, 3)           21129     \n",
            "                                                                 \n",
            " sequential_3 (Sequential)   (None, 32, 32, 3)         20355     \n",
            "                                                                 \n",
            "=================================================================\n",
            "Total params: 41,484\n",
            "Trainable params: 41,484\n",
            "Non-trainable params: 0\n",
            "_________________________________________________________________\n",
            "Encoder summary:\n",
            "Model: \"sequential_2\"\n",
            "_________________________________________________________________\n",
            " Layer (type)                Output Shape              Param #   \n",
            "=================================================================\n",
            " conv2d (Conv2D)             (None, 32, 32, 32)        896       \n",
            "                                                                 \n",
            " max_pooling2d (MaxPooling2D  (None, 16, 16, 32)       0         \n",
            " )                                                               \n",
            "                                                                 \n",
            " conv2d_1 (Conv2D)           (None, 16, 16, 64)        18496     \n",
            "                                                                 \n",
            " max_pooling2d_1 (MaxPooling  (None, 8, 8, 64)         0         \n",
            " 2D)                                                             \n",
            "                                                                 \n",
            " conv2d_2 (Conv2D)           (None, 8, 8, 3)           1731      \n",
            "                                                                 \n",
            " layer_normalization (LayerN  (None, 8, 8, 3)          6         \n",
            " ormalization)                                                   \n",
            "                                                                 \n",
            "=================================================================\n",
            "Total params: 21,129\n",
            "Trainable params: 21,129\n",
            "Non-trainable params: 0\n",
            "_________________________________________________________________\n",
            "Decoder summary:\n",
            "Model: \"sequential_3\"\n",
            "_________________________________________________________________\n",
            " Layer (type)                Output Shape              Param #   \n",
            "=================================================================\n",
            " up_sampling2d (UpSampling2D  (None, 16, 16, 3)        0         \n",
            " )                                                               \n",
            "                                                                 \n",
            " conv2d_3 (Conv2D)           (None, 16, 16, 64)        1792      \n",
            "                                                                 \n",
            " up_sampling2d_1 (UpSampling  (None, 32, 32, 64)       0         \n",
            " 2D)                                                             \n",
            "                                                                 \n",
            " conv2d_4 (Conv2D)           (None, 32, 32, 32)        18464     \n",
            "                                                                 \n",
            " conv2d_5 (Conv2D)           (None, 32, 32, 3)         99        \n",
            "                                                                 \n",
            " activation (Activation)     (None, 32, 32, 3)         0         \n",
            "                                                                 \n",
            "=================================================================\n",
            "Total params: 20,355\n",
            "Trainable params: 20,355\n",
            "Non-trainable params: 0\n",
            "_________________________________________________________________\n"
          ]
        }
      ]
    },
    {
      "cell_type": "code",
      "source": [
        "img_encoded = ae.encoder(x_test).numpy()\n",
        "img_decoded = ae.decoder(img_encoded).numpy()\n",
        "\n",
        "print(\"Evaluate\")\n",
        "result = ae.evaluate(x_test, x_test)\n",
        "print(ae.metrics_names)\n",
        "print(result)\n"
      ],
      "metadata": {
        "colab": {
          "base_uri": "https://localhost:8080/"
        },
        "id": "5zASuCFsB6kS",
        "outputId": "53cbcb31-e11f-463d-8a2c-d0b2769dca49"
      },
      "execution_count": null,
      "outputs": [
        {
          "output_type": "stream",
          "name": "stdout",
          "text": [
            "Evaluate\n",
            "313/313 [==============================] - 1s 3ms/step - loss: 0.0121\n",
            "['loss']\n",
            "0.012102036736905575\n"
          ]
        }
      ]
    },
    {
      "cell_type": "code",
      "source": [
        "example = 200\n",
        "\n",
        "print(\"Input representation dimension (shape):\", x_test[example].shape)\n",
        "print(\"Latent space dimension (shape):\", img_encoded[example].shape)\n",
        "\n",
        "print(\"Label for the example:\", class_names[int(y_test[example])])\n",
        "\n",
        "matplotlib.rcParams.update({'font.size': 16})\n",
        "fig, (ax1, ax2, ax3) = plt.subplots(1, 3, figsize=(11,11))\n",
        "\n",
        "ax1.set_title(\"Original\")\n",
        "ax1.imshow(x_test[example], cmap='gray')\n",
        "\n",
        "ax2.set_title(\"Reconstructed\")\n",
        "ax2.imshow(img_decoded[example], cmap='gray')\n",
        "\n",
        "ax3.set_title(\"Difference\")\n",
        "ax3.imshow(np.abs(img_decoded[example]-x_test[example]), cmap='gray')\n",
        "plt.show()"
      ],
      "metadata": {
        "colab": {
          "base_uri": "https://localhost:8080/",
          "height": 309
        },
        "id": "-qmeb89TB9ha",
        "outputId": "e3780e51-1ed3-46b2-a896-0282438b9aa5"
      },
      "execution_count": null,
      "outputs": [
        {
          "output_type": "stream",
          "name": "stdout",
          "text": [
            "Input representation dimension (shape): (32, 32, 3)\n",
            "Latent space dimension (shape): (8, 8, 3)\n",
            "Label for the example: dog\n"
          ]
        },
        {
          "output_type": "display_data",
          "data": {
            "text/plain": [
              "<Figure size 792x792 with 3 Axes>"
            ],
            "image/png": "[encoded data removed]"
          },
          "metadata": {
            "needs_background": "light"
          }
        }
      ]
    },
    {
      "cell_type": "markdown",
      "source": [
        "Jak widać efekt rekonstrukcyjny jest znacznie lepszy niż dla prostego, płytkiego autokodera przy podobnej liczbie epok."
      ],
      "metadata": {
        "id": "V2j5RytqG0xf"
      }
    },
    {
      "cell_type": "code",
      "source": [
        "noise_amp = 0.1\n",
        "noise = noise_amp * np.random.normal(size=(32,32,3))\n",
        "print(f\" Max noise value is {np.max(noise)}\")\n",
        "true_image = x_test[example]\n",
        "img_example = np.array(true_image + noise)\n",
        "img_example = np.interp(img_example, (img_example.min(), img_example.max()), (0, 1))\n",
        "\n",
        "img_example=img_example.reshape((1,32,32,3))\n",
        "\n",
        "\n",
        "img_example_encoded = ae.encoder(img_example).numpy()\n",
        "img_example_decoded = ae.decoder(img_example_encoded).numpy()\n",
        "\n",
        "matplotlib.rcParams.update({'font.size': 16})\n",
        "fig, (ax1, ax2, ax3, ax4) = plt.subplots(1, 4, figsize=(11,11))\n",
        "\n",
        "ax1.set_title(\"Original\")\n",
        "ax1.imshow(true_image, cmap='gray')\n",
        "\n",
        "ax2.set_title(\"Noisy\")\n",
        "ax2.imshow(img_example[0], cmap='gray')\n",
        "\n",
        "ax3.set_title(\"Reconstructed\")\n",
        "ax3.imshow(img_example_decoded[0], cmap='gray')\n",
        "\n",
        "ax4.set_title(\"Difference\")\n",
        "ax4.imshow(np.abs(img_example_decoded[0]-img_example[0]), cmap='gray')\n",
        "plt.show()"
      ],
      "metadata": {
        "colab": {
          "base_uri": "https://localhost:8080/",
          "height": 225
        },
        "id": "PNEEnVmhCAZX",
        "outputId": "cc186d36-cab4-44e8-a4af-fb7c24294cb4"
      },
      "execution_count": null,
      "outputs": [
        {
          "output_type": "stream",
          "name": "stdout",
          "text": [
            " Max noise value is 0.39229029392784454\n"
          ]
        },
        {
          "output_type": "display_data",
          "data": {
            "text/plain": [
              "<Figure size 792x792 with 4 Axes>"
            ],
            "image/png": "[encoded data removed]"
          },
          "metadata": {
            "needs_background": "light"
          }
        }
      ]
    },
    {
      "cell_type": "markdown",
      "source": [
        "Zasotosowany model dla danych zaszumionych zredukował szum, ale zrekonstruowany obraz nie jest w pełni zadawalający."
      ],
      "metadata": {
        "id": "XCvQd8VtHBdT"
      }
    },
    {
      "cell_type": "markdown",
      "metadata": {
        "id": "OhTsnIlXXPzK"
      },
      "source": [
        "\n",
        "\n",
        "Zachęcam do eksperymentowania:\n",
        "1. Zmniejsz współczynnik kompresji, czyli zwiększ wymiar latent space\n",
        "2. Wprowdzić zmiany do procedury treningu: więcej epok, itp.\n",
        "3. Wprowadzić zmiany do wyżej przedstawionego modelu autokodera - dodać inne warstwy i elementy topologii poznane z wcześniejszych zajęć (np. elementy bloku incepcji lub bloku rezydualnego).\n",
        "4. Przetrenować model na danych zaszumionych (X) względem danych oryginalnych (Y) i sprawdzić jak model poradzi sobie z zaszumionymi danymi testowymi.\n",
        "5. Zastosuj warstwę Conv2DTranspose zamiast UpSampling2D i Conv2D\n",
        "5. itd."
      ]
    },
    {
      "cell_type": "markdown",
      "source": [
        "Na koniec zaproponujmy model wykorzystujący zarówno warstwy splotowe jak i warstwy gęste (Dense).\n"
      ],
      "metadata": {
        "id": "WdtazXf5Hw7K"
      }
    },
    {
      "cell_type": "code",
      "source": [
        "class DMAE(tf.keras.models.Model):\n",
        "  def __init__(self, data_shape, lat_dim, enc_act, dec_act, padding='same'):\n",
        "    super(DMAE, self).__init__()\n",
        "    self.spatial_dim = lat_dim\n",
        "    self.latent_space_dim = lat_dim * 3\n",
        "    self.rows_columns = int(np.sqrt(lat_dim))\n",
        "    self.m_name = \"Mixed Convolutional Autoencoder\"\n",
        "\n",
        "    self.encoder = tf.keras.Sequential([\n",
        "      layers.Conv2D(32, 3, activation=enc_act, padding=padding),\n",
        "      layers.MaxPool2D(2),\n",
        "      layers.Conv2D(64, 3, activation=enc_act, padding=padding),\n",
        "      layers.MaxPool2D(2),\n",
        "      layers.Conv2D(128, 3, activation=enc_act, padding=padding),\n",
        "      layers.LayerNormalization(),\n",
        "      # Spatial shape is (8,8) - we used MaxPool two times\n",
        "      layers.Flatten(),\n",
        "      layers.Dense(self.latent_space_dim, activation=enc_act),\n",
        "    ])\n",
        "\n",
        "    # We used MaxPool two times, so we need to upscale two times in the decoder\n",
        "    self.decoder = tf.keras.Sequential([\n",
        "      layers.Dense(self.latent_space_dim, activation=dec_act),\n",
        "      layers.Reshape((self.rows_columns, self.rows_columns, data_shape[3])),\n",
        "      # BE CAREFUL - tune upscaling to latent space dim\n",
        "      # Restore the resolution: upscale with interpolation and normal convolution\n",
        "      layers.UpSampling2D((2, 2), interpolation=\"nearest\"),\n",
        "      layers.Conv2D(64, 3, activation=dec_act, padding=padding),\n",
        "      layers.UpSampling2D((2,2), interpolation=\"nearest\"),\n",
        "      layers.Conv2D(32, 3, activation=dec_act, padding=padding),\n",
        "      # OR - pptionally, Use Conv2DTranspose with stride=2 to upscale and pseudo-deconvolution\n",
        "      # To do so, please replase 2 pairs of UpSampling2D and Conv2D layers with:\n",
        "      # layers.Conv2DTranspose(64, 3, strides=(2, 2), activation=dec_act, padding=padding),\n",
        "      # layers.Conv2DTranspose(32, 3, strides=(2, 2), activation=dec_act, padding=padding),\n",
        "\n",
        "      layers.Conv2D(3, 1),  # Generate 3 channels\n",
        "      layers.Activation(\"sigmoid\"),  # Scale output to get values in range (0,1)\n",
        "    ])\n",
        "\n",
        "  # forward projection\n",
        "  def call(self, x):\n",
        "    z = self.encoder(x)\n",
        "    x_e = self.decoder(z)\n",
        "    return x_e"
      ],
      "metadata": {
        "id": "QYu4QWEZHx7A"
      },
      "execution_count": null,
      "outputs": []
    },
    {
      "cell_type": "markdown",
      "source": [
        "Przprowadźmy trening modelu."
      ],
      "metadata": {
        "id": "y0-9DgPxF8_j"
      }
    },
    {
      "cell_type": "code",
      "source": [
        "latent_space_depth_dim = 8*8\n",
        "encoder_activation = 'relu'\n",
        "decoder_activation = 'sigmoid'\n",
        "epochs = 20\n",
        "print(x_train.shape)\n",
        "\n",
        "ae = DMAE(x_train.shape, latent_space_depth_dim, encoder_activation, decoder_activation)\n",
        "ae.compile(optimizer='adam', loss=losses.MeanSquaredError())\n",
        "\n",
        "ae.fit(x_train, x_train, epochs=epochs, shuffle=True,\n",
        "       validation_data=(x_test, x_test))\n",
        "\n",
        "\n",
        "in_shape = x_train[0].shape\n",
        "in_shape_size = in_shape[0] * in_shape[1] * in_shape[2]\n",
        "print(\"\\n\\n\")\n",
        "print(f\"Input shape is {in_shape}, data length is {in_shape_size}\")\n",
        "print(f\"Latent space data length is {ae.latent_space_dim}\")\n",
        "\n",
        "if in_shape_size > ae.latent_space_dim:\n",
        "    print(f\"The {ae.m_name} is an undercomplete autoencoder\")\n",
        "else:\n",
        "    print(f\"The {ae.m_name} is a sparse autoencoder\")"
      ],
      "metadata": {
        "colab": {
          "base_uri": "https://localhost:8080/"
        },
        "id": "VlNj_-FETOwX",
        "outputId": "408abde9-cc6c-4156-afb9-0d1f5f0acdb4"
      },
      "execution_count": null,
      "outputs": [
        {
          "output_type": "stream",
          "name": "stdout",
          "text": [
            "(50000, 32, 32, 3)\n",
            "Epoch 1/20\n",
            "1563/1563 [==============================] - 12s 7ms/step - loss: 0.0178 - val_loss: 0.0133\n",
            "Epoch 2/20\n",
            "1563/1563 [==============================] - 11s 7ms/step - loss: 0.0119 - val_loss: 0.0089\n",
            "Epoch 3/20\n",
            "1563/1563 [==============================] - 11s 7ms/step - loss: 0.0080 - val_loss: 0.0076\n",
            "Epoch 4/20\n",
            "1563/1563 [==============================] - 11s 7ms/step - loss: 0.0070 - val_loss: 0.0070\n",
            "Epoch 5/20\n",
            "1563/1563 [==============================] - 11s 7ms/step - loss: 0.0066 - val_loss: 0.0064\n",
            "Epoch 6/20\n",
            "1563/1563 [==============================] - 11s 7ms/step - loss: 0.0063 - val_loss: 0.0062\n",
            "Epoch 7/20\n",
            "1563/1563 [==============================] - 11s 7ms/step - loss: 0.0068 - val_loss: 0.0063\n",
            "Epoch 8/20\n",
            "1563/1563 [==============================] - 11s 7ms/step - loss: 0.0061 - val_loss: 0.0060\n",
            "Epoch 9/20\n",
            "1563/1563 [==============================] - 10s 7ms/step - loss: 0.0060 - val_loss: 0.0062\n",
            "Epoch 10/20\n",
            "1563/1563 [==============================] - 11s 7ms/step - loss: 0.0059 - val_loss: 0.0058\n",
            "Epoch 11/20\n",
            "1563/1563 [==============================] - 11s 7ms/step - loss: 0.0059 - val_loss: 0.0058\n",
            "Epoch 12/20\n",
            "1563/1563 [==============================] - 11s 7ms/step - loss: 0.0057 - val_loss: 0.0055\n",
            "Epoch 13/20\n",
            "1563/1563 [==============================] - 10s 7ms/step - loss: 0.0056 - val_loss: 0.0055\n",
            "Epoch 14/20\n",
            "1563/1563 [==============================] - 11s 7ms/step - loss: 0.0055 - val_loss: 0.0054\n",
            "Epoch 15/20\n",
            "1563/1563 [==============================] - 11s 7ms/step - loss: 0.0055 - val_loss: 0.0054\n",
            "Epoch 16/20\n",
            "1563/1563 [==============================] - 11s 7ms/step - loss: 0.0054 - val_loss: 0.0055\n",
            "Epoch 17/20\n",
            "1563/1563 [==============================] - 11s 7ms/step - loss: 0.0054 - val_loss: 0.0054\n",
            "Epoch 18/20\n",
            "1563/1563 [==============================] - 11s 7ms/step - loss: 0.0054 - val_loss: 0.0053\n",
            "Epoch 19/20\n",
            "1563/1563 [==============================] - 11s 7ms/step - loss: 0.0053 - val_loss: 0.0054\n",
            "Epoch 20/20\n",
            "1563/1563 [==============================] - 11s 7ms/step - loss: 0.0053 - val_loss: 0.0052\n",
            "\n",
            "\n",
            "\n",
            "Input shape is (32, 32, 3), data length is 3072\n",
            "Latent space data length is 192\n",
            "The Mixed Convolutional Autoencoder is an undercomplete autoencoder\n"
          ]
        }
      ]
    },
    {
      "cell_type": "code",
      "source": [
        "print(\"Total DAE model summary:\")\n",
        "ae.summary()\n",
        "\n",
        "\n",
        "print(\"Encoder summary:\")\n",
        "ae.encoder.summary()\n",
        "\n",
        "print(\"Decoder summary:\")\n",
        "ae.decoder.summary()"
      ],
      "metadata": {
        "colab": {
          "base_uri": "https://localhost:8080/"
        },
        "id": "mcFrZSOuTaiH",
        "outputId": "e102e2d2-ce60-405c-d85e-4d859787fdef"
      },
      "execution_count": null,
      "outputs": [
        {
          "output_type": "stream",
          "name": "stdout",
          "text": [
            "Total DAE model summary:\n",
            "Model: \"dmae\"\n",
            "_________________________________________________________________\n",
            " Layer (type)                Output Shape              Param #   \n",
            "=================================================================\n",
            " sequential_4 (Sequential)   (None, 192)               1666560   \n",
            "                                                                 \n",
            " sequential_5 (Sequential)   (None, 32, 32, 3)         57411     \n",
            "                                                                 \n",
            "=================================================================\n",
            "Total params: 1,723,971\n",
            "Trainable params: 1,723,971\n",
            "Non-trainable params: 0\n",
            "_________________________________________________________________\n",
            "Encoder summary:\n",
            "Model: \"sequential_4\"\n",
            "_________________________________________________________________\n",
            " Layer (type)                Output Shape              Param #   \n",
            "=================================================================\n",
            " conv2d_6 (Conv2D)           (None, 32, 32, 32)        896       \n",
            "                                                                 \n",
            " max_pooling2d_2 (MaxPooling  (None, 16, 16, 32)       0         \n",
            " 2D)                                                             \n",
            "                                                                 \n",
            " conv2d_7 (Conv2D)           (None, 16, 16, 64)        18496     \n",
            "                                                                 \n",
            " max_pooling2d_3 (MaxPooling  (None, 8, 8, 64)         0         \n",
            " 2D)                                                             \n",
            "                                                                 \n",
            " conv2d_8 (Conv2D)           (None, 8, 8, 128)         73856     \n",
            "                                                                 \n",
            " layer_normalization_1 (Laye  (None, 8, 8, 128)        256       \n",
            " rNormalization)                                                 \n",
            "                                                                 \n",
            " flatten_1 (Flatten)         (None, 8192)              0         \n",
            "                                                                 \n",
            " dense_2 (Dense)             (None, 192)               1573056   \n",
            "                                                                 \n",
            "=================================================================\n",
            "Total params: 1,666,560\n",
            "Trainable params: 1,666,560\n",
            "Non-trainable params: 0\n",
            "_________________________________________________________________\n",
            "Decoder summary:\n",
            "Model: \"sequential_5\"\n",
            "_________________________________________________________________\n",
            " Layer (type)                Output Shape              Param #   \n",
            "=================================================================\n",
            " dense_3 (Dense)             (None, 192)               37056     \n",
            "                                                                 \n",
            " reshape_1 (Reshape)         (None, 8, 8, 3)           0         \n",
            "                                                                 \n",
            " up_sampling2d_2 (UpSampling  (None, 16, 16, 3)        0         \n",
            " 2D)                                                             \n",
            "                                                                 \n",
            " conv2d_9 (Conv2D)           (None, 16, 16, 64)        1792      \n",
            "                                                                 \n",
            " up_sampling2d_3 (UpSampling  (None, 32, 32, 64)       0         \n",
            " 2D)                                                             \n",
            "                                                                 \n",
            " conv2d_10 (Conv2D)          (None, 32, 32, 32)        18464     \n",
            "                                                                 \n",
            " conv2d_11 (Conv2D)          (None, 32, 32, 3)         99        \n",
            "                                                                 \n",
            " activation_1 (Activation)   (None, 32, 32, 3)         0         \n",
            "                                                                 \n",
            "=================================================================\n",
            "Total params: 57,411\n",
            "Trainable params: 57,411\n",
            "Non-trainable params: 0\n",
            "_________________________________________________________________\n"
          ]
        }
      ]
    },
    {
      "cell_type": "markdown",
      "source": [
        "Porównajmy wartośc funkcjo kosztu dla zbioru testowego bieżącego modelu, z modelem poprzednim."
      ],
      "metadata": {
        "id": "du33zsmcGGrT"
      }
    },
    {
      "cell_type": "code",
      "source": [
        "img_encoded = ae.encoder(x_test).numpy()\n",
        "img_decoded = ae.decoder(img_encoded).numpy()\n",
        "print(\"Evaluate\")\n",
        "result = ae.evaluate(x_test, x_test)\n",
        "print(ae.metrics_names)\n",
        "print(result)"
      ],
      "metadata": {
        "colab": {
          "base_uri": "https://localhost:8080/"
        },
        "id": "0aek_bgrUaLg",
        "outputId": "ab1b2095-08e0-4150-8ff2-2ea6c859de45"
      },
      "execution_count": null,
      "outputs": [
        {
          "output_type": "stream",
          "name": "stdout",
          "text": [
            "Evaluate\n",
            "313/313 [==============================] - 1s 3ms/step - loss: 0.0052\n",
            "['loss']\n",
            "0.005219983868300915\n"
          ]
        }
      ]
    },
    {
      "cell_type": "code",
      "source": [
        "example = 200\n",
        "\n",
        "print(\"Input representation dimension (shape):\", x_test[example].shape)\n",
        "print(\"Latent space dimension (shape):\", img_encoded[example].shape)\n",
        "\n",
        "print(\"Label for the example:\", class_names[int(y_test[example])])\n",
        "\n",
        "matplotlib.rcParams.update({'font.size': 16})\n",
        "fig, (ax1, ax2, ax3) = plt.subplots(1, 3, figsize=(11,11))\n",
        "\n",
        "ax1.set_title(\"Original\")\n",
        "ax1.imshow(x_test[example], cmap='gray')\n",
        "\n",
        "ax2.set_title(\"Reconstructed\")\n",
        "ax2.imshow(img_decoded[example], cmap='gray')\n",
        "\n",
        "ax3.set_title(\"Difference\")\n",
        "ax3.imshow(np.abs(img_decoded[example]-x_test[example]), cmap='gray')\n",
        "plt.show()"
      ],
      "metadata": {
        "colab": {
          "base_uri": "https://localhost:8080/",
          "height": 309
        },
        "id": "HfhAccPCUav1",
        "outputId": "09afdf17-e57e-452c-fad4-6efebd641dd4"
      },
      "execution_count": null,
      "outputs": [
        {
          "output_type": "stream",
          "name": "stdout",
          "text": [
            "Input representation dimension (shape): (32, 32, 3)\n",
            "Latent space dimension (shape): (192,)\n",
            "Label for the example: dog\n"
          ]
        },
        {
          "output_type": "display_data",
          "data": {
            "text/plain": [
              "<Figure size 792x792 with 3 Axes>"
            ],
            "image/png": "[encoded data removed]"
          },
          "metadata": {
            "needs_background": "light"
          }
        }
      ]
    },
    {
      "cell_type": "code",
      "source": [
        "noise_amp = 0.1\n",
        "noise = noise_amp * np.random.normal(size=(32,32,3))\n",
        "print(f\" Max noise value is {np.max(noise)}\")\n",
        "true_image = x_test[example]\n",
        "img_example = np.array(true_image + noise)\n",
        "img_example = np.interp(img_example, (img_example.min(), img_example.max()), (0, 1))\n",
        "\n",
        "img_example=img_example.reshape((1,32,32,3))\n",
        "\n",
        "\n",
        "img_example_encoded = ae.encoder(img_example).numpy()\n",
        "img_example_decoded = ae.decoder(img_example_encoded).numpy()\n",
        "\n",
        "matplotlib.rcParams.update({'font.size': 16})\n",
        "fig, (ax1, ax2, ax3, ax4) = plt.subplots(1, 4, figsize=(11,11))\n",
        "\n",
        "ax1.set_title(\"Original\")\n",
        "ax1.imshow(true_image, cmap='gray')\n",
        "\n",
        "ax2.set_title(\"Noisy\")\n",
        "ax2.imshow(img_example[0], cmap='gray')\n",
        "\n",
        "ax3.set_title(\"Reconstructed\")\n",
        "ax3.imshow(img_example_decoded[0], cmap='gray')\n",
        "\n",
        "ax4.set_title(\"Difference\")\n",
        "ax4.imshow(np.abs(img_example_decoded[0]-img_example[0]), cmap='gray')\n",
        "plt.show()"
      ],
      "metadata": {
        "colab": {
          "base_uri": "https://localhost:8080/",
          "height": 225
        },
        "id": "w7rO4nMpUdu2",
        "outputId": "3c4f630a-d352-49c7-dc57-13f98fd4eeb9"
      },
      "execution_count": null,
      "outputs": [
        {
          "output_type": "stream",
          "name": "stdout",
          "text": [
            " Max noise value is 0.35368445131364584\n"
          ]
        },
        {
          "output_type": "display_data",
          "data": {
            "text/plain": [
              "<Figure size 792x792 with 4 Axes>"
            ],
            "image/png": "[encoded data removed]"
          },
          "metadata": {
            "needs_background": "light"
          }
        }
      ]
    },
    {
      "cell_type": "markdown",
      "metadata": {
        "id": "Y-6yXHJ03Low"
      },
      "source": [
        "<center>\n",
        "Projekt współfinansowany ze środków Unii Europejskiej w ramach Europejskiego Funduszu Rozwoju Regionalnego\n",
        "Program Operacyjny Polska Cyfrowa na lata 2014-2020,\n",
        "Oś Priorytetowa nr 3 \"Cyfrowe kompetencje społeczeństwa\" Działanie  nr 3.2 \"Innowacyjne rozwiązania na rzecz aktywizacji cyfrowej\"\n",
        "Tytuł projektu:  „Akademia Innowacyjnych Zastosowań Technologii Cyfrowych (AI Tech)”\n",
        "    </center>"
      ]
    }
  ]
}