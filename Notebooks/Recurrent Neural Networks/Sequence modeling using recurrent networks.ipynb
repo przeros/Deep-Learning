{
  "nbformat": 4,
  "nbformat_minor": 0,
  "metadata": {
    "colab": {
      "provenance": []
    },
    "kernelspec": {
      "name": "python3",
      "display_name": "Python 3"
    },
    "language_info": {
      "name": "python"
    }
  },
  "cells": [
    {
      "cell_type": "markdown",
      "metadata": {
        "id": "Ggb6rxlMF8b_"
      },
      "source": [
        "##### AI TECH - Akademia Innowacyjnych Zastosowań Technologii Cyfrowych. Programu Operacyjnego Polska Cyfrowa na lata 2014-2020\n",
        "<hr>\n"
      ]
    },
    {
      "cell_type": "code",
      "metadata": {
        "colab": {
          "base_uri": "https://localhost:8080/",
          "height": 175
        },
        "id": "r7XNxsqlGAGV",
        "cellView": "form",
        "outputId": "9db38602-4a55-4503-b196-b736b857c685"
      },
      "source": [
        "#@title\n",
        "%%html\n",
        "<iframe src=\"https://www.polskacyfrowa.gov.pl/media/48246/FE_POPC_poziom_pl-1_rgb.jpg\" width=\"800\"></iframe>\n"
      ],
      "execution_count": null,
      "outputs": [
        {
          "output_type": "display_data",
          "data": {
            "text/plain": [
              "<IPython.core.display.HTML object>"
            ],
            "text/html": [
              "<iframe src=\"https://www.polskacyfrowa.gov.pl/media/48246/FE_POPC_poziom_pl-1_rgb.jpg\" width=\"800\"></iframe>\n"
            ]
          },
          "metadata": {}
        }
      ]
    },
    {
      "cell_type": "markdown",
      "metadata": {
        "id": "wf5AjzXOGCX5"
      },
      "source": [
        "# Uczenie głębokie\n",
        "\n",
        "Szymon Zaporowski, Politechnika Gdańska, Wydział ETI, Katedra Systemów Multimedialnych\n",
        "\n",
        "**Wykład 8:** Rekurencyjne Sieci Neuronowe\n",
        "\n",
        "**Przykład (1):** Modelowanie sekwencji z użyciem sieci reurencyjnych\n"
      ]
    },
    {
      "cell_type": "markdown",
      "metadata": {
        "id": "bHthB3msGMbW"
      },
      "source": [
        "Poniższy przykład będzie prosta ilustracją w jaki sposób z użyciem różnych wariantów sieci rekurencyjnych można prognować szeregi czasowe.\n",
        "Wykorzystamy naiwny przykład z użyciem jednowymiarowych danych tworzących pewien szereg."
      ]
    },
    {
      "cell_type": "markdown",
      "metadata": {
        "id": "bxkRD01JG0E4"
      },
      "source": [
        "Zaimportujmy niezbędne biblioteki:"
      ]
    },
    {
      "cell_type": "code",
      "metadata": {
        "id": "1LQHI8TJG3cL"
      },
      "source": [
        "from numpy import array\n",
        "from keras.models import Sequential\n",
        "from keras.layers import LSTM\n",
        "from keras.layers import Dense\n",
        "from keras.layers import SimpleRNN\n",
        "from keras.layers import GRU"
      ],
      "execution_count": null,
      "outputs": []
    },
    {
      "cell_type": "markdown",
      "metadata": {
        "id": "XNYEzDmiG-tv"
      },
      "source": [
        "Zdefinujmy funkcję, która dzieli prostą sekwencję na próbki"
      ]
    },
    {
      "cell_type": "code",
      "metadata": {
        "id": "hksP9kUgHEbK"
      },
      "source": [
        "def split_sequence(sequence, n_steps):\n",
        "\tX, y = list(), list()\n",
        "\tfor i in range(len(sequence)):\n",
        "\t\t# znajdźmy koniec wzoru w sekwencji\n",
        "\t\tend_ix = i + n_steps\n",
        "\t\t# sprawdzenie czy nie jesteśmy poza sekwencją\n",
        "\t\tif end_ix > len(sequence)-1:\n",
        "\t\t\tbreak\n",
        "\t\t#  zebranie poczatkowych i końcowych części sekwencji\n",
        "\t\tseq_x, seq_y = sequence[i:end_ix], sequence[end_ix]\n",
        "\t\tX.append(seq_x)\n",
        "\t\ty.append(seq_y)\n",
        "\treturn array(X), array(y)"
      ],
      "execution_count": null,
      "outputs": []
    },
    {
      "cell_type": "code",
      "metadata": {
        "id": "wga8Yq8_Hndr"
      },
      "source": [
        "#sekwencja\n",
        "raw_seq = [10, 20, 30, 40, 50, 60, 70, 80, 90]\n",
        "#liczba kroków czasowych\n",
        "n_steps = 3"
      ],
      "execution_count": null,
      "outputs": []
    },
    {
      "cell_type": "code",
      "metadata": {
        "colab": {
          "base_uri": "https://localhost:8080/"
        },
        "id": "Y4eRuKzyEY6V",
        "outputId": "e5b780ca-7e8f-4981-edd1-4d4fe6a42281"
      },
      "source": [
        "# podział na próbki\n",
        "X, y = split_sequence(raw_seq, n_steps)\n",
        "# pętla pritnująca próbki dla każdego kroku czasowego i przediału\n",
        "for i in range(len(X)):\n",
        "\tprint(X[i], y[i])"
      ],
      "execution_count": null,
      "outputs": [
        {
          "output_type": "stream",
          "name": "stdout",
          "text": [
            "[10 20 30] 40\n",
            "[20 30 40] 50\n",
            "[30 40 50] 60\n",
            "[40 50 60] 70\n",
            "[50 60 70] 80\n",
            "[60 70 80] 90\n"
          ]
        }
      ]
    },
    {
      "cell_type": "code",
      "metadata": {
        "id": "MKIEKm_GI1hl",
        "colab": {
          "base_uri": "https://localhost:8080/"
        },
        "outputId": "a6d8a3e9-b229-4ff3-d55a-51f8d8e1cdd5"
      },
      "source": [
        "# zmieniamy kształt wektora z [samples, timesteps] do [samples, timesteps, features]\n",
        "n_features = 1\n",
        "X = X.reshape((X.shape[0], X.shape[1], n_features))\n",
        "print(X.shape)"
      ],
      "execution_count": null,
      "outputs": [
        {
          "output_type": "stream",
          "name": "stdout",
          "text": [
            "(6, 3, 1)\n"
          ]
        }
      ]
    },
    {
      "cell_type": "code",
      "metadata": {
        "id": "DXpr4P70JB3A"
      },
      "source": [
        "model = Sequential()\n",
        "model.add(SimpleRNN(50, activation='relu', input_shape=(n_steps, n_features)))\n",
        "model.add(Dense(1))\n",
        "model.compile(optimizer='adam', loss='mse')"
      ],
      "execution_count": null,
      "outputs": []
    },
    {
      "cell_type": "code",
      "metadata": {
        "colab": {
          "base_uri": "https://localhost:8080/"
        },
        "id": "J8cS_nQpJClu",
        "outputId": "be748388-03e9-42b0-acf9-efa103e44c66"
      },
      "source": [
        "\n",
        "model.fit(X, y, epochs=200, verbose=0)\n",
        "# dokonajmy predykcji z uzyciem sekwencji [70, 80, 90]\n",
        "x_input = array([70, 80, 90])\n",
        "x_input = x_input.reshape((1, n_steps, n_features))\n",
        "y_predict = model.predict(x_input, verbose=0)\n",
        "print(y_predict)"
      ],
      "execution_count": null,
      "outputs": [
        {
          "output_type": "stream",
          "name": "stdout",
          "text": [
            "[[105.72211]]\n"
          ]
        }
      ]
    },
    {
      "cell_type": "markdown",
      "metadata": {
        "id": "2AgmzMJDJz4p"
      },
      "source": [
        "Otrzymana wartośc to prawie 110, oczekiwana to 100. Jak widać zwykły RNN nie radzi sobie najlepiej z taką predykcją.\n",
        "Dokonajmy pewnej zmiany i użyjmy komórek LSTM.\n",
        "Zdefiniujmy nowy model"
      ]
    },
    {
      "cell_type": "code",
      "metadata": {
        "id": "Eq4xLD7zKAcK"
      },
      "source": [
        "model_LSTM = Sequential()\n",
        "model_LSTM.add(LSTM(50, activation='relu', input_shape=(n_steps, n_features)))\n",
        "model_LSTM.add(Dense(1))\n",
        "model_LSTM.compile(optimizer='adam', loss='mse')"
      ],
      "execution_count": null,
      "outputs": []
    },
    {
      "cell_type": "markdown",
      "metadata": {
        "id": "UDX4RYqZKaAF"
      },
      "source": [
        "Wykonajmy predykcje z użyciem nowego modelu:"
      ]
    },
    {
      "cell_type": "code",
      "metadata": {
        "colab": {
          "base_uri": "https://localhost:8080/"
        },
        "id": "DIjAvUX1KYSN",
        "outputId": "16fd157f-1eba-4013-8bf6-b992579b5794"
      },
      "source": [
        "model_LSTM.fit(X, y, epochs=200, verbose=0)\n",
        "# dokonajmy ponownej predykcji z uzyciem sekwencji [70, 80, 90]\n",
        "x_input = array([70, 80, 90])\n",
        "x_input = x_input.reshape((1, n_steps, n_features))\n",
        "y_predict = model_LSTM.predict(x_input, verbose=0)\n",
        "print(y_predict)"
      ],
      "execution_count": null,
      "outputs": [
        {
          "output_type": "stream",
          "name": "stdout",
          "text": [
            "[[102.356316]]\n"
          ]
        }
      ]
    },
    {
      "cell_type": "markdown",
      "metadata": {
        "id": "m-r_D2AMKmDS"
      },
      "source": [
        "Jak widać wartość otrzymana w wyniku użycia LSTM jest znacznie bliższa faktycznego stanu niż podczas korzystania z prostego RNN\n",
        "Sprawdźmy jeszcze jak wynik będzie wyglądał w przypadku użycia warstwy GRU"
      ]
    },
    {
      "cell_type": "code",
      "metadata": {
        "id": "oJbE8QQqLGml"
      },
      "source": [
        "model_GRU = Sequential()\n",
        "model_GRU.add(GRU(50, activation='relu', input_shape=(n_steps, n_features)))\n",
        "model_GRU.add(Dense(1))\n",
        "model_GRU.compile(optimizer='adam', loss='mse')"
      ],
      "execution_count": null,
      "outputs": []
    },
    {
      "cell_type": "markdown",
      "metadata": {
        "id": "cR1-svV7LG7k"
      },
      "source": [
        "Teraz dokonajmy predykcji, ponownie ta sama sekwencja wejściowa:"
      ]
    },
    {
      "cell_type": "code",
      "metadata": {
        "colab": {
          "base_uri": "https://localhost:8080/"
        },
        "id": "h_lXmjvVLOmU",
        "outputId": "76b47709-5110-431e-c9d1-7f23741e62cc"
      },
      "source": [
        "model_GRU.fit(X, y, epochs=200, verbose=0)\n",
        "#Predykcja z użyciem sekwencji [70, 80, 90]\n",
        "x_input = array([70, 80, 90])\n",
        "x_input = x_input.reshape((1, n_steps, n_features))\n",
        "predict_y = model_GRU.predict(x_input, verbose=0)\n",
        "print(predict_y )"
      ],
      "execution_count": null,
      "outputs": [
        {
          "output_type": "stream",
          "name": "stdout",
          "text": [
            "[[102.25266]]\n"
          ]
        }
      ]
    },
    {
      "cell_type": "markdown",
      "metadata": {
        "id": "ul-q283MLXah"
      },
      "source": [
        "Wyniki dla LSTM i GRU są bardzo zbliżone, jak widać nowoczesne wersje sieci RNN spisują się lepiej niż klasyczne podejście"
      ]
    },
    {
      "cell_type": "markdown",
      "metadata": {
        "id": "ztwkhInqLic8"
      },
      "source": [
        "Zachęcam do eksperymentowania z notatnikiem, prób zmiany sekwencji, korków czasowych, liczby neuronów, funkcji aktywacji itp."
      ]
    },
    {
      "cell_type": "markdown",
      "metadata": {
        "id": "NqdT1_tULn_6"
      },
      "source": [
        "<center>\n",
        "Projekt współfinansowany ze środków Unii Europejskiej w ramach Europejskiego Funduszu Rozwoju Regionalnego\n",
        "Program Operacyjny Polska Cyfrowa na lata 2014-2020,\n",
        "Oś Priorytetowa nr 3 \"Cyfrowe kompetencje społeczeństwa\" Działanie  nr 3.2 \"Innowacyjne rozwiązania na rzecz aktywizacji cyfrowej\"\n",
        "Tytuł projektu:  „Akademia Innowacyjnych Zastosowań Technologii Cyfrowych (AI Tech)”\n",
        "    </center>"
      ]
    },
    {
      "cell_type": "code",
      "source": [],
      "metadata": {
        "id": "Iq-31peLMB3L"
      },
      "execution_count": null,
      "outputs": []
    }
  ]
}