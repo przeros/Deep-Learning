{
  "nbformat": 4,
  "nbformat_minor": 0,
  "metadata": {
    "colab": {
      "provenance": []
    },
    "kernelspec": {
      "name": "python3",
      "display_name": "Python 3"
    },
    "accelerator": "GPU"
  },
  "cells": [
    {
      "cell_type": "markdown",
      "metadata": {
        "id": "rze6EnG6fTik"
      },
      "source": [
        "##### AI TECH - Akademia Innowacyjnych Zastosowań Technologii Cyfrowych. Programu Operacyjnego Polska Cyfrowa na lata 2014-2020\n",
        "<hr>\n"
      ]
    },
    {
      "cell_type": "code",
      "metadata": {
        "cellView": "form",
        "colab": {
          "base_uri": "https://localhost:8080/",
          "height": 176
        },
        "id": "OuaA8rFCfXTP",
        "outputId": "2c28cfee-6b2c-4a04-ba87-474ee0625f0f"
      },
      "source": [
        "#@title\n",
        "%%html\n",
        "<iframe src=\"https://www.polskacyfrowa.gov.pl/media/48246/FE_POPC_poziom_pl-1_rgb.jpg\" width=\"800\"></iframe>\n"
      ],
      "execution_count": null,
      "outputs": [
        {
          "output_type": "display_data",
          "data": {
            "text/html": [
              "<iframe src=\"https://www.polskacyfrowa.gov.pl/media/48246/FE_POPC_poziom_pl-1_rgb.jpg\" width=\"800\"></iframe>"
            ],
            "text/plain": [
              "<IPython.core.display.HTML object>"
            ]
          },
          "metadata": {}
        }
      ]
    },
    {
      "cell_type": "markdown",
      "metadata": {
        "id": "Q6hP8DZKln80"
      },
      "source": [
        "# Uczenie głębokie\n",
        "\n",
        "Jacek Rumiński, Politechnika Gdańska, Wydział ETI, Katedra Inżynierii Biomedycznej\n",
        "\n",
        "**Wykład 5:** Architektury sieci splotowych\n",
        "\n",
        "**Przykład (1):** Wartości początkowe parametrów\n"
      ]
    },
    {
      "cell_type": "markdown",
      "metadata": {
        "id": "9yfD5HsRfosc"
      },
      "source": [
        "W ramach tego notatnika przedstawiamy przykładowe kody umożliwiające praktyczne zapoznanie się z wykorzystaniem różnych metod ustawiania wartości początkowych parametrów podlegających procesowi uczenia.\n",
        "\n",
        "Wskażmy pakiety, z jakich będziemy korzystać:\n"
      ]
    },
    {
      "cell_type": "code",
      "metadata": {
        "id": "DL1UM5173hO5",
        "colab": {
          "base_uri": "https://localhost:8080/"
        },
        "outputId": "67e65e7f-7716-4f35-f8d4-9f9ff86a74dc"
      },
      "source": [
        "import numpy as np\n",
        "import datetime, os\n",
        "import matplotlib.pyplot as plt\n",
        "import matplotlib\n",
        "import seaborn as sns; sns.set_theme()\n",
        "from matplotlib.colors import ListedColormap\n",
        "import tensorflow as tf\n",
        "from tensorflow.keras.regularizers import L2\n",
        "from tensorflow.keras.datasets import cifar10\n",
        "\n",
        "font = {'family' : 'DejaVu Sans',\n",
        "        'weight' : 'bold',\n",
        "        'size'   : 22}\n",
        "\n",
        "# You can try to change your Google Colab environment to GPU\n",
        "print(tf.__version__)\n",
        "\n",
        "# You can always check which packages are installed using:\n",
        "# !pip list"
      ],
      "execution_count": null,
      "outputs": [
        {
          "output_type": "stream",
          "name": "stdout",
          "text": [
            "2.6.0\n"
          ]
        }
      ]
    },
    {
      "cell_type": "code",
      "metadata": {
        "colab": {
          "base_uri": "https://localhost:8080/"
        },
        "id": "IGFHaMk0HN9G",
        "outputId": "4f51c046-d07f-49b3-864c-8a54bf7457fd"
      },
      "source": [
        "# Check if you have GPU resources (Runtime / Change runtime type -> GPU)\n",
        "!nvidia-smi"
      ],
      "execution_count": null,
      "outputs": [
        {
          "output_type": "stream",
          "name": "stdout",
          "text": [
            "Thu Nov  4 15:52:47 2021       \n",
            "+-----------------------------------------------------------------------------+\n",
            "| NVIDIA-SMI 495.44       Driver Version: 460.32.03    CUDA Version: 11.2     |\n",
            "|-------------------------------+----------------------+----------------------+\n",
            "| GPU  Name        Persistence-M| Bus-Id        Disp.A | Volatile Uncorr. ECC |\n",
            "| Fan  Temp  Perf  Pwr:Usage/Cap|         Memory-Usage | GPU-Util  Compute M. |\n",
            "|                               |                      |               MIG M. |\n",
            "|===============================+======================+======================|\n",
            "|   0  Tesla K80           Off  | 00000000:00:04.0 Off |                    0 |\n",
            "| N/A   57C    P0    61W / 149W |   2305MiB / 11441MiB |      0%      Default |\n",
            "|                               |                      |                  N/A |\n",
            "+-------------------------------+----------------------+----------------------+\n",
            "                                                                               \n",
            "+-----------------------------------------------------------------------------+\n",
            "| Processes:                                                                  |\n",
            "|  GPU   GI   CI        PID   Type   Process name                  GPU Memory |\n",
            "|        ID   ID                                                   Usage      |\n",
            "|=============================================================================|\n",
            "|  No running processes found                                                 |\n",
            "+-----------------------------------------------------------------------------+\n"
          ]
        }
      ]
    },
    {
      "cell_type": "code",
      "metadata": {
        "colab": {
          "base_uri": "https://localhost:8080/"
        },
        "id": "dasxAZwXPoA2",
        "outputId": "26dc11ff-a093-461e-a81d-d76cc7ba49bc"
      },
      "source": [
        "# Check devices using TF\n",
        "tf.config.list_physical_devices()"
      ],
      "execution_count": null,
      "outputs": [
        {
          "output_type": "execute_result",
          "data": {
            "text/plain": [
              "[PhysicalDevice(name='/physical_device:CPU:0', device_type='CPU'),\n",
              " PhysicalDevice(name='/physical_device:GPU:0', device_type='GPU')]"
            ]
          },
          "metadata": {},
          "execution_count": 22
        }
      ]
    },
    {
      "cell_type": "markdown",
      "metadata": {
        "id": "VMlIEYtCiiRj"
      },
      "source": [
        "Zróbmy eksperyment ponownie z danymi CIFAR-10."
      ]
    },
    {
      "cell_type": "code",
      "metadata": {
        "id": "ruGHlzH0mUc3",
        "colab": {
          "base_uri": "https://localhost:8080/",
          "height": 286
        },
        "outputId": "353c559b-d3ff-4c49-949a-414cfb6043e1"
      },
      "source": [
        "# Load data and split to training and test datasets\n",
        "\n",
        "(x_train, y_train), (x_test, y_test) = cifar10.load_data()\n",
        "\n",
        "class_names = [\n",
        "'airplane','automobile','bird', 'cat', 'deer' ,\n",
        "'dog', 'frog', 'horse', 'ship', 'truck']\n",
        "\n",
        "# Data properties\n",
        "image_width = 32;\n",
        "image_height = 32;\n",
        "image_components = 3\n",
        "\n",
        "# Show an example\n",
        "example = 200\n",
        "class_id = y_train[example].item()\n",
        "\n",
        "plt.rcParams[\"axes.grid\"] = False\n",
        "plt.imshow(x_train[example])\n",
        "print(\"True original label :\", class_id, class_names[class_id])\n"
      ],
      "execution_count": null,
      "outputs": [
        {
          "output_type": "stream",
          "name": "stdout",
          "text": [
            "True original label : 6 frog\n"
          ]
        },
        {
          "output_type": "display_data",
          "data": {
            "image/png": "[encoded data removed]",
            "text/plain": [
              "<Figure size 432x288 with 1 Axes>"
            ]
          },
          "metadata": {}
        }
      ]
    },
    {
      "cell_type": "markdown",
      "metadata": {
        "id": "MtVSO3jlKM7P"
      },
      "source": [
        "Przygotujmy dane dobierając metodę normalizacji/standaryzacji danych wejściowych."
      ]
    },
    {
      "cell_type": "code",
      "metadata": {
        "id": "KcWE8pYnCR0O",
        "colab": {
          "base_uri": "https://localhost:8080/"
        },
        "outputId": "4cd90bd1-ab85-4baf-8dd9-ba5f1ab2e363"
      },
      "source": [
        "# Show the shape of input data\n",
        "x_train = x_train.astype('float32')\n",
        "x_test = x_test.astype('float32')\n",
        "print(\"X train dataset shape: \", x_train.shape)\n",
        "print(\"Max value in X train: \", np.max(x_train))\n",
        "\n",
        "from tensorflow.keras.utils import to_categorical\n",
        "y_train = to_categorical(y_train)\n",
        "y_test = to_categorical(y_test)\n",
        "\n",
        "# Normalize image data\n",
        "\n",
        "# You can try to standsardize images (using mean and std. dev.)\n",
        "standardize = True\n",
        "\n",
        "if standardize:\n",
        "    # per channel:\n",
        "    for i in range(3):\n",
        "        x_train_mean = np.mean(x_train[:,:,:,i])\n",
        "        x_train_std = np.std(x_train[:,:,:,i])\n",
        "        x_train[:,:,:,i] = (x_train[:,:,:,i] -x_train_mean) / x_train_std\n",
        "        x_test[:,:,:,i] = (x_test[:,:,:,i] -x_train_mean) /x_train_std\n",
        "\n",
        "    # per dataset:\n",
        "#     x_train_mean = np.mean(x_train)\n",
        "#     x_train_std = np.std(x_train)\n",
        "\n",
        "#     x_train = (x_train - x_train_mean)/x_train_std\n",
        "#     x_test = (x_test - x_train_mean)/x_train_std\n",
        "\n",
        "else:\n",
        "    x_train = x_train / 255.0\n",
        "    x_test = x_test / 255.0\n",
        "\n",
        "\n",
        "# Set some parameters\n",
        "no_of_classes = 10"
      ],
      "execution_count": null,
      "outputs": [
        {
          "output_type": "stream",
          "name": "stdout",
          "text": [
            "X train dataset shape:  (50000, 32, 32, 3)\n",
            "Max value in X train:  255.0\n"
          ]
        }
      ]
    },
    {
      "cell_type": "markdown",
      "metadata": {
        "id": "ARm3ixu4p7kL"
      },
      "source": [
        "Zaproponujmy dwie przykładowe architektury modeli splotowych, zgodnie z poznanymi wcześniej operacjami, implementowwanymi jako warstwy modelu głęboiego.\n",
        "\n",
        "W modelu 1 wykorzystujemy zestawy bloków typu Conv+BN+ReLU oraz regularyzację wag (L2 - rozpad wag).\n",
        "\n",
        "W modelu 2 wykorzystujemy przestawienie kolejności operacji, tj. stosujemy bloki Conv+ReLU+BN oraz nie stosujemy regularyzacji wag na poziomie definicji warstw modelu sieci głębokiej.\n"
      ]
    },
    {
      "cell_type": "code",
      "metadata": {
        "id": "CL0BCg0RamkO"
      },
      "source": [
        "# Define the Model\n",
        "\n",
        "# weight_decay parameter\n",
        "wd = 0.0005\n",
        "\n",
        "act = 'relu'\n",
        "# act = 'elu'\n",
        "\n",
        "pad = 'same'\n",
        "# pad = 'valid'\n",
        "\n",
        "# Make your test with different configurations and compare\n",
        "# the training process (metrics change in epochs)\n",
        "# e.g. start from 'zeros' for kernel and bias, then he_uniform vs. he_normal,\n",
        "# random_normal vs. glorot_normal, etc.\n",
        "\n",
        "# w_init = 'random_uniform'\n",
        "# w_init = 'random_normal'\n",
        "# w_init = 'glorot_uniform'\n",
        "# w_init = 'glorot_normal'\n",
        "w_init = 'he_uniform'\n",
        "# w_init = 'he_normal'\n",
        "# w_init = 'zeros'\n",
        "b_init = 'zeros'\n",
        "# b_init = 'ones'\n",
        "\n",
        "def get_CNN_model_3():\n",
        "\n",
        "    model = tf.keras.models.Sequential([\n",
        "        tf.keras.layers.Conv2D(32, 3, input_shape=x_train.shape[1:], activation=None, padding=pad,\n",
        "                               kernel_regularizer=L2(wd), bias_regularizer=L2(wd),\n",
        "                               kernel_initializer=w_init, bias_initializer=b_init),\n",
        "        tf.keras.layers.BatchNormalization(),\n",
        "        tf.keras.layers.ReLU(),\n",
        "\n",
        "        tf.keras.layers.Conv2D(32, 3, padding=pad, activation=None,\n",
        "                               kernel_regularizer=L2(wd), bias_regularizer=L2(wd),\n",
        "                               kernel_initializer=w_init, bias_initializer=b_init),\n",
        "        tf.keras.layers.BatchNormalization(),\n",
        "        tf.keras.layers.ReLU(),\n",
        "\n",
        "        tf.keras.layers.MaxPooling2D(),\n",
        "\n",
        "        tf.keras.layers.Conv2D(64, 3, padding=pad, activation=None,\n",
        "                               kernel_regularizer=L2(wd), bias_regularizer=L2(wd),\n",
        "                               kernel_initializer=w_init, bias_initializer=b_init),\n",
        "        tf.keras.layers.BatchNormalization(),\n",
        "        tf.keras.layers.ReLU(),\n",
        "\n",
        "        tf.keras.layers.Conv2D(64, 3, padding=pad, activation=None,\n",
        "                               kernel_regularizer=L2(wd), bias_regularizer=L2(wd),\n",
        "                               kernel_initializer=w_init, bias_initializer=b_init),\n",
        "        tf.keras.layers.BatchNormalization(),\n",
        "        tf.keras.layers.ReLU(),\n",
        "\n",
        "        tf.keras.layers.MaxPooling2D(),\n",
        "\n",
        "        tf.keras.layers.Conv2D(128, 3, padding=pad, activation=None,\n",
        "                               kernel_regularizer=L2(wd), bias_regularizer=L2(wd),\n",
        "                               kernel_initializer=w_init, bias_initializer=b_init),\n",
        "        tf.keras.layers.BatchNormalization(),\n",
        "        tf.keras.layers.ReLU(),\n",
        "\n",
        "        tf.keras.layers.Conv2D(128, 3, padding=pad, activation=act,\n",
        "                               kernel_regularizer=L2(wd), bias_regularizer=L2(wd),\n",
        "                               kernel_initializer=w_init, bias_initializer=b_init),\n",
        "        tf.keras.layers.GlobalAveragePooling2D(),\n",
        "\n",
        "        tf.keras.layers.Dense(128, activation=act,\n",
        "                              kernel_regularizer=L2(wd), bias_regularizer=L2(wd),\n",
        "                              kernel_initializer=w_init, bias_initializer=b_init),\n",
        "        tf.keras.layers.Dense(no_of_classes, activation='softmax',\n",
        "                              kernel_regularizer=L2(wd), bias_regularizer=L2(wd),\n",
        "                              kernel_initializer=w_init, bias_initializer=b_init)\n",
        "    ])\n",
        "\n",
        "    return model\n",
        "\n",
        "\n"
      ],
      "execution_count": null,
      "outputs": []
    },
    {
      "cell_type": "markdown",
      "metadata": {
        "id": "nKtpQnBchQgN"
      },
      "source": [
        "Przygotujmy ustawienia procedury uczenia."
      ]
    },
    {
      "cell_type": "code",
      "metadata": {
        "id": "VkfsBmo0gYa8"
      },
      "source": [
        "def train_model(model, callbacks, opt, epochs=10, batch_size=32):\n",
        "  \"\"\"\n",
        "  Train model - use some global variable (you can modify the definition\n",
        "                to make this function more univeral)\n",
        "\n",
        "  \"\"\"\n",
        "\n",
        "  model.compile(\n",
        "    # Choose the optimizer\n",
        "    optimizer=opt,\n",
        "    loss='categorical_crossentropy',\n",
        "    # Introduce additional metric\n",
        "    metrics=['accuracy']\n",
        "  )\n",
        "\n",
        "  model.fit(x=x_train,\n",
        "            y=y_train,\n",
        "            epochs=epochs,\n",
        "            batch_size=batch_size,\n",
        "            # Use test data to perform validation\n",
        "            validation_data=(x_test, y_test),\n",
        "            # Assign reference to the TB callback function\n",
        "            callbacks=callbacks)"
      ],
      "execution_count": null,
      "outputs": []
    },
    {
      "cell_type": "markdown",
      "metadata": {
        "id": "BvOzwYonCaYa"
      },
      "source": [
        "Zdefiniujmy stosowne hiperparametry, wypbierzmy model oraz algorytm optymalizacji, a następnie przeprowadźmy trening. Z góry zachęcam do przeprowadzenia wielu eksperymentów z różnymi ustawieniami modelu oraz algorytmu optymalizacyjnego.\n"
      ]
    },
    {
      "cell_type": "code",
      "metadata": {
        "id": "of25URSMQ1Fc",
        "colab": {
          "base_uri": "https://localhost:8080/"
        },
        "outputId": "d9267e9c-ad1d-4356-a2f9-f75431a87a75"
      },
      "source": [
        "# Use \"logs\" folder to for TB data\n",
        "logdir = os.path.join(\"logs\", datetime.datetime.now().strftime(\"%Y%m%d-%H%M%S\"))\n",
        "# All callback functions\n",
        "tensorboard_callback = tf.keras.callbacks.TensorBoard(logdir, histogram_freq=1)\n",
        "callbacks = [tensorboard_callback]\n",
        "\n",
        "# Select the model\n",
        "model_to_train = get_CNN_model_3()\n",
        "\n",
        "model_to_train.summary()\n",
        "\n",
        "# Redefine hiperparameters - e.g. use more epoch in the experiments\n",
        "# epochs = 200\n",
        "epochs = 20\n",
        "batch_size = 128\n",
        "learning_rate = 0.01\n",
        "\n",
        "# You can try different optimalization algorithms\n",
        "sgd = tf.keras.optimizers.SGD(learning_rate=learning_rate, momentum=0.9, nesterov=True)\n",
        "adam = tf.keras.optimizers.Adam(learning_rate=learning_rate*0.1, beta_1=0.9, beta_2=0.999, amsgrad=True)\n",
        "\n",
        "# Start training\n",
        "train_model(model_to_train, callbacks=callbacks, opt=sgd,\n",
        "            epochs=epochs, batch_size=batch_size)"
      ],
      "execution_count": null,
      "outputs": [
        {
          "output_type": "stream",
          "name": "stdout",
          "text": [
            "Model: \"sequential_3\"\n",
            "_________________________________________________________________\n",
            "Layer (type)                 Output Shape              Param #   \n",
            "=================================================================\n",
            "conv2d_18 (Conv2D)           (None, 32, 32, 32)        896       \n",
            "_________________________________________________________________\n",
            "batch_normalization_15 (Batc (None, 32, 32, 32)        128       \n",
            "_________________________________________________________________\n",
            "re_lu_15 (ReLU)              (None, 32, 32, 32)        0         \n",
            "_________________________________________________________________\n",
            "conv2d_19 (Conv2D)           (None, 32, 32, 32)        9248      \n",
            "_________________________________________________________________\n",
            "batch_normalization_16 (Batc (None, 32, 32, 32)        128       \n",
            "_________________________________________________________________\n",
            "re_lu_16 (ReLU)              (None, 32, 32, 32)        0         \n",
            "_________________________________________________________________\n",
            "max_pooling2d_6 (MaxPooling2 (None, 16, 16, 32)        0         \n",
            "_________________________________________________________________\n",
            "conv2d_20 (Conv2D)           (None, 16, 16, 64)        18496     \n",
            "_________________________________________________________________\n",
            "batch_normalization_17 (Batc (None, 16, 16, 64)        256       \n",
            "_________________________________________________________________\n",
            "re_lu_17 (ReLU)              (None, 16, 16, 64)        0         \n",
            "_________________________________________________________________\n",
            "conv2d_21 (Conv2D)           (None, 16, 16, 64)        36928     \n",
            "_________________________________________________________________\n",
            "batch_normalization_18 (Batc (None, 16, 16, 64)        256       \n",
            "_________________________________________________________________\n",
            "re_lu_18 (ReLU)              (None, 16, 16, 64)        0         \n",
            "_________________________________________________________________\n",
            "max_pooling2d_7 (MaxPooling2 (None, 8, 8, 64)          0         \n",
            "_________________________________________________________________\n",
            "conv2d_22 (Conv2D)           (None, 8, 8, 128)         73856     \n",
            "_________________________________________________________________\n",
            "batch_normalization_19 (Batc (None, 8, 8, 128)         512       \n",
            "_________________________________________________________________\n",
            "re_lu_19 (ReLU)              (None, 8, 8, 128)         0         \n",
            "_________________________________________________________________\n",
            "conv2d_23 (Conv2D)           (None, 8, 8, 128)         147584    \n",
            "_________________________________________________________________\n",
            "global_average_pooling2d_3 ( (None, 128)               0         \n",
            "_________________________________________________________________\n",
            "dense_6 (Dense)              (None, 128)               16512     \n",
            "_________________________________________________________________\n",
            "dense_7 (Dense)              (None, 10)                1290      \n",
            "=================================================================\n",
            "Total params: 306,090\n",
            "Trainable params: 305,450\n",
            "Non-trainable params: 640\n",
            "_________________________________________________________________\n",
            "Epoch 1/20\n",
            "391/391 [==============================] - 62s 41ms/step - loss: 1.9747 - accuracy: 0.4850 - val_loss: 1.8124 - val_accuracy: 0.5381\n",
            "Epoch 2/20\n",
            "391/391 [==============================] - 15s 37ms/step - loss: 1.5485 - accuracy: 0.6397 - val_loss: 1.5614 - val_accuracy: 0.6318\n",
            "Epoch 3/20\n",
            "391/391 [==============================] - 15s 37ms/step - loss: 1.3717 - accuracy: 0.6941 - val_loss: 1.5043 - val_accuracy: 0.6489\n",
            "Epoch 4/20\n",
            "391/391 [==============================] - 15s 37ms/step - loss: 1.2411 - accuracy: 0.7329 - val_loss: 1.6062 - val_accuracy: 0.6190\n",
            "Epoch 5/20\n",
            "391/391 [==============================] - 15s 38ms/step - loss: 1.1404 - accuracy: 0.7611 - val_loss: 1.3459 - val_accuracy: 0.6839\n",
            "Epoch 6/20\n",
            "391/391 [==============================] - 15s 38ms/step - loss: 1.0563 - accuracy: 0.7847 - val_loss: 1.3466 - val_accuracy: 0.6885\n",
            "Epoch 7/20\n",
            "391/391 [==============================] - 14s 37ms/step - loss: 0.9864 - accuracy: 0.8019 - val_loss: 1.2455 - val_accuracy: 0.7236\n",
            "Epoch 8/20\n",
            "391/391 [==============================] - 15s 37ms/step - loss: 0.9203 - accuracy: 0.8181 - val_loss: 1.3105 - val_accuracy: 0.6933\n",
            "Epoch 9/20\n",
            "391/391 [==============================] - 15s 37ms/step - loss: 0.8695 - accuracy: 0.8325 - val_loss: 1.5096 - val_accuracy: 0.6590\n",
            "Epoch 10/20\n",
            "391/391 [==============================] - 15s 38ms/step - loss: 0.8230 - accuracy: 0.8423 - val_loss: 1.2233 - val_accuracy: 0.7252\n",
            "Epoch 11/20\n",
            "391/391 [==============================] - 15s 37ms/step - loss: 0.7780 - accuracy: 0.8553 - val_loss: 1.4566 - val_accuracy: 0.6862\n",
            "Epoch 12/20\n",
            "391/391 [==============================] - 15s 38ms/step - loss: 0.7419 - accuracy: 0.8628 - val_loss: 1.4505 - val_accuracy: 0.6426\n",
            "Epoch 13/20\n",
            "391/391 [==============================] - 15s 37ms/step - loss: 0.7061 - accuracy: 0.8720 - val_loss: 1.2566 - val_accuracy: 0.7192\n",
            "Epoch 14/20\n",
            "391/391 [==============================] - 15s 39ms/step - loss: 0.6755 - accuracy: 0.8798 - val_loss: 1.9583 - val_accuracy: 0.5877\n",
            "Epoch 15/20\n",
            "391/391 [==============================] - 15s 38ms/step - loss: 0.6495 - accuracy: 0.8849 - val_loss: 1.3560 - val_accuracy: 0.6825\n",
            "Epoch 16/20\n",
            "391/391 [==============================] - 15s 37ms/step - loss: 0.6254 - accuracy: 0.8911 - val_loss: 1.2173 - val_accuracy: 0.7251\n",
            "Epoch 17/20\n",
            "391/391 [==============================] - 15s 37ms/step - loss: 0.5993 - accuracy: 0.8976 - val_loss: 1.1720 - val_accuracy: 0.7433\n",
            "Epoch 18/20\n",
            "391/391 [==============================] - 15s 37ms/step - loss: 0.5774 - accuracy: 0.9052 - val_loss: 1.2074 - val_accuracy: 0.7387\n",
            "Epoch 19/20\n",
            "391/391 [==============================] - 15s 37ms/step - loss: 0.5539 - accuracy: 0.9116 - val_loss: 1.8048 - val_accuracy: 0.5928\n",
            "Epoch 20/20\n",
            "391/391 [==============================] - 15s 38ms/step - loss: 0.5412 - accuracy: 0.9133 - val_loss: 1.2034 - val_accuracy: 0.7201\n"
          ]
        }
      ]
    },
    {
      "cell_type": "markdown",
      "metadata": {
        "id": "nyUg1QHjiqHt"
      },
      "source": [
        "Oczywiście może pojawić się efekt nadmiernego dopasowania modelu danych - w tym przykładzie zrezygnowaliśmy dla uproszczenia demonstracji z augmentacji danych, itp.\n",
        "\n",
        "\n",
        "\n",
        "Przeanalizujmy następnie informacje o procesie uczenia w środowisku TB."
      ]
    },
    {
      "cell_type": "code",
      "metadata": {
        "id": "8XKh_RwNeX3Y"
      },
      "source": [
        "%load_ext tensorboard\n",
        "%tensorboard --logdir logs"
      ],
      "execution_count": null,
      "outputs": []
    },
    {
      "cell_type": "markdown",
      "metadata": {
        "id": "sj3UaPkQDggX"
      },
      "source": [
        "Zachęcam do eksperymentowania."
      ]
    },
    {
      "cell_type": "markdown",
      "metadata": {
        "id": "MIpYL7uTqUF5"
      },
      "source": [
        "<center>\n",
        "Projekt współfinansowany ze środków Unii Europejskiej w ramach Europejskiego Funduszu Rozwoju Regionalnego\n",
        "Program Operacyjny Polska Cyfrowa na lata 2014-2020,\n",
        "Oś Priorytetowa nr 3 \"Cyfrowe kompetencje społeczeństwa\" Działanie  nr 3.2 \"Innowacyjne rozwiązania na rzecz aktywizacji cyfrowej\"\n",
        "Tytuł projektu:  „Akademia Innowacyjnych Zastosowań Technologii Cyfrowych (AI Tech)”\n",
        "    </center>"
      ]
    }
  ]
}