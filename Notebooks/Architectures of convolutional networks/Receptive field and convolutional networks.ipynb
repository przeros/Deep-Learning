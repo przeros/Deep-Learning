{
  "nbformat": 4,
  "nbformat_minor": 0,
  "metadata": {
    "colab": {
      "provenance": []
    },
    "kernelspec": {
      "name": "python3",
      "display_name": "Python 3"
    },
    "accelerator": "GPU"
  },
  "cells": [
    {
      "cell_type": "markdown",
      "metadata": {
        "id": "rze6EnG6fTik"
      },
      "source": [
        "##### AI TECH - Akademia Innowacyjnych Zastosowań Technologii Cyfrowych. Programu Operacyjnego Polska Cyfrowa na lata 2014-2020\n",
        "<hr>\n"
      ]
    },
    {
      "cell_type": "code",
      "metadata": {
        "cellView": "form",
        "colab": {
          "base_uri": "https://localhost:8080/",
          "height": 176
        },
        "id": "OuaA8rFCfXTP",
        "outputId": "2a846539-22b9-44d1-a0de-6233feb63e34"
      },
      "source": [
        "#@title\n",
        "%%html\n",
        "<iframe src=\"https://www.polskacyfrowa.gov.pl/media/48246/FE_POPC_poziom_pl-1_rgb.jpg\" width=\"800\"></iframe>\n"
      ],
      "execution_count": null,
      "outputs": [
        {
          "output_type": "display_data",
          "data": {
            "text/html": [
              "<iframe src=\"https://www.polskacyfrowa.gov.pl/media/48246/FE_POPC_poziom_pl-1_rgb.jpg\" width=\"800\"></iframe>"
            ],
            "text/plain": [
              "<IPython.core.display.HTML object>"
            ]
          },
          "metadata": {}
        }
      ]
    },
    {
      "cell_type": "markdown",
      "metadata": {
        "id": "Q6hP8DZKln80"
      },
      "source": [
        "# Uczenie głębokie\n",
        "\n",
        "Jacek Rumiński, Politechnika Gdańska, Wydział ETI, Katedra Inżynierii Biomedycznej\n",
        "\n",
        "**Wykład 3:** Sieci splotowe\n",
        "\n",
        "**Przykład (1):** Pole recepcyjne i sieci splotowe\n"
      ]
    },
    {
      "cell_type": "markdown",
      "metadata": {
        "id": "9yfD5HsRfosc"
      },
      "source": [
        "W ramach tego notatnika zapoznajmy się z aspektami dotyczącymi pola recepcyjnego oraz budowy modeli sieci splotowej dążącej do uzyskania nowej reprezentacji danych przechodząc do dużych rozmiarów przestrzennych danych w kierunku jednowymiarowego wektora wielu cech.\n",
        "\n",
        "Wskażmy pakiety, z jakich będziemy korzystać:\n"
      ]
    },
    {
      "cell_type": "code",
      "metadata": {
        "id": "DL1UM5173hO5",
        "colab": {
          "base_uri": "https://localhost:8080/"
        },
        "outputId": "467b471e-540d-4180-c3de-05b43daa2270"
      },
      "source": [
        "import numpy as np\n",
        "import matplotlib.pyplot as plt\n",
        "import matplotlib\n",
        "import seaborn as sns; sns.set_theme()\n",
        "from matplotlib.colors import ListedColormap\n",
        "import tensorflow as tf\n",
        "from tensorflow.keras.datasets import cifar10\n",
        "\n",
        "font = {'family' : 'DejaVu Sans',\n",
        "        'weight' : 'bold',\n",
        "        'size'   : 22}\n",
        "\n",
        "# You can try to change your Google Colab environment to GPU\n",
        "print(tf.__version__)"
      ],
      "execution_count": null,
      "outputs": [
        {
          "output_type": "stream",
          "name": "stdout",
          "text": [
            "2.6.0\n"
          ]
        }
      ]
    },
    {
      "cell_type": "markdown",
      "metadata": {
        "id": "PscdQ0l7gORZ"
      },
      "source": [
        "We wcześniejszym notatniku rozważaliśmy operację splotu 2D z wykorzystaniem szeregu klas pakietu TensorFlow. Klasy te operowały na tensorach o specjalnie dobranych rozmiarach, np, (N, H, W, C): N- rozmiar batcha, H-wysokość (l. wierszy), W-szerokość (l. kolumn), C- liczba kanałów.\n",
        "\n",
        "Powiedzieliśmy również, że celem warstw splotowych jest najczęsciej wyodrębienie cech, które będą podane jako wejście do np. klasyfikatora MLP. Klasyfikator taki operuje na danych jednowymiarowych (np. D-wejść neuronu). Oznacza to, że dla liczby przykładów N (lub liczy przykładów w porcji danych - batchu) potrzebujemy danych o rozmiarze (N, D), gdzie D - liczba cech.\n",
        "\n",
        "Po zastosowaniu warstw z operację splotu musimy dostosować dane do wymaganego rozmiaru. Najprostszą metodą jest chyba zwykłe przekształceie rozmiaru danych (reshape), realizowane poprzez operacje: np.reshape, tf.reshape, np.flatten(), itp."
      ]
    },
    {
      "cell_type": "code",
      "metadata": {
        "colab": {
          "base_uri": "https://localhost:8080/"
        },
        "id": "-BhHZbhXzZkD",
        "outputId": "aa558ef6-12b4-44bf-be1d-d6531770945c"
      },
      "source": [
        "# Data after CNN layer:\n",
        "layer_after_cnn = np.array([[1,2,3],[4,5,6],[7,8,9]])\n",
        "# or try an example with depth 2\n",
        "# layer_after_cnn = np.array([[[1,1],[2,4],[3,6]],[[4,8],[5,10],[6,12]],[[7,14],[8,16],[9,18]]])\n",
        "print(\"Input shape:\", layer_after_cnn.shape)\n",
        "flatten_layer_after_cnn = layer_after_cnn.flatten()\n",
        "print(\"After flatten shape:\", flatten_layer_after_cnn.shape)\n",
        "print(\"Flatten data: \", flatten_layer_after_cnn)"
      ],
      "execution_count": null,
      "outputs": [
        {
          "output_type": "stream",
          "name": "stdout",
          "text": [
            "Input shape: (3, 3)\n",
            "After flatten shape: (9,)\n",
            "Flatten data:  [1 2 3 4 5 6 7 8 9]\n"
          ]
        }
      ]
    },
    {
      "cell_type": "markdown",
      "metadata": {
        "id": "4Ymk-3HejR9D"
      },
      "source": [
        "Możemy również posłużyć sę funkcjami reshape wykorzystywanymi w ramach specjalnie utworzonej warstwy budowanego modelu - Flatten. Warstwa ta wykonuje stałą operację, tzn. nie ma parametrów podlegających uczeniu. Niemnije, jako warstwa modelu operuje na odpowiednim rozmiarze danych i dlatego dane wejsciowe trzeba odpowiednio przygotować."
      ]
    },
    {
      "cell_type": "code",
      "metadata": {
        "colab": {
          "base_uri": "https://localhost:8080/"
        },
        "id": "I3Fw_EpG6iTX",
        "outputId": "abb895c6-adec-4057-d7d8-91f09e5af72e"
      },
      "source": [
        "layer_after_cnn = np.array([[1,2,3],[4,5,6],[7,8,9]])\n",
        "print(\"Input shape:\", layer_after_cnn.shape)\n",
        "layer_flatten = tf.keras.layers.Flatten()\n",
        "# Apply Flatten layer\n",
        "flatten_layer_after_cnn = layer_flatten(layer_after_cnn)\n",
        "print(\"After flatten shape:\", flatten_layer_after_cnn.shape)\n",
        "\n",
        "# RESHAPE data to fit the standard API requirements:\n",
        "# first dimension represent batch size\n",
        "layer_after_cnn_reshape = layer_after_cnn.reshape((1,3,3))\n",
        "print(\"New input shape:\", layer_after_cnn_reshape.shape)\n",
        "\n",
        "# Now we can apply the Flatten operation again!\n",
        "flatten_layer_after_cnn_r = layer_flatten(layer_after_cnn_reshape)\n",
        "print(\"After flatten shape:\", flatten_layer_after_cnn_r.shape)\n",
        "\n",
        "print(\"Flatten data: \", flatten_layer_after_cnn_r)"
      ],
      "execution_count": null,
      "outputs": [
        {
          "output_type": "stream",
          "name": "stdout",
          "text": [
            "Input shape: (3, 3)\n",
            "After flatten shape: (3, 3)\n",
            "New input shape: (1, 3, 3)\n",
            "After flatten shape: (1, 9)\n",
            "Flatten data:  tf.Tensor([[1 2 3 4 5 6 7 8 9]], shape=(1, 9), dtype=int64)\n"
          ]
        }
      ]
    },
    {
      "cell_type": "markdown",
      "metadata": {
        "id": "6bfvjDJmj8UO"
      },
      "source": [
        "Projektują model sieci splotowej przechodzimy od danych przestrzennych do wektora cech. Przetwarzanie danych z tym związane może odbywać się poprzez kaskadę warstw splotowych bez stosowania dopełniania danych (no padding). Wówczas po każdym kroku uzyskamy rozmiar danych wyjściowych mniejszy przestrzennie o brzeg, zgodnie z wcześniej omówionymi parametrami operacji \"splotu\": kernel size, stride, dilation rate, itp. Stosując K filtrów, uzyskamy dane dla D cech. Stąd po pewnym zestawie warstw splotowych przejdziemy od wymiaru (H, W, Din) do (1, 1, D). Spłaszczenie takiego tensora pozwoli nam uzyskać wektor o D cechach podawany na wejście MLP.\n",
        "\n",
        "Warto zauważyć, że K warstw splotowych i dobór parametrów wpływa na pole recepcyjne modelu (omówione w czasie prezdentacji).\n",
        "\n",
        "W celu redukcji parametrów podlegających uczenia a jednoześnie zapewneiniu redukcji przestrzennej danych (i uniezależmnieniu się od loklalnych, niewielkich zmian danych) można wprowadzić do modelu CNN nowe warstwy, realizujące przestrzenną, lokalną agregację danych (w okreśłonym oknie - podobnie jak splot). Wyznaczmy w oknie np. (2x2) wartośc maksymalną lub średnią i w ten sposób redukujemy wymiar przestrzenny. Jednocześnie, patrząc od strony wyjścia modelu, zwiększamy pole recepcyjne dla wartości z kolejnych warstw.\n",
        "\n",
        "Agragacja realizowana jest przez określone klasy, np. MaxPooling2D, AveragePooling2D i co ważne, redukuje wymiar przestrzenny lecz NIE ZMIENIA liczby kanałów - działw w każdym kanale oddzielnie.\n",
        "\n"
      ]
    },
    {
      "cell_type": "code",
      "metadata": {
        "colab": {
          "base_uri": "https://localhost:8080/",
          "height": 1000
        },
        "id": "kISo94h9sitw",
        "outputId": "6992e6c2-b065-40f0-d06b-4fc4ee6a764c"
      },
      "source": [
        "# Data after CNN layer:\n",
        "layer_after_cnn = np.array([[[1,1],[2,4],[3,6]],[[4,8],[5,10],[6,12]],[[7,14],[8,16],[9,18]]])\n",
        "# Shape (3,3,2) - depth = 2\n",
        "# Reshape to add batch size\n",
        "layer_after_cnn_reshape = layer_after_cnn.reshape((1,3,3,2))\n",
        "\n",
        "# Define Pooling layer - try also with AveragePooling2D\n",
        "layer_pooling = tf.keras.layers.MaxPooling2D(pool_size=(2, 2),\n",
        "                                             strides=(1, 1),\n",
        "                                             padding='valid')\n",
        "pooling_layer_after_cnn = layer_pooling(layer_after_cnn_reshape)\n",
        "\n",
        "print(\"Source data: \\n\",layer_after_cnn_reshape)\n",
        "\n",
        "fig1 = plt.figure(figsize=(9, 6), dpi=64)\n",
        "# plt.style.use('fivethirtyeight')\n",
        "matplotlib.rc('font', **font)\n",
        "\n",
        "ax1 = sns.heatmap(layer_after_cnn[:,:,0],\n",
        "                  cbar=False,\n",
        "                  square=True,\n",
        "                  annot=True,\n",
        "                  fmt='g',\n",
        "                  cmap=ListedColormap(['#F2F2F2']),\n",
        "                  linewidths=2.)\n",
        "\n",
        "\n",
        "ax1.set(title=\"INPUT DATA\")\n",
        "plt.show()\n",
        "\n",
        "fig2 = plt.figure(figsize=(9, 6), dpi=64)\n",
        "ax2 = sns.heatmap(layer_after_cnn[:,:,1],\n",
        "                  cbar=False,\n",
        "                  square=True,\n",
        "                  annot=True,\n",
        "                  fmt='g',\n",
        "                  cmap=ListedColormap(['#F2F2F2']),\n",
        "                  linewidths=2.)\n",
        "\n",
        "ax2.set(title=\"INPUT DATA\")\n",
        "plt.show()\n",
        "\n",
        "print(\"After pooling shape:\", pooling_layer_after_cnn.shape)\n",
        "print(\"Pooling data: \", pooling_layer_after_cnn)\n",
        "\n",
        "fig3 = plt.figure(figsize=(9, 6), dpi=64)\n",
        "ax3 = sns.heatmap(pooling_layer_after_cnn[0,:,:,0],\n",
        "                  cbar=False,\n",
        "                  square=True,\n",
        "                  annot=True,\n",
        "                  fmt='g',\n",
        "                  cmap=ListedColormap(['#F2F2F2']),\n",
        "                  linewidths=2.)\n",
        "ax3.set(title=\"AFTER POOLING\")\n",
        "plt.show()\n",
        "\n",
        "fig4 = plt.figure(figsize=(9, 6), dpi=64)\n",
        "ax4 = sns.heatmap(pooling_layer_after_cnn[0,:,:,1],\n",
        "                  cbar=False,\n",
        "                  square=True,\n",
        "                  annot=True,\n",
        "                  fmt='g',\n",
        "                  cmap=ListedColormap(['#F2F2F2']),\n",
        "                  linewidths=2.)\n",
        "ax4.set(title=\"AFTER POOLING\")\n",
        "plt.show()"
      ],
      "execution_count": null,
      "outputs": [
        {
          "output_type": "stream",
          "name": "stdout",
          "text": [
            "Source data: \n",
            " [[[[ 1  1]\n",
            "   [ 2  4]\n",
            "   [ 3  6]]\n",
            "\n",
            "  [[ 4  8]\n",
            "   [ 5 10]\n",
            "   [ 6 12]]\n",
            "\n",
            "  [[ 7 14]\n",
            "   [ 8 16]\n",
            "   [ 9 18]]]]\n"
          ]
        },
        {
          "output_type": "display_data",
          "data": {
            "image/png": "[encoded data removed]",
            "text/plain": [
              "<Figure size 576x384 with 1 Axes>"
            ]
          },
          "metadata": {}
        },
        {
          "output_type": "display_data",
          "data": {
            "image/png": "[encoded data removed]",
            "text/plain": [
              "<Figure size 576x384 with 1 Axes>"
            ]
          },
          "metadata": {}
        },
        {
          "output_type": "stream",
          "name": "stdout",
          "text": [
            "After pooling shape: (1, 2, 2, 2)\n",
            "Pooling data:  tf.Tensor(\n",
            "[[[[ 5 10]\n",
            "   [ 6 12]]\n",
            "\n",
            "  [[ 8 16]\n",
            "   [ 9 18]]]], shape=(1, 2, 2, 2), dtype=int64)\n"
          ]
        },
        {
          "output_type": "display_data",
          "data": {
            "image/png": "[encoded data removed]",
            "text/plain": [
              "<Figure size 576x384 with 1 Axes>"
            ]
          },
          "metadata": {}
        },
        {
          "output_type": "display_data",
          "data": {
            "image/png": "[encoded data removed]",
            "text/plain": [
              "<Figure size 576x384 with 1 Axes>"
            ]
          },
          "metadata": {}
        }
      ]
    },
    {
      "cell_type": "markdown",
      "metadata": {
        "id": "xPq1fKtqmzJw"
      },
      "source": [
        "W powyższym przykładzie pracowaliśmy z danymi o dwóch kanałach, dlatego uzyskaliśmy jako wynik tensor również o dwóch kanałach. Ponieważ nasze dane wejsciowe miały rozmiar przestrzenny 3x3, a operacja agregacji operowała na oknie 2x2 i kroku 1 (częsciej stosuje się krok równy rozmiarowi okna operacji agregacji - czyli w tym przypadku byłoby to (2,2)) dlatego dla każdego kanału (macierzy 3x3) istnieją 4 pozycje nałożenia maski (2x2). Stąd wynik operacji ma rozmiar (2x2) dla dwóch kanałów i jednego zbioru danych (N=1)), razem (1,2,2,2)."
      ]
    },
    {
      "cell_type": "markdown",
      "metadata": {
        "id": "xtLfnJlvn4WE"
      },
      "source": [
        "Jeśli operację agregacji chcielibyśmy przeprowadzić dla okna o takim samym rozmiarze jak dane (HxW) wówczas uzyskamy wynik globalnej agregacji. W takim przypadku możemy również wykorzystać dedykowane klasy jak GlobalMaxPooling, dla których nie podajemy paramterów typu rozmiar okna, itp."
      ]
    },
    {
      "cell_type": "code",
      "metadata": {
        "colab": {
          "base_uri": "https://localhost:8080/"
        },
        "id": "orsdLkksAP6k",
        "outputId": "d03ab8a2-b0c1-4807-d9ca-727a68afdb0c"
      },
      "source": [
        "# Data after CNN layer:\n",
        "layer_after_cnn = np.array([[[1,1],[2,4],[3,6]],[[4,8],[5,10],[6,12]],[[7,14],[8,16],[9,18]]])\n",
        "layer_after_cnn_reshape = layer_after_cnn.reshape((1,3,3,2))\n",
        "\n",
        "# layer_agg = tf.keras.layers.Flatten()\n",
        "# layer_agg = tf.keras.layers.MaxPooling2D(pool_size=(3, 3))\n",
        "layer_agg = tf.keras.layers.GlobalMaxPooling2D()\n",
        "\n",
        "flatten_layer_after_cnn = layer_agg(layer_after_cnn_reshape)\n",
        "\n",
        "print(\"After flatten shape:\", flatten_layer_after_cnn.shape)\n",
        "print(\"Flatten data: \", flatten_layer_after_cnn)"
      ],
      "execution_count": null,
      "outputs": [
        {
          "output_type": "stream",
          "name": "stdout",
          "text": [
            "After flatten shape: (1, 2)\n",
            "Flatten data:  tf.Tensor([[ 9 18]], shape=(1, 2), dtype=int64)\n"
          ]
        }
      ]
    },
    {
      "cell_type": "markdown",
      "metadata": {
        "id": "tAJ-13w4oYjs"
      },
      "source": [
        "Jak napisaliśmy wcześniej dążymy do takiego efektu, aby na wyjściu bloku ekstrakcji cech uzyskać wektor o określonej liczbie cech D, bez danych przestrzennych (lub tensor z uwzględnieniem liczby przykładów N - (N, D))."
      ]
    },
    {
      "cell_type": "code",
      "metadata": {
        "colab": {
          "base_uri": "https://localhost:8080/"
        },
        "id": "P8NDNJYAItCI",
        "outputId": "56cc030b-d49e-4e42-a2c6-2c8682c72a0a"
      },
      "source": [
        "# Data after CNN layer:\n",
        "layer_after_cnn = np.array([[[1,1,1],[2,4,6],[3,6,9]],\n",
        "                            [[4,8,12],[5,10,15],[6,12,18]],\n",
        "                            [[7,14,21],[8,16,24],[9,18,27]]]).astype('float')\n",
        "\n",
        "layer_after_cnn_reshape = layer_after_cnn.reshape((1,3,3,3))\n",
        "\n",
        "# layer_agg = tf.keras.layers.Flatten()\n",
        "# layer_agg = tf.keras.layers.MaxPooling2D(pool_size=(3, 3))\n",
        "# layer_agg = tf.keras.layers.GlobalMaxPooling2D()\n",
        "\n",
        "# w_fixed = np.ones((3,3,3,1)).astype('float')\n",
        "# layer_agg = tf.keras.layers.Conv2D(filters=1,\n",
        "#                                  kernel_size=(3, 3),\n",
        "#                                  use_bias=False,\n",
        "#                                  weights=[w_fixed])\n",
        "\n",
        "# layer_agg = tf.keras.layers.DepthwiseConv2D(\n",
        "#                                  kernel_size=(3, 3),\n",
        "#                                  use_bias=False,\n",
        "#                                  weights=[w_fixed])\n",
        "\n",
        "no_of_filters = 3\n",
        "w_fixed_3 = np.ones((3,3,3,no_of_filters)).astype('float')\n",
        "layer_agg = tf.keras.layers.Conv2D(filters=no_of_filters,\n",
        "                                 kernel_size=(3, 3),\n",
        "                                 use_bias=False,\n",
        "                                 weights=[w_fixed_3])\n",
        "\n",
        "flatten_layer_after_cnn = layer_agg(layer_after_cnn_reshape)\n",
        "\n",
        "print(\"After flatten shape:\", flatten_layer_after_cnn.shape)\n",
        "print(\"Flatten data: \", flatten_layer_after_cnn)"
      ],
      "execution_count": null,
      "outputs": [
        {
          "output_type": "stream",
          "name": "stdout",
          "text": [
            "After flatten shape: (1, 1, 1, 3)\n",
            "Flatten data:  tf.Tensor([[[[267. 267. 267.]]]], shape=(1, 1, 1, 3), dtype=float32)\n"
          ]
        }
      ]
    },
    {
      "cell_type": "markdown",
      "metadata": {
        "id": "5GooqmzPEQYW"
      },
      "source": [
        "**Poznaliśmy szereg rodzajów warstw, z których możemy zbudować architekturę (model) sieci splotowej.**\n",
        "\n",
        "Spróbujmy teraz zaproponować różne modele tak, aby sprawdzić znaczenie poszczególnych warstw oraz i zaobserwować proces uczenia wag warstw splotowych.\n",
        "\n",
        "Posłużmy się przykładem znanego nam zbioru danych CIFAR-10."
      ]
    },
    {
      "cell_type": "code",
      "metadata": {
        "id": "ruGHlzH0mUc3",
        "colab": {
          "base_uri": "https://localhost:8080/",
          "height": 342
        },
        "outputId": "a76ac965-1810-4ad6-d62e-441397066341"
      },
      "source": [
        "# Load data and split to training and test datasets\n",
        "\n",
        "(x_train, y_train), (x_test, y_test) = cifar10.load_data()\n",
        "\n",
        "class_names = [\n",
        "'airplane','automobile','bird', 'cat', 'deer' ,\n",
        "'dog', 'frog', 'horse', 'ship', 'truck']\n",
        "\n",
        "# Data properties\n",
        "image_width = 32;\n",
        "image_height = 32;\n",
        "image_components = 3\n",
        "\n",
        "# Show an example\n",
        "example = 200\n",
        "class_id = y_train[example].item()\n",
        "\n",
        "plt.rcParams[\"axes.grid\"] = False\n",
        "plt.imshow(x_train[example])\n",
        "print(\"True original label :\", class_id, class_names[class_id])\n"
      ],
      "execution_count": null,
      "outputs": [
        {
          "output_type": "stream",
          "name": "stdout",
          "text": [
            "Downloading data from https://www.cs.toronto.edu/~kriz/cifar-10-python.tar.gz\n",
            "170500096/170498071 [==============================] - 11s 0us/step\n",
            "170508288/170498071 [==============================] - 11s 0us/step\n",
            "True original label : 6 frog\n"
          ]
        },
        {
          "output_type": "display_data",
          "data": {
            "image/png": "[encoded data removed]",
            "text/plain": [
              "<Figure size 432x288 with 1 Axes>"
            ]
          },
          "metadata": {}
        }
      ]
    },
    {
      "cell_type": "markdown",
      "metadata": {
        "id": "DjaQ7z7NE_j2"
      },
      "source": [
        "Sprawdźmy podstawowe infortmacje o wczytanym zbiorze.\n",
        "\n",
        "Dokonajmy także konwersji metody reprezentacji etykiet klas do postaci wektora wartości binarnych (ang. one hot encoding)."
      ]
    },
    {
      "cell_type": "code",
      "metadata": {
        "id": "KcWE8pYnCR0O",
        "colab": {
          "base_uri": "https://localhost:8080/"
        },
        "outputId": "55d3cbad-7bf9-45b9-a61e-c003120a8f56"
      },
      "source": [
        "# Show the shape of input data\n",
        "x_train = x_train.astype('float32')\n",
        "x_test = x_test.astype('float32')\n",
        "print(\"X train dataset shape: \", x_train.shape)\n",
        "print(\"Max value in X train: \", np.max(x_train))\n",
        "\n",
        "print(\"X test dataset shape: \", x_test.shape)\n",
        "\n",
        "\n",
        "no_of_classes = len(np.unique(y_train))\n",
        "print(\"No of clases: \", no_of_classes)\n",
        "\n",
        "from tensorflow.keras.utils import to_categorical\n",
        "y_train = to_categorical(y_train)\n",
        "y_test = to_categorical(y_test)\n"
      ],
      "execution_count": null,
      "outputs": [
        {
          "output_type": "stream",
          "name": "stdout",
          "text": [
            "X train dataset shape:  (50000, 32, 32, 3)\n",
            "Max value in X train:  255.0\n",
            "X test dataset shape:  (10000, 32, 32, 3)\n",
            "No of clases:  10\n"
          ]
        }
      ]
    },
    {
      "cell_type": "markdown",
      "metadata": {
        "id": "B8RhkiPgFm96"
      },
      "source": [
        "Przeprowadźmy prostą normalizację danych."
      ]
    },
    {
      "cell_type": "code",
      "metadata": {
        "id": "OARzl-aKVbQC",
        "colab": {
          "base_uri": "https://localhost:8080/"
        },
        "outputId": "2a29adc5-13ce-4156-81b7-26bbe395eb1e"
      },
      "source": [
        "# Normalize image data\n",
        "\n",
        "max_train = np.max(x_train)\n",
        "x_train = x_train / max_train\n",
        "x_test = x_test / max_train\n",
        "\n",
        "print(\"Max value in X train: \", np.max(x_train))\n",
        "print(\"Max value in X train: \", np.max(x_test))"
      ],
      "execution_count": null,
      "outputs": [
        {
          "output_type": "stream",
          "name": "stdout",
          "text": [
            "Max value in X train:  1.0\n",
            "Max value in X train:  1.0\n"
          ]
        }
      ]
    },
    {
      "cell_type": "markdown",
      "metadata": {
        "id": "3VP-4jtIG63d"
      },
      "source": [
        "Zdefiniujmy teraz prostą architekturę modelu głębokiego. Wykorzystajmy jedną warstwę splotową, warstwę \"spłaszczenia danych\" oraz dwie warstwy tworzące nasz wielowarstwowy perceptron."
      ]
    },
    {
      "cell_type": "code",
      "metadata": {
        "id": "gPFTVdNk3p1t",
        "colab": {
          "base_uri": "https://localhost:8080/"
        },
        "outputId": "e2c77545-a3d1-45aa-ac84-b1dea32c46da"
      },
      "source": [
        "# Use Keras High Level API to solve our problem\n",
        "\n",
        "# 1. Define the Model\n",
        "keras_model = tf.keras.Sequential([\n",
        "    # CNN:\n",
        "    tf.keras.layers.Conv2D(1, kernel_size=3, activation='relu',\n",
        "                           input_shape=x_train.shape[1:], name=\"conv2D_1\"),\n",
        "    tf.keras.layers.Flatten(),  # make data flat to use dense layers\n",
        "    # MLP:\n",
        "    tf.keras.layers.Dense(50, activation='relu'),\n",
        "    tf.keras.layers.Dense(no_of_classes, activation='softmax')\n",
        "\n",
        "  ])\n",
        "\n",
        "# Show the model definition (layers, etc.)\n",
        "keras_model.summary()\n",
        "\n",
        "\n"
      ],
      "execution_count": null,
      "outputs": [
        {
          "output_type": "stream",
          "name": "stdout",
          "text": [
            "Model: \"sequential\"\n",
            "_________________________________________________________________\n",
            "Layer (type)                 Output Shape              Param #   \n",
            "=================================================================\n",
            "conv2D_1 (Conv2D)            (None, 30, 30, 1)         28        \n",
            "_________________________________________________________________\n",
            "flatten_1 (Flatten)          (None, 900)               0         \n",
            "_________________________________________________________________\n",
            "dense (Dense)                (None, 50)                45050     \n",
            "_________________________________________________________________\n",
            "dense_1 (Dense)              (None, 10)                510       \n",
            "=================================================================\n",
            "Total params: 45,588\n",
            "Trainable params: 45,588\n",
            "Non-trainable params: 0\n",
            "_________________________________________________________________\n"
          ]
        }
      ]
    },
    {
      "cell_type": "markdown",
      "metadata": {
        "id": "P6YOxlxPWqMN"
      },
      "source": [
        "Jak widaź model składa się z 4 warstw (pomijając warstwę wejścia). Pierwsza warstw to warstwa splotowa. Zauważmy, że:\n",
        "- Rozmiar wyjścia jest (None, 30, 30, 1). None oznacza, że rozmiar porcji danych będzie znany później i na razie nie jest istotny. Rozmiar przestrzennyhn (30x30) wynika z faktu, że rozmian maski splotu to 3x3 i nie stosujemy dopełnienia wartości  (czyli brzeg z każdej strony: int(3/2)=1, tj. dla wierszy i dla kolumn: 32 - 2*1. Nasz model ma tylko jeden filtr (jedną maskę) i dlatego ostatni elementy rozmiar ma wartość 1.\n",
        "- Liczba parametrów pierwszej warstwy to 28. Domyślnie implementowana operacja \"splotu\" współdzieli wagi. Pamiętamy z wcześniejszych przykładów, że rozmiar wag ustalany jest jako: (kernel_height, kernel_width, input_depth, number_of_filters). W naszym przypadku:  (3,3,3,1) -> liczba parametrów 3\\*3\\*3\\*1= 27 PLUS BIAS (ponieważ domyślnie dla warstwy Conv2D mamy use_bias=True). Dlatego łącznie mamy 27+1=28.\n",
        "\n",
        "Druga wastwa jest właściwie prostą operacją, w ramach której nie mamy parametrów do uczenia. W efekcie uzyskujemy płaski zestaw wartości po filtracji.\n",
        "\n",
        "Trzecia warstwa to klasyczna zestaw 50 jednostek (neuronów) o w pełmni połączonych wejsciach z wszystkimi próbkami uzyskanymi z poprzedniej warstwy. Na wejście każdego z 50 neuronów trafiają wszystkie 900 wartości (30*30) stanowiące wynik filtracji jednym filtrem. Mamy zatem 900 wag do uczenia. Oczywiscie plus bias - łączie 901. Ponieważ stosujemy 50 takich neuronów uzyskujemy łączie 901*50=45050 parametrów.\n",
        "\n",
        "Wyjście trzeciej warstwy to rezultat działań przeprowadzanych przez 50 jednostek (neuronów). Wyniki te trafiają na 10 neruonów ostatniej warstwy, która jak się można domyśleć ma (50+1)*10 = 510 parametrów do uczenia.\n",
        "\n",
        "Dlaczego 10 neuronów na wyjściu? Ponieważ mamy 10 klas - wyjście każdego neuronu to \"głos\" za daną klasą."
      ]
    },
    {
      "cell_type": "markdown",
      "metadata": {
        "id": "Ca3qfM4sLCBP"
      },
      "source": [
        "Przeprowadźmy teraz proces uczenia wykrzystując środowisko TF/Keras."
      ]
    },
    {
      "cell_type": "code",
      "metadata": {
        "id": "Wd3YWEbEF-ZO"
      },
      "source": [
        "# Set some training parameters\n",
        "batch_size = 64\n",
        "epochs = 10\n",
        "eta = 0.01  #  (initial) learning rate"
      ],
      "execution_count": null,
      "outputs": []
    },
    {
      "cell_type": "code",
      "metadata": {
        "colab": {
          "base_uri": "https://localhost:8080/",
          "height": 674
        },
        "id": "987PmeI9WO6s",
        "outputId": "bc4f1ac4-e0c7-443f-e09a-9d80808d253f"
      },
      "source": [
        "sgd = tf.keras.optimizers.SGD(learning_rate=eta, momentum=0.9, nesterov=True)\n",
        "\n",
        "# 2. Set the training parameters\n",
        "keras_model.compile(\n",
        "    # Select optimizer\n",
        "    optimizer=sgd,\n",
        "    loss='categorical_crossentropy',\n",
        "    # Introduce additional metric\n",
        "    metrics=['accuracy']\n",
        ")\n",
        "\n",
        "# 3. Start the training with the specified hyperparameters\n",
        "# (and store the history of training)\n",
        "# Try with much more epochs in your experiments\n",
        "history = keras_model.fit(x_train, y_train, epochs=epochs, batch_size=batch_size)\n",
        "\n",
        "# Show history\n",
        "matplotlib.rcParams.update({'font.size': 18})\n",
        "f = plt.figure(figsize=(8, 5), dpi=64)\n",
        "f1 = f.add_subplot(111)\n",
        "f1.set_xlabel('epoch')\n",
        "f1.set_ylabel('metric')\n",
        "plt.plot(history.history['accuracy'])\n",
        "\n",
        "plt.show()"
      ],
      "execution_count": null,
      "outputs": [
        {
          "output_type": "stream",
          "name": "stdout",
          "text": [
            "Epoch 1/10\n",
            "782/782 [==============================] - 31s 4ms/step - loss: 2.3035 - accuracy: 0.0987\n",
            "Epoch 2/10\n",
            "782/782 [==============================] - 3s 4ms/step - loss: 2.3030 - accuracy: 0.0984\n",
            "Epoch 3/10\n",
            "782/782 [==============================] - 3s 4ms/step - loss: 2.3025 - accuracy: 0.1013\n",
            "Epoch 4/10\n",
            "782/782 [==============================] - 3s 4ms/step - loss: 1.9980 - accuracy: 0.2687\n",
            "Epoch 5/10\n",
            "782/782 [==============================] - 3s 4ms/step - loss: 1.8354 - accuracy: 0.3332\n",
            "Epoch 6/10\n",
            "782/782 [==============================] - 3s 4ms/step - loss: 1.7687 - accuracy: 0.3563\n",
            "Epoch 7/10\n",
            "782/782 [==============================] - 3s 4ms/step - loss: 1.7232 - accuracy: 0.3758\n",
            "Epoch 8/10\n",
            "782/782 [==============================] - 3s 4ms/step - loss: 1.6893 - accuracy: 0.3913\n",
            "Epoch 9/10\n",
            "782/782 [==============================] - 3s 4ms/step - loss: 1.6603 - accuracy: 0.4019\n",
            "Epoch 10/10\n",
            "782/782 [==============================] - 3s 4ms/step - loss: 1.6359 - accuracy: 0.4113\n"
          ]
        },
        {
          "output_type": "display_data",
          "data": {
            "image/png": "[encoded data removed]",
            "text/plain": [
              "<Figure size 512x320 with 1 Axes>"
            ]
          },
          "metadata": {}
        }
      ]
    },
    {
      "cell_type": "markdown",
      "metadata": {
        "id": "hAnnTwvtjVOY"
      },
      "source": [
        "Możemy zobserwować, że w kolejnych epokach uzyskiwane byłych doraz większe wartości wybranej miary - dokładności. Niemniej wyniki są bardzo słabe. Architektura naszego modelu nie jest zapewne dobrze dobrana do rozpatrywanego problemu. Oczywiście w kolejnych krokach będziemy taki model rozbudowywać.\n",
        "\n",
        "Na razie jednak przyjrzyjmy się pewnym aspektom uzyskanego modelu: architektura + nauczone wartości wag. Jak odczytać wartości wag dla naszego modelu?\n",
        "\n",
        "\n"
      ]
    },
    {
      "cell_type": "code",
      "metadata": {
        "id": "iAH-kG6Ae_NR",
        "colab": {
          "base_uri": "https://localhost:8080/",
          "height": 1000
        },
        "outputId": "2cd42d67-330a-4bca-99ac-bed5835a457e"
      },
      "source": [
        "# Get intance of the tf.keras.layers.Layer class:\n",
        "# keras_model.layers[1] or keras_model.get_layer(\"conv2D_1\")\n",
        "\n",
        "layer_output = keras_model.get_layer(\"conv2D_1\").output\n",
        "layer_weights = keras_model.get_layer(\"conv2D_1\").get_weights()\n",
        "\n",
        "# Show output of the layer and weights of the layer\n",
        "print(\"Shape of the layer output:\", layer_output.shape)\n",
        "print(\"Shape of the layer weights - without bias:\", layer_weights[0].shape)\n",
        "print(\"Shape of the bias tensor:\", layer_weights[1].shape)\n",
        "\n",
        "simple_model = tf.keras.models.Model(inputs=keras_model.input, outputs=layer_output)\n",
        "activations = simple_model.predict(x_test[:2])\n",
        "print(activations.shape)\n",
        "\n",
        "fig, axs = plt.subplots(1, 2, figsize=(10, 10))\n",
        "axs[0].imshow((255.*x_test[0]).astype('int'))\n",
        "\n",
        "axs[0].grid(False)\n",
        "axs[1].imshow(activations[0].reshape(activations.shape[1:3]),cmap=plt.cm.gray)\n",
        "axs[1].grid(False)\n",
        "plt.show()\n",
        "\n",
        "# Show weights for each depth component\n",
        "\n",
        "figW1 = plt.figure(figsize=(9, 6), dpi=64)\n",
        "axW1 = sns.heatmap(layer_weights[0][0].reshape(3,3),\n",
        "                  cbar=False,\n",
        "                  square=True,\n",
        "                  annot=True,\n",
        "                  fmt='g',\n",
        "                  cmap=ListedColormap(['#F2F2F2']),\n",
        "                  linewidths=2.)\n",
        "axW1.set(title=\"Weights for the component 1\")\n",
        "plt.show()\n",
        "\n",
        "figW2 = plt.figure(figsize=(9, 6), dpi=64)\n",
        "axW2 = sns.heatmap(layer_weights[0][1].reshape(3,3),\n",
        "                  cbar=False,\n",
        "                  square=True,\n",
        "                  annot=True,\n",
        "                  fmt='g',\n",
        "                  cmap=ListedColormap(['#F2F2F2']),\n",
        "                  linewidths=2.)\n",
        "axW2.set(title=\"Weights for the component 2\")\n",
        "plt.show()\n",
        "\n",
        "figW3 = plt.figure(figsize=(9, 6), dpi=64)\n",
        "axW3 = sns.heatmap(layer_weights[0][2].reshape(3,3),\n",
        "                  cbar=False,\n",
        "                  square=True,\n",
        "                  annot=True,\n",
        "                  fmt='g',\n",
        "                  cmap=ListedColormap(['#F2F2F2']),\n",
        "                  linewidths=2.)\n",
        "axW3.set(title=\"Weights for the component 3\")\n",
        "plt.show()\n"
      ],
      "execution_count": null,
      "outputs": [
        {
          "output_type": "stream",
          "name": "stdout",
          "text": [
            "Shape of the layer output: (None, 30, 30, 1)\n",
            "Shape of the layer weights - without bias: (3, 3, 3, 1)\n",
            "Shape of the bias tensor: (1,)\n",
            "(2, 30, 30, 1)\n"
          ]
        },
        {
          "output_type": "display_data",
          "data": {
            "image/png": "[encoded data removed]",
            "text/plain": [
              "<Figure size 720x720 with 2 Axes>"
            ]
          },
          "metadata": {}
        },
        {
          "output_type": "display_data",
          "data": {
            "image/png": "[encoded data removed]",
            "text/plain": [
              "<Figure size 576x384 with 1 Axes>"
            ]
          },
          "metadata": {}
        },
        {
          "output_type": "display_data",
          "data": {
            "image/png": "[encoded data removed]",
            "text/plain": [
              "<Figure size 576x384 with 1 Axes>"
            ]
          },
          "metadata": {}
        },
        {
          "output_type": "display_data",
          "data": {
            "image/png": "[encoded data removed]",
            "text/plain": [
              "<Figure size 576x384 with 1 Axes>"
            ]
          },
          "metadata": {}
        }
      ]
    },
    {
      "cell_type": "markdown",
      "metadata": {
        "id": "lfI3Z7vhRNA3"
      },
      "source": [
        "Wypróbujmy teraz inną architekturę: wprowadźmy więcej filtrów oraz więcej warstw splotowych:"
      ]
    },
    {
      "cell_type": "code",
      "metadata": {
        "id": "0yNzkaloslgX",
        "colab": {
          "base_uri": "https://localhost:8080/"
        },
        "outputId": "337bdbf0-9a06-46a0-850a-e15cd57d6539"
      },
      "source": [
        "# Use Keras High Level API to solve our problem\n",
        "\n",
        "# Define the Model\n",
        "keras_model_2 = tf.keras.Sequential([\n",
        "\n",
        "    tf.keras.layers.Conv2D(16, kernel_size=3, activation='relu',\n",
        "                           input_shape=x_train.shape[1:], name=\"conv2D_2\"),\n",
        "    tf.keras.layers.Conv2D(16, kernel_size=3, activation='relu',\n",
        "                            name=\"conv2D_3\"),\n",
        "    tf.keras.layers.Conv2D(1, kernel_size=3, activation='relu',\n",
        "                            name=\"conv2D_4\"),\n",
        "    tf.keras.layers.Flatten(),  # make data flat to use dense layers\n",
        "    tf.keras.layers.Dense(50, activation='relu'),\n",
        "    tf.keras.layers.Dense(no_of_classes, activation='softmax')\n",
        "\n",
        "  ])\n",
        "\n",
        "# Show the model definition (layers, etc.)\n",
        "keras_model_2.summary()\n"
      ],
      "execution_count": null,
      "outputs": [
        {
          "output_type": "stream",
          "name": "stdout",
          "text": [
            "Model: \"sequential_1\"\n",
            "_________________________________________________________________\n",
            "Layer (type)                 Output Shape              Param #   \n",
            "=================================================================\n",
            "conv2D_2 (Conv2D)            (None, 30, 30, 16)        448       \n",
            "_________________________________________________________________\n",
            "conv2D_3 (Conv2D)            (None, 28, 28, 16)        2320      \n",
            "_________________________________________________________________\n",
            "conv2D_4 (Conv2D)            (None, 26, 26, 1)         145       \n",
            "_________________________________________________________________\n",
            "flatten_2 (Flatten)          (None, 676)               0         \n",
            "_________________________________________________________________\n",
            "dense_2 (Dense)              (None, 50)                33850     \n",
            "_________________________________________________________________\n",
            "dense_3 (Dense)              (None, 10)                510       \n",
            "=================================================================\n",
            "Total params: 37,273\n",
            "Trainable params: 37,273\n",
            "Non-trainable params: 0\n",
            "_________________________________________________________________\n"
          ]
        }
      ]
    },
    {
      "cell_type": "code",
      "metadata": {
        "id": "WYn5x5Exs9Qm",
        "colab": {
          "base_uri": "https://localhost:8080/"
        },
        "outputId": "ecfda5fb-89bb-4bc8-b2d6-fe8cfc7af49d"
      },
      "source": [
        "# Set the training parameters\n",
        "keras_model_2.compile(\n",
        "    # Choose the optimizer\n",
        "    optimizer=sgd,\n",
        "    loss='categorical_crossentropy',\n",
        "    # Introduce additional metric\n",
        "    metrics=['accuracy']\n",
        ")\n",
        "\n",
        "# Start the training with the specified hyperparameters\n",
        "# (and store the history of training)\n",
        "# Try with much more epochs in your experiments\n",
        "history = keras_model_2.fit(x_train, y_train, epochs=epochs, batch_size=batch_size)\n",
        "\n"
      ],
      "execution_count": null,
      "outputs": [
        {
          "output_type": "stream",
          "name": "stdout",
          "text": [
            "Epoch 1/10\n",
            "782/782 [==============================] - 6s 7ms/step - loss: 2.3032 - accuracy: 0.0991\n",
            "Epoch 2/10\n",
            "782/782 [==============================] - 5s 7ms/step - loss: 2.3029 - accuracy: 0.1011\n",
            "Epoch 3/10\n",
            "782/782 [==============================] - 5s 7ms/step - loss: 2.3030 - accuracy: 0.1001\n",
            "Epoch 4/10\n",
            "782/782 [==============================] - 5s 7ms/step - loss: 2.3031 - accuracy: 0.0973\n",
            "Epoch 5/10\n",
            "782/782 [==============================] - 5s 7ms/step - loss: 2.3031 - accuracy: 0.0978\n",
            "Epoch 6/10\n",
            "782/782 [==============================] - 6s 7ms/step - loss: 2.3030 - accuracy: 0.1004\n",
            "Epoch 7/10\n",
            "782/782 [==============================] - 5s 7ms/step - loss: 2.3031 - accuracy: 0.0960\n",
            "Epoch 8/10\n",
            "782/782 [==============================] - 6s 7ms/step - loss: 2.3030 - accuracy: 0.0986\n",
            "Epoch 9/10\n",
            "782/782 [==============================] - 5s 7ms/step - loss: 2.3030 - accuracy: 0.0977\n",
            "Epoch 10/10\n",
            "782/782 [==============================] - 6s 7ms/step - loss: 2.3030 - accuracy: 0.0979\n"
          ]
        }
      ]
    },
    {
      "cell_type": "code",
      "metadata": {
        "id": "8ArHsKKHtTKA",
        "colab": {
          "base_uri": "https://localhost:8080/",
          "height": 378
        },
        "outputId": "2db032a9-24f7-416a-860d-af30807661d8"
      },
      "source": [
        "# Get intance of the tf.keras.layers.Layer class:\n",
        "# keras_model.layers[1] or keras_model.get_layer(\"conv2D_1\")\n",
        "\n",
        "layer_output = keras_model_2.get_layer(\"conv2D_4\").output\n",
        "layer_weights = keras_model_2.get_layer(\"conv2D_4\").get_weights()\n",
        "\n",
        "# Show output of the layer and weights of the layer\n",
        "print(\"Shape of the layer output:\", layer_output.shape)\n",
        "print(\"Shape of the layer weights - without bias:\", layer_weights[0].shape)\n",
        "print(\"Shape of the bias tensor:\", layer_weights[1].shape)\n",
        "\n",
        "simple_model = tf.keras.models.Model(inputs=keras_model_2.input, outputs=layer_output)\n",
        "activations = simple_model.predict(x_test[:2])\n",
        "print(activations.shape)\n",
        "\n",
        "fig, axs = plt.subplots(1, 2, figsize=(10, 10))\n",
        "axs[0].imshow(x_test[0])\n",
        "axs[0].grid(False)\n",
        "axs[1].imshow(activations[0].reshape(activations.shape[1:3]),cmap=plt.cm.gray)\n",
        "axs[1].grid(False)\n",
        "plt.show()"
      ],
      "execution_count": null,
      "outputs": [
        {
          "output_type": "stream",
          "name": "stdout",
          "text": [
            "Shape of the layer output: (None, 26, 26, 1)\n",
            "Shape of the layer weights - without bias: (3, 3, 16, 1)\n",
            "Shape of the bias tensor: (1,)\n",
            "(2, 26, 26, 1)\n"
          ]
        },
        {
          "output_type": "display_data",
          "data": {
            "image/png": "[encoded data removed]",
            "text/plain": [
              "<Figure size 720x720 with 2 Axes>"
            ]
          },
          "metadata": {}
        }
      ]
    },
    {
      "cell_type": "markdown",
      "metadata": {
        "id": "Kazd2O8ptQ1u"
      },
      "source": [
        "Uzyskane wyniki wciąż nie są najlepsze (i mogą się znacznie różnić pomiędzy kolejnymi treningami, łącznie z brakiem zbieżności).\n",
        "\n",
        "W czasie prezentacji poznaliśmy jeszcze inny rodzaj wartstw stosowanych w sieciach splotowych: warstwy redukcji danych (ang. pooling). Przypomnijmy, że warstwy te wykonują prostą operację redukcji danych przestrzennych prowadząc do uogólniana cech i zwiększenia pola recepcyjnego. W klasycznym podejściu nie posiadają parametrów podlegających uczeniu. Typowe wersje lokalnej (w oknie) redukcji danych to:\n",
        "\n",
        "- Max Pooling - dla danego okna (rozmiaru maski), np. 2x2, wybierz wartość maksymalną - wyjście: 1 wartość maksymalna (zamiast 4 wartości).\n",
        "- Average Pooling - dla danego okna (rozmiaru maski), np. 2x2, oblicz wartość średnią - wyjście: 1 wartość średnia (zamiast 4 wartości).\n",
        "\n",
        "Podstawowymi hiperparametrami dla tych operacji są rozmiar okna (ang. kernel size) oraz krok (ang. stride).\n",
        "\n",
        "Zastosujmy te operacje w naszej architekturze modelu głębokiego.\n",
        "\n"
      ]
    },
    {
      "cell_type": "code",
      "metadata": {
        "id": "L3wSBlvUO3FK",
        "colab": {
          "base_uri": "https://localhost:8080/"
        },
        "outputId": "fcdad172-8af6-4f4b-89b2-53c2bdece5d6"
      },
      "source": [
        "\n",
        "# Use Keras High Level API to solve our problem\n",
        "\n",
        "# Define the Model\n",
        "keras_model_3 = tf.keras.Sequential([\n",
        "\n",
        "    tf.keras.layers.Conv2D(16, kernel_size=3, activation='relu',\n",
        "                           input_shape=x_train.shape[1:], name=\"conv2D_5\"),\n",
        "    tf.keras.layers.Conv2D(16, kernel_size=3, activation='relu',\n",
        "                            name=\"conv2D_6\"),\n",
        "    tf.keras.layers.MaxPool2D(pool_size=(2,2)),\n",
        "    tf.keras.layers.Conv2D(32, kernel_size=3, activation='relu',\n",
        "                           name=\"conv2D_7\"),\n",
        "    tf.keras.layers.Conv2D(32, kernel_size=3, activation='relu',\n",
        "                            name=\"conv2D_8\"),\n",
        "    tf.keras.layers.MaxPool2D(pool_size=(2,2)),\n",
        "\n",
        "    # make data flat using average in spatial dimension\n",
        "    # tf.keras.layers.GlobalAveragePooling2D(),\n",
        "    tf.keras.layers.Flatten(),\n",
        "    tf.keras.layers.Dense(100, activation='relu'),\n",
        "    tf.keras.layers.Dense(no_of_classes, activation='softmax')\n",
        "\n",
        "  ])\n",
        "\n",
        "# Show the model definition (layers, etc.)\n",
        "keras_model_3.summary()"
      ],
      "execution_count": null,
      "outputs": [
        {
          "output_type": "stream",
          "name": "stdout",
          "text": [
            "Model: \"sequential_2\"\n",
            "_________________________________________________________________\n",
            "Layer (type)                 Output Shape              Param #   \n",
            "=================================================================\n",
            "conv2D_5 (Conv2D)            (None, 30, 30, 16)        448       \n",
            "_________________________________________________________________\n",
            "conv2D_6 (Conv2D)            (None, 28, 28, 16)        2320      \n",
            "_________________________________________________________________\n",
            "max_pooling2d_1 (MaxPooling2 (None, 14, 14, 16)        0         \n",
            "_________________________________________________________________\n",
            "conv2D_7 (Conv2D)            (None, 12, 12, 32)        4640      \n",
            "_________________________________________________________________\n",
            "conv2D_8 (Conv2D)            (None, 10, 10, 32)        9248      \n",
            "_________________________________________________________________\n",
            "max_pooling2d_2 (MaxPooling2 (None, 5, 5, 32)          0         \n",
            "_________________________________________________________________\n",
            "flatten_3 (Flatten)          (None, 800)               0         \n",
            "_________________________________________________________________\n",
            "dense_4 (Dense)              (None, 100)               80100     \n",
            "_________________________________________________________________\n",
            "dense_5 (Dense)              (None, 10)                1010      \n",
            "=================================================================\n",
            "Total params: 97,766\n",
            "Trainable params: 97,766\n",
            "Non-trainable params: 0\n",
            "_________________________________________________________________\n"
          ]
        }
      ]
    },
    {
      "cell_type": "code",
      "metadata": {
        "id": "jT3GAezUPU_v",
        "colab": {
          "base_uri": "https://localhost:8080/"
        },
        "outputId": "4caea741-9884-4a9f-92f0-3a069e69b24a"
      },
      "source": [
        "# Set the training parameters\n",
        "keras_model_3.compile(\n",
        "    # Choose the optimizer\n",
        "    optimizer= sgd,\n",
        "    loss='categorical_crossentropy',\n",
        "    # Introduce additional metric\n",
        "    metrics=['accuracy']\n",
        ")\n",
        "\n",
        "# Start the training with the specified hyperparameters\n",
        "# (and store the history of training)\n",
        "# Try with much more epochs in your experiments\n",
        "history = keras_model_3.fit(x_train, y_train, epochs=epochs, batch_size=batch_size)\n"
      ],
      "execution_count": null,
      "outputs": [
        {
          "output_type": "stream",
          "name": "stdout",
          "text": [
            "Epoch 1/10\n",
            "782/782 [==============================] - 7s 8ms/step - loss: 1.6690 - accuracy: 0.3897\n",
            "Epoch 2/10\n",
            "782/782 [==============================] - 6s 8ms/step - loss: 1.2536 - accuracy: 0.5523\n",
            "Epoch 3/10\n",
            "782/782 [==============================] - 6s 8ms/step - loss: 1.0694 - accuracy: 0.6239\n",
            "Epoch 4/10\n",
            "782/782 [==============================] - 6s 8ms/step - loss: 0.9470 - accuracy: 0.6661\n",
            "Epoch 5/10\n",
            "782/782 [==============================] - 6s 8ms/step - loss: 0.8556 - accuracy: 0.6997\n",
            "Epoch 6/10\n",
            "782/782 [==============================] - 6s 8ms/step - loss: 0.7767 - accuracy: 0.7270\n",
            "Epoch 7/10\n",
            "782/782 [==============================] - 6s 8ms/step - loss: 0.7212 - accuracy: 0.7484\n",
            "Epoch 8/10\n",
            "782/782 [==============================] - 6s 8ms/step - loss: 0.6683 - accuracy: 0.7651\n",
            "Epoch 9/10\n",
            "782/782 [==============================] - 6s 8ms/step - loss: 0.6257 - accuracy: 0.7813\n",
            "Epoch 10/10\n",
            "782/782 [==============================] - 6s 8ms/step - loss: 0.5834 - accuracy: 0.7948\n"
          ]
        }
      ]
    },
    {
      "cell_type": "markdown",
      "metadata": {
        "id": "6A3wZNzov5WX"
      },
      "source": [
        "Uzyskaliśmy względnie dobre wyniki dokładności modelu w procesie uczenia (proszę zauważyć, że zmieniliśmy również kilka innych parametrów).\n",
        "\n",
        "Sprawdźmy teraz jakie wyniki uzyskuje model dla danych, których wcześniej nie widział - dla danych testowych."
      ]
    },
    {
      "cell_type": "code",
      "metadata": {
        "id": "q8uricaw_1ET",
        "colab": {
          "base_uri": "https://localhost:8080/",
          "height": 547
        },
        "outputId": "2302d72e-ebba-40b7-efb9-b9325c5a5772"
      },
      "source": [
        "# Test data - the same as for training data\n",
        "\n",
        "test_examples = y_test.shape[0]\n",
        "# test_examples = 20\n",
        "\n",
        "y = keras_model_3.predict(x_test[:test_examples])\n",
        "\n",
        "print(\"\\nRun evaluation\")\n",
        "loss, accuracy = keras_model_3.evaluate(x_test[:test_examples],\n",
        "                                      y_test[:test_examples])\n",
        "\n",
        "print(\"Evaluation result - loss: \", loss)\n",
        "print(\"Evaluation result - accuracy: \", accuracy)\n",
        "\n",
        "# print(\"True (binary) labels: \")\n",
        "# print(y_test[:test_examples])\n",
        "# print(\"Model 'probabilities': \")\n",
        "# print(y[:test_examples])\n",
        "\n",
        "print(\"\\nShow some test results\")\n",
        "example = 1\n",
        "img = ((x_test[example]*255.0).reshape(32,32,3)).astype(int)\n",
        "plt.imshow(img)\n",
        "plt.grid(False)\n",
        "\n",
        "class_id = np.argmax(y_test[example])\n",
        "print(\"True original label :\", class_id, class_names[class_id])\n",
        "print(\"\\nShow 'probabilities': \")\n",
        "print(y[example])\n",
        "\n",
        "print(\"\\nPredicted label: \", class_names[np.argmax(y[example])])\n"
      ],
      "execution_count": null,
      "outputs": [
        {
          "output_type": "stream",
          "name": "stdout",
          "text": [
            "\n",
            "Run evaluation\n",
            "313/313 [==============================] - 1s 4ms/step - loss: 0.9079 - accuracy: 0.6983\n",
            "Evaluation result - loss:  0.9078916311264038\n",
            "Evaluation result - accuracy:  0.6983000040054321\n",
            "\n",
            "Show some test results\n",
            "True original label : 8 ship\n",
            "\n",
            "Show 'probabilities': \n",
            "[1.38516014e-04 1.10068657e-01 4.76871982e-08 1.14147724e-07\n",
            " 2.31412042e-10 3.68284819e-10 5.34516387e-09 3.90342481e-11\n",
            " 8.73777092e-01 1.60156190e-02]\n",
            "\n",
            "Predicted label:  ship\n"
          ]
        },
        {
          "output_type": "display_data",
          "data": {
            "image/png": "[encoded data removed]",
            "text/plain": [
              "<Figure size 432x288 with 1 Axes>"
            ]
          },
          "metadata": {}
        }
      ]
    },
    {
      "cell_type": "markdown",
      "metadata": {
        "id": "242Jo0a9msua"
      },
      "source": [
        "Wyniki fazy testowania są zbieżne z rezultatami treningu. Oczywiście moglibyśmy zwiększyć liczbę epok, poszukiwać innych architektur (architektura jako hipoteza do weryfikacji), poszukiwać najlepszych wartości hiperparametrów, itp.\n",
        "\n",
        "W kolejnym materiale zajmiemy się klasycznymi architekturami splotowych sieci głębokich. Poznamy nowe rodzaje warstw, topologii połączeń, itp.\n",
        "\n",
        "Zachęcam jak zawsze do eksperymentowania z przedstawionymi w tym notatniku przykładami."
      ]
    },
    {
      "cell_type": "markdown",
      "metadata": {
        "id": "y3ilyC3IqP7J"
      },
      "source": [
        "<center>\n",
        "Projekt współfinansowany ze środków Unii Europejskiej w ramach Europejskiego Funduszu Rozwoju Regionalnego\n",
        "Program Operacyjny Polska Cyfrowa na lata 2014-2020,\n",
        "Oś Priorytetowa nr 3 \"Cyfrowe kompetencje społeczeństwa\" Działanie  nr 3.2 \"Innowacyjne rozwiązania na rzecz aktywizacji cyfrowej\"\n",
        "Tytuł projektu:  „Akademia Innowacyjnych Zastosowań Technologii Cyfrowych (AI Tech)”\n",
        "    </center>"
      ]
    }
  ]
}