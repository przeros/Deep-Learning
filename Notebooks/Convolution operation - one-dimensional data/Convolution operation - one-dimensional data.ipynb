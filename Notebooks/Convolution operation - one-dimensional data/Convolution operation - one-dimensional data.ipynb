{
  "nbformat": 4,
  "nbformat_minor": 0,
  "metadata": {
    "colab": {
      "provenance": []
    },
    "kernelspec": {
      "name": "python3",
      "display_name": "Python 3"
    },
    "language_info": {
      "name": "python"
    }
  },
  "cells": [
    {
      "cell_type": "markdown",
      "metadata": {
        "id": "BI6oVy6pMr23"
      },
      "source": [
        "##### AI TECH - Akademia Innowacyjnych Zastosowań Technologii Cyfrowych. Programu Operacyjnego Polska Cyfrowa na lata 2014-2020\n",
        "<hr>\n"
      ]
    },
    {
      "cell_type": "markdown",
      "metadata": {
        "id": "vvuq1qKOQEXq"
      },
      "source": [
        "# Uczenie głębokie\n",
        "\n",
        "Jacek Rumiński, Politechnika Gdańska, Wydział ETI, Katedra Inżynierii Biomedycznej\n",
        "\n",
        "**Wykład 1:** Wprowadzenie do uczenia głębokiego. Operacja splotu i jej znaczenie\n",
        "\n",
        "**Przykład (1):** Operacja splotu - dane jednowymiarowe\n"
      ]
    },
    {
      "cell_type": "markdown",
      "metadata": {
        "id": "uPiU0rFmQmdK"
      },
      "source": [
        "W ramach tego notatnika zaponamy się z metodami dotyczącymi operacji splotu i jej zastosowania w sztucznych sieciach neuronowych na przykładzie danych jednowymiarowych.\n",
        "\n",
        "\n",
        "Wskażmy pakiety, z jakich będziemy korzystać:"
      ]
    },
    {
      "cell_type": "code",
      "metadata": {
        "colab": {
          "base_uri": "https://localhost:8080/"
        },
        "id": "CrCMqw7lM2Lo",
        "outputId": "15e15614-ca7b-4e8a-ec9b-2db5a8426698"
      },
      "source": [
        "import numpy as np\n",
        "import tensorflow as tf\n",
        "import matplotlib.pyplot as plt\n",
        "import matplotlib\n",
        "\n",
        "\n",
        "print(tf.__version__)"
      ],
      "execution_count": null,
      "outputs": [
        {
          "output_type": "stream",
          "name": "stdout",
          "text": [
            "2.6.0\n"
          ]
        }
      ]
    },
    {
      "cell_type": "markdown",
      "metadata": {
        "id": "BJ_ogIRQ85D3"
      },
      "source": [
        "Rozpocznijmy od definicji prostego przykładu z danymi 1D.\n",
        "\n"
      ]
    },
    {
      "cell_type": "code",
      "metadata": {
        "colab": {
          "base_uri": "https://localhost:8080/",
          "height": 339
        },
        "id": "oi6w00OTNA4_",
        "outputId": "5db77c81-a363-44b2-e3f2-c9167d78107f"
      },
      "source": [
        "# An array with 1 signal\n",
        "signals = np.array([[1.,1.,1.,10.,1.,1.,1. ]])\n",
        "matplotlib.rcParams.update({'font.size': 16})\n",
        "fig = plt.figure(figsize=(9, 6), dpi=64)\n",
        "plt.scatter(np.linspace(0,len(signals[0])-1,len(signals[0])), signals[0])\n",
        "plt.show()\n"
      ],
      "execution_count": null,
      "outputs": [
        {
          "output_type": "display_data",
          "data": {
            "image/png": "[encoded data removed]",
            "text/plain": [
              "<Figure size 576x384 with 1 Axes>"
            ]
          },
          "metadata": {
            "needs_background": "light"
          }
        }
      ]
    },
    {
      "cell_type": "markdown",
      "metadata": {
        "id": "yDRZrqKVoXBC"
      },
      "source": [
        "Zgodnie z informacjami przedstawionymi w czsie prezentacji operacja splotu może być zapisana jako :\n",
        "$${h[n]=(f*g)[n]=\\sum _{m=-M}^{M}f[m]g[n-m].}$$\n",
        "\n",
        "Dla każdej istniejącej próbki n, obliczamy nową wartość - wynik operacji splotu.\n",
        "\n",
        "W uproszczeniu mieszamy dwa sygnały: sygnał wejściowy oraz sygnał dodatkowy nazywany maską (ang. mask), jądrem (ang. kernel), itp. Maska może przykładowo reprezentować dane filtru.\n",
        "\n",
        "Ze względu na własności operacji splotu możemy ją również zapisać w formie:\n",
        "\n",
        "$${h[n]=(f*g)[n]=\\sum _{m=-M}^{M}f[n-m]g[m].}$$\n",
        "\n",
        "Warto ponadto zauważyć, że w pierwszym wzorze próbki danych maski są przetwarzane geometrycznie (odbijane - 180 stopni) w procesie splotu.  \n",
        "\n",
        "Oczywiscie jeśli jądro/maska zawiera symetryczny układ wartości to nie ma potrzeby realizować tej operacji. W takiej sytuacji możemy się w praktyce posłużuyć operacją korelacji wzajemnej:\n",
        "\n",
        "$${h[n]= (f \\otimes g)[n]=\\sum _{m=-M}^{M}f[m]g[n+m].}$$\n",
        "\n",
        "Zilustrujmy te operacji posługując się prostym przykładem.\n"
      ]
    },
    {
      "cell_type": "code",
      "metadata": {
        "colab": {
          "base_uri": "https://localhost:8080/"
        },
        "id": "QOJy8HqvhV92",
        "outputId": "79974906-d98c-4c26-a541-fe8bb89bd543"
      },
      "source": [
        "# Let's define the filter mask - kernel - g function\n",
        "kernel = np.array([1.,1.,1.])\n",
        "kernel /= np.sum(kernel)\n",
        "\n",
        "print(\"Kernel - filter mask values: \", kernel)\n",
        "print(\"Kernel size: \", kernel.shape)"
      ],
      "execution_count": null,
      "outputs": [
        {
          "output_type": "stream",
          "name": "stdout",
          "text": [
            "Kernel - filter mask values:  [0.33333333 0.33333333 0.33333333]\n",
            "Kernel size:  (3,)\n"
          ]
        }
      ]
    },
    {
      "cell_type": "markdown",
      "metadata": {
        "id": "E5qIcQWJs9p_"
      },
      "source": [
        "Zauważmy, że:\n",
        "1. Rozmiar sygnału wejściowego (np. signals[0]) oraz rozmiar maski są inne\n",
        "2. Układ wartości w masce jest symetryczny g[n-m] = g[n+m]:\n",
        "\n",
        "Ponieważ rozmiar maski jest 3, dlatego dla M = 1, m = {-1, 0, 1}.\n",
        "Wykonajmy \"ręcznie\" operację splotu dla każdego n.\n",
        "\n",
        "\n",
        "Rozpatrzmy najpierw krok n = 0:\n",
        "\n",
        "```Python\n",
        "\n",
        "h[0] = f[0- (-1)]g[-1] + f[0- (0)]g[0] + f[0- (+1)]g[1]\n",
        "\n",
        "h[0] = f[1]g[-1] + f[0]g[0] + f[-1]g[1]\n",
        "\n",
        "```\n",
        "\n",
        "Pamiętając, że:\n",
        "\n",
        "```Python\n",
        "f = signals[0] = [1.,1.,1.,10.,1.,1.,1. ]\n",
        "```\n",
        "\n",
        "widzimy, że nie mamy wartości:\n",
        "\n",
        "f[-1]\n",
        "\n",
        "dlatego pomijamy n = 0\n",
        "\n",
        "\n",
        "Zacznijmy od n = 1:\n",
        "```Python\n",
        "h[1] = f[1- (-1)]g[-1] + f[1- (0)]g[0] + f[1- (+1)]g[1]\n",
        "\n",
        "h[1] = f[2]g[-1] + f[1]g[0] + f[0]g[1]\n",
        "\n",
        "h[1] = 1 * 0.333(3) + 1 * 0.333(3) + 1 * 0.333(3)= 3/3 = 1\n",
        "```\n",
        "\n",
        "Następnie:\n",
        "\n",
        "n = 2\n",
        "```Python\n",
        "h[2] = f[2- (-1)]g[-1] + f[2- (0)]g[0] + f[2- (+1)]g[1]\n",
        "\n",
        "h[2] = f[3]g[-1] + f[2]g[0] + f[1]g[1]\n",
        "\n",
        "h[2] = 10 * 0.333(3) + 1 * 0.333(3) + 1 * 0.333(3) = 12/3 = 4\n",
        "```\n",
        "ITD dla n = {3, 4, 5} aż do\n",
        "\n",
        "n = 6\n",
        "\n",
        "```Python\n",
        "h[6] = f[6- (-1)]g[-1] + f[6- (0)]g[0] + f[6- (+1)]g[1]\n",
        "\n",
        "h[2] = f[7]g[-1] + f[6]g[0] + f[5]g[1]\n",
        "\n",
        "```\n",
        "\n",
        "i znowu nie mamy wartości pod adresem f[7]\n",
        "\n",
        "czyli pomijamy n = 6.\n",
        "\n",
        "\n",
        "Ostatecznie uzyskamy:\n",
        "\n",
        "```Python\n",
        "h[1]=1, h[2]=4, h[3]=4, h[4]=4, h[5]=1\n",
        "```\n",
        "\n",
        "Ponieważ nasza maska jest symetryczna powinniśmy uzyskać ten sam wynik stosując operację korelacji wzajemnej - warto sprawdzić.\n",
        "\n",
        "Zaimplementujmy to w Pythonie:\n"
      ]
    },
    {
      "cell_type": "code",
      "metadata": {
        "id": "koSrQMxFMjw0"
      },
      "source": [
        "def conv1D(sig, kernel, debug = True):\n",
        "  # Simplified cross correlation or convolution with a symmetrical kernel\n",
        "  filtered_signal = []\n",
        "  kernel_length = len(kernel)\n",
        "\n",
        "  # Calculate number of locations where the filter_mask covers the input signal\n",
        "  overlay_positions = len(sig)-kernel_length+1\n",
        "\n",
        "  for i in range(overlay_positions):\n",
        "\n",
        "    # This is element wise multiplication (NOT FOR USE HERE - WE NEED SUM):\n",
        "    # np.multiply(kernel, sig[i:i+kernel_length])\n",
        "    # or kernel * sig[i:i+kernel_length]\n",
        "\n",
        "    # This is matrix multiplication:\n",
        "    # np.matmul(kernel, sig[i:i+kernel_length])\n",
        "    # or kernel @ sig[i:i+kernel_length]\n",
        "    # or we can also use here np.dot(kernel, sig[i:i+kernel_length])\n",
        "\n",
        "    convolution_step = kernel @ sig[i:i+kernel_length]\n",
        "    filtered_signal.append(convolution_step)\n",
        "\n",
        "    if debug:\n",
        "      print(\"\\nSelected signal segment: \", sig[i:i+kernel_length])\n",
        "      print(\"Convolution step result: \", convolution_step)\n",
        "\n",
        "  return np.array(filtered_signal)"
      ],
      "execution_count": null,
      "outputs": []
    },
    {
      "cell_type": "code",
      "metadata": {
        "colab": {
          "base_uri": "https://localhost:8080/"
        },
        "id": "HtpAFv46cgye",
        "outputId": "d7960d18-67e9-449f-b774-d965962a694b"
      },
      "source": [
        "output_signal = conv1D(signals[0], kernel)\n",
        "print(\"\\nSignal after convolution: \", output_signal)"
      ],
      "execution_count": null,
      "outputs": [
        {
          "output_type": "stream",
          "name": "stdout",
          "text": [
            "\n",
            "Selected signal segment:  [1. 1. 1.]\n",
            "Convolution step result:  1.0\n",
            "\n",
            "Selected signal segment:  [ 1.  1. 10.]\n",
            "Convolution step result:  4.0\n",
            "\n",
            "Selected signal segment:  [ 1. 10.  1.]\n",
            "Convolution step result:  4.0\n",
            "\n",
            "Selected signal segment:  [10.  1.  1.]\n",
            "Convolution step result:  4.0\n",
            "\n",
            "Selected signal segment:  [1. 1. 1.]\n",
            "Convolution step result:  1.0\n",
            "\n",
            "Signal after convolution:  [1. 4. 4. 4. 1.]\n"
          ]
        }
      ]
    },
    {
      "cell_type": "markdown",
      "metadata": {
        "id": "l0IauOKNhwvX"
      },
      "source": [
        "Uzyskaliśmy:\n",
        "- \"wygładzoną\" wersję sygnału (filtracja dolnoprzepustowa),\n",
        "- mniej próbek: N - (2 * int(F/2)) ), gdzie N - liczba próbek sygnału wejsciowego, F - rozmiar maski\n",
        "\n",
        "Możemy następnie:\n",
        "- dodać (uzupełnić) wartości do sygnału wejściowego tak, aby po operacji splotu uzyskać taki sam rozmiar danych wyjściowych jak wejsciowych\n",
        "- w tym celu musimy uzupelnić int(F/2) próbek po każdej ze stron sygnału\n",
        "- oraz musimy wybrać strategię dotyczącą wartości jakie wstawiamy w te uzupełniane miejsca: dodać stałą wartość np. 0 values lub założyć, że sygnał jest okresowy (okres = N) i przed oraz po sygnale są jego kopie, lub dokonać odpbicia sygnału np. stosując jako oś odpbicia początek i koniec sygnału, itp.\n",
        "\n",
        "Zdefninijmy prostą funkcję realizującą uzupelnianie danych:\n"
      ]
    },
    {
      "cell_type": "code",
      "metadata": {
        "id": "0ovJJ60jKoA-"
      },
      "source": [
        "def padding(sig, kernel_length):\n",
        "  '''\n",
        "  Padding - Add fixed value =0 at each boundary\n",
        "  '''\n",
        "  boundary = int(kernel_length/2)\n",
        "  output = np.zeros(len(sig)+2*boundary)\n",
        "  output[boundary:(len(output)-boundary)] = sig\n",
        "  return output\n",
        "\n"
      ],
      "execution_count": null,
      "outputs": []
    },
    {
      "cell_type": "markdown",
      "metadata": {
        "id": "VMR-kCR7_OA9"
      },
      "source": [
        "Zastosujmy prostą operację uzupełniania danych:"
      ]
    },
    {
      "cell_type": "code",
      "metadata": {
        "colab": {
          "base_uri": "https://localhost:8080/"
        },
        "id": "NJCtu6C8LYwV",
        "outputId": "86a54751-0d88-461e-b983-629fab5aa422"
      },
      "source": [
        "signal_padd = padding(signals[0], 3)\n",
        "print(\"Signal with padding: \", signal_padd)\n",
        "\n",
        "output_signal = conv1D(signal_padd, kernel)\n",
        "print(\"\\nSignal after convolution: \", output_signal)"
      ],
      "execution_count": null,
      "outputs": [
        {
          "output_type": "stream",
          "name": "stdout",
          "text": [
            "Signal with padding:  [ 0.  1.  1.  1. 10.  1.  1.  1.  0.]\n",
            "\n",
            "Selected signal segment:  [0. 1. 1.]\n",
            "Convolution step result:  0.6666666666666666\n",
            "\n",
            "Selected signal segment:  [1. 1. 1.]\n",
            "Convolution step result:  1.0\n",
            "\n",
            "Selected signal segment:  [ 1.  1. 10.]\n",
            "Convolution step result:  4.0\n",
            "\n",
            "Selected signal segment:  [ 1. 10.  1.]\n",
            "Convolution step result:  4.0\n",
            "\n",
            "Selected signal segment:  [10.  1.  1.]\n",
            "Convolution step result:  4.0\n",
            "\n",
            "Selected signal segment:  [1. 1. 1.]\n",
            "Convolution step result:  1.0\n",
            "\n",
            "Selected signal segment:  [1. 1. 0.]\n",
            "Convolution step result:  0.6666666666666666\n",
            "\n",
            "Signal after convolution:  [0.66666667 1.         4.         4.         4.         1.\n",
            " 0.66666667]\n"
          ]
        }
      ]
    },
    {
      "cell_type": "markdown",
      "metadata": {
        "id": "7WM41ZzpOQvv"
      },
      "source": [
        "A teraz spróbujmy to zrobić w środowisku TensorFlow (Keras).\n",
        "\n",
        "Zacznijmy od prostego przykładu realziacji operacji splotu dla określonych STAŁYCH wartości maski (wagi jądra - ang. kernel weights).\n",
        "\n",
        "Ponieważ TF jak i PyTorch to uniwersalne biblioteki, dlatego klasy realizujące operacje splotu zostały tak zdefiniowane, aby działać na róznych reprezentacjach danych wejściowych. Wymiar (ang. shape) tych danych jest opisywany jako:\n",
        "\n",
        "* (N, L, C)  dla data_format='channels_last' lub\n",
        "* (N, C, L)  dla data_format='channels_first',\n",
        "\n",
        "gdzie:\n",
        "N - rozmiar batcha,\n",
        "L - liczba próbek sygnału wejściowego w czasie (1D),\n",
        "C - liczba kanałów (cech) danych wejsciowych (np. jeśli mierzymy w tym samym czasi przyspieszenie akcelerometrem trójosiowym mamy pomiar dla 3 cech: x, y i z. Czyli 3 próbki danych dla każdej próbki w czasie.).\n",
        "\n",
        "Zastosujmy klasę Conv1D z pakietu TF w celu ilustracji operacji splotu z maską o stałych wartościach."
      ]
    },
    {
      "cell_type": "code",
      "metadata": {
        "colab": {
          "base_uri": "https://localhost:8080/"
        },
        "id": "3Rn919BHmFEE",
        "outputId": "79819c6a-db94-4e68-bcbe-c033eb3b57fe"
      },
      "source": [
        "# Input parameters\n",
        "number_of_samples = signals.shape[1]\n",
        "number_of_channels = 1  # input dimension\n",
        "batch_size = 1\n",
        "\n",
        "# Output parameters\n",
        "kernel_length = 3\n",
        "number_of_filters = 1 # output dimension\n",
        "\n",
        "# Define fixed weights 1/K\n",
        "w_1 = np.ones((kernel_length, number_of_channels, number_of_filters)).astype(float)\n",
        "\n",
        "# Normalize the weights (sum = 1) to limit the mean of the result\n",
        "w_1 /= (np.sum(w_1)/(number_of_filters))\n",
        "print(\"\\nInput signals shape is: \", signals.shape)\n",
        "print(\"\\nPredefined weights shape: \", w_1.shape)\n",
        "print(\"Predefined weights: \\n\", w_1)\n",
        "\n",
        "# We need input shape as (batch_size, number of samples, number of channels)\n",
        "sig = signals.reshape((batch_size, number_of_samples, number_of_channels))\n",
        "print(\"\\nInput signals RESHAPED: \", sig.shape)\n",
        "\n",
        "# Define the Conv1D operation specifing a set of parameters\n",
        "layer_1 = tf.keras.layers.Conv1D(number_of_filters,\n",
        "                                  input_shape= signals.shape,\n",
        "                                  kernel_size=kernel_length,\n",
        "                                  strides=1,\n",
        "                                  dilation_rate=1,\n",
        "                                  padding='valid',\n",
        "                                  activation='linear',\n",
        "                                  use_bias=False,\n",
        "                                  weights=[w_1])\n",
        "\n",
        "x_1 = layer_1(sig)\n",
        "print(\"\\nResult shape: \", x_1.shape)\n",
        "print(\"Results: \\n\", x_1)\n"
      ],
      "execution_count": null,
      "outputs": [
        {
          "output_type": "stream",
          "name": "stdout",
          "text": [
            "\n",
            "Input signals shape is:  (1, 7)\n",
            "\n",
            "Predefined weights shape:  (3, 1, 1)\n",
            "Predefined weights: \n",
            " [[[0.33333333]]\n",
            "\n",
            " [[0.33333333]]\n",
            "\n",
            " [[0.33333333]]]\n",
            "\n",
            "Results shape:  (1, 5, 1)\n",
            "Results: \n",
            " tf.Tensor(\n",
            "[[[1.]\n",
            "  [4.]\n",
            "  [4.]\n",
            "  [4.]\n",
            "  [1.]]], shape=(1, 5, 1), dtype=float32)\n"
          ]
        }
      ]
    },
    {
      "cell_type": "markdown",
      "metadata": {
        "id": "4O9Wf_cGEh5m"
      },
      "source": [
        "Możemy teraz przetestować przykład z większą liczbą cech (kanałów, komponentów) naszego sygnału."
      ]
    },
    {
      "cell_type": "code",
      "metadata": {
        "id": "2H6FFaegmHd5",
        "colab": {
          "base_uri": "https://localhost:8080/"
        },
        "outputId": "def05780-3216-4e03-e2ba-4dfe0a59c7f5"
      },
      "source": [
        "# The commented example below presents 2 different signals - batch = 2\n",
        "# signals = np.array([[1,1,1,10,1,1,1 ],[1,1,1,10,1,1,1 ]]).astype(float)\n",
        "\n",
        "# The exmaple below presents 2 channels (components) per each time sample AND\n",
        "# 2 signals batch = 2 -> shape (N=2,L=7,C=2)\n",
        "signals = np.array([[[1,1],[1,1],[1,1],[10,10],[1,1],[1,1],[1,1] ],[[1,1],[1,1],[1,1],[10,10],[1,1],[1,1],[1,1] ]]).astype(float)\n",
        "print(\"Input signals: \\n\",  signals)\n",
        "print(\"Input signals shape: \", signals.shape)"
      ],
      "execution_count": null,
      "outputs": [
        {
          "output_type": "stream",
          "name": "stdout",
          "text": [
            "Input signals: \n",
            " [[[ 1.  1.]\n",
            "  [ 1.  1.]\n",
            "  [ 1.  1.]\n",
            "  [10. 10.]\n",
            "  [ 1.  1.]\n",
            "  [ 1.  1.]\n",
            "  [ 1.  1.]]\n",
            "\n",
            " [[ 1.  1.]\n",
            "  [ 1.  1.]\n",
            "  [ 1.  1.]\n",
            "  [10. 10.]\n",
            "  [ 1.  1.]\n",
            "  [ 1.  1.]\n",
            "  [ 1.  1.]]]\n",
            "Input signals shape:  (2, 7, 2)\n"
          ]
        }
      ]
    },
    {
      "cell_type": "code",
      "metadata": {
        "colab": {
          "base_uri": "https://localhost:8080/"
        },
        "id": "Ej8JrvcnOZj8",
        "outputId": "5a783e91-b150-439c-e3bf-2f58e7e5e3b7"
      },
      "source": [
        "# Input parameters\n",
        "number_of_samples = signals.shape[1]\n",
        "number_of_channels = 2  # input dimension\n",
        "batch_size = 2\n",
        "\n",
        "# Output parameters\n",
        "kernel_length = 3\n",
        "number_of_filters = 1 # output dimension\n",
        "\n",
        "# Define fixed weights 1/K\n",
        "w_2 = np.ones((kernel_length, number_of_channels, number_of_filters)).astype(float)\n",
        "\n",
        "# Normalize the weights (sum = 1) to limit the mean of the result\n",
        "w_2 /= (np.sum(w_2)/(number_of_filters))\n",
        "print(\"\\nInput signals shape is: \", signals.shape)\n",
        "print(\"\\nPredefined weights shape: \", w_2.shape)\n",
        "print(\"Predefined weights: \\n\", w_2)\n",
        "\n",
        "# We need input shape as (batch_size, number of samples, number of channels)\n",
        "sig = signals.reshape((batch_size, number_of_samples, number_of_channels))\n",
        "print(\"\\nInput signals RESHAPED: \", sig.shape)\n",
        "\n",
        "# Define the Conv1D operation specifing a set of parameters\n",
        "layer_2 = tf.keras.layers.Conv1D( number_of_filters,\n",
        "                                  kernel_size=kernel_length,\n",
        "                                  strides=1,\n",
        "                                  dilation_rate=1,\n",
        "                                  padding='valid',\n",
        "                                  activation='linear',\n",
        "                                  use_bias=False,\n",
        "                                  weights=[w_2]\n",
        "                                 )\n",
        "\n",
        "x_2 = layer_2(sig)\n",
        "# Shape of the result (batch_size, number_of_samples_in_signal_after_conv, number_of_filters)\n",
        "print(\"\\nResults shape: \", x_2.shape)\n",
        "print(\"Results: \\n\", x_2)\n"
      ],
      "execution_count": null,
      "outputs": [
        {
          "output_type": "stream",
          "name": "stdout",
          "text": [
            "\n",
            "Input signals shape is:  (2, 7, 2)\n",
            "\n",
            "Predefined weights shape:  (3, 2, 1)\n",
            "Predefined weights: \n",
            " [[[0.16666667]\n",
            "  [0.16666667]]\n",
            "\n",
            " [[0.16666667]\n",
            "  [0.16666667]]\n",
            "\n",
            " [[0.16666667]\n",
            "  [0.16666667]]]\n",
            "\n",
            "Input signals RESHAPED:  (2, 7, 2)\n",
            "\n",
            "Results shape:  (2, 5, 1)\n",
            "Results: \n",
            " tf.Tensor(\n",
            "[[[1.]\n",
            "  [4.]\n",
            "  [4.]\n",
            "  [4.]\n",
            "  [1.]]\n",
            "\n",
            " [[1.]\n",
            "  [4.]\n",
            "  [4.]\n",
            "  [4.]\n",
            "  [1.]]], shape=(2, 5, 1), dtype=float32)\n"
          ]
        }
      ]
    },
    {
      "cell_type": "markdown",
      "metadata": {
        "id": "qe5fygr8fr-c"
      },
      "source": [
        "W czasie prezentacji przedstawiliśmy rolę parametrów typowej operacji splotu stosowanej w sztucznych sieciach neuronowych, np. dla klasy Conv1D. Dlatego zachęcamy do eksperymentowania z tymi parametrami (padding, stride, dilation, filters, itd.). Będziemy do tych zagadnień wracać w kolejnych częściach zajęć.\n"
      ]
    },
    {
      "cell_type": "markdown",
      "metadata": {
        "id": "QecSqULFLAVs"
      },
      "source": [
        "Zilustrujmy działanie operacji splotu dla konkretnego przykładu."
      ]
    },
    {
      "cell_type": "code",
      "metadata": {
        "colab": {
          "base_uri": "https://localhost:8080/",
          "height": 358
        },
        "id": "X9arhjHMOC7e",
        "outputId": "e3037e93-9997-4e71-be15-1dda4e620b29"
      },
      "source": [
        "# We will use a ECG signal example from the very useful BioSPPy package.\n",
        "# For more information:\n",
        "# https://github.com/PIA-Group/BioSPPy\n",
        "# Carreiras C, Alves AP, Lourenço A, Canento F, Silva H, Fred A, et al. BioSPPy - Biosignal Processing in Python, 2015-,\n",
        "# BioSPPy is released under the BSD 3-clause license: https://github.com/PIA-Group/BioSPPy/blob/master/LICENSE\n",
        "import pandas as pd\n",
        "\n",
        "df2 = pd.read_csv(\"https://raw.githubusercontent.com/PIA-Group/BioSPPy/master/examples/ecg.txt\", skiprows=3)\n",
        "sig = df2.to_numpy().flatten()\n",
        "\n",
        "# Resample the signal (change the sampling frequency - less samples per second)\n",
        "from scipy import signal\n",
        "ecg_signal = signal.resample(sig, int(sig.shape[0]/1000.*120.))\n",
        "\n",
        "# Cut the long singal into patches (signals with 120 samples)\n",
        "sample_cut_period = 120\n",
        "sample_shift = 5\n",
        "heart_cycles_size = int(ecg_signal.shape[0]/sample_shift)\n",
        "\n",
        "heart_cycles = []\n",
        "\n",
        "for i in range(heart_cycles_size-int(sample_cut_period/sample_shift)):\n",
        "  heart_cycles.append(ecg_signal[i*sample_shift:(i*sample_shift)+sample_cut_period])\n",
        "\n",
        "heart_data = np.array(heart_cycles)\n",
        "heart_data -= np.mean(heart_data)\n",
        "heart_data /= np.max(heart_data)\n",
        "\n",
        "print(\"Shape of preprocessed ECG signal (N, L): \", heart_data.shape)\n",
        "\n",
        "\n",
        "matplotlib.rcParams.update({'font.size': 16})\n",
        "fig = plt.figure(figsize=(9, 6), dpi=64)\n",
        "plt.plot(heart_data[0])\n",
        "plt.show()\n"
      ],
      "execution_count": null,
      "outputs": [
        {
          "output_type": "stream",
          "name": "stdout",
          "text": [
            "Shape of preprocessed ECG signal (N, L):  (336, 120)\n"
          ]
        },
        {
          "output_type": "display_data",
          "data": {
            "image/png": "[encoded data removed]",
            "text/plain": [
              "<Figure size 576x384 with 1 Axes>"
            ]
          },
          "metadata": {
            "needs_background": "light"
          }
        }
      ]
    },
    {
      "cell_type": "markdown",
      "metadata": {
        "id": "MDw96YcRLw6f"
      },
      "source": [
        "Zastosujmy operację opisaną przez Conv1D stosując dwie różne maski splotu.\n",
        "\n",
        "Najpier, zastosujmy maskę, która doprowadzi do uzyskania efektu uśredniania wartości: np.: [1/3, 1/3, 1/3]."
      ]
    },
    {
      "cell_type": "code",
      "metadata": {
        "colab": {
          "base_uri": "https://localhost:8080/"
        },
        "id": "ZLUgJVmjgaqc",
        "outputId": "4cb2b5ee-cf49-40c3-ad2a-8c78503eee9e"
      },
      "source": [
        "# Input parameters\n",
        "number_of_samples_s1 = heart_data.shape[1]\n",
        "number_of_channels_s1 = 1  # input dimension\n",
        "batch_size_s1 = heart_data.shape[0]\n",
        "\n",
        "# Output parameters\n",
        "kernel_length_s1 = 3\n",
        "number_of_filters_s1 = 1 # output dimension\n",
        "\n",
        "# Define fixed weights 1/K\n",
        "w_1_s1 = np.ones((kernel_length_s1, number_of_channels_s1,\n",
        "                  number_of_filters_s1)).astype(float)\n",
        "\n",
        "# Normalize the weights (sum = 1) to limit the mean of the result\n",
        "w_1_s1 /= (np.sum(w_1_s1)/number_of_filters_s1)\n",
        "\n",
        "print(\"\\nPredefined weights shape: \", w_1_s1.shape)\n",
        "print(\"Predefined weights: \\n\", w_1_s1)\n",
        "\n",
        "# We need input shape as (batch_size, number of samples, number of channels)\n",
        "sig_s1 = heart_data.reshape((batch_size_s1, number_of_samples_s1, number_of_channels_s1))\n",
        "print(\"\\nInput signals RESHAPED: \", sig_s1.shape)\n",
        "\n",
        "# Define the Conv1D operation specifing a set of parameters\n",
        "layer_1_s1 = tf.keras.layers.Conv1D(\n",
        "                                  number_of_filters_s1,\n",
        "                                  input_shape= heart_data.shape,\n",
        "                                  kernel_size=kernel_length_s1,\n",
        "                                  strides=1,\n",
        "                                  dilation_rate=1,\n",
        "                                  padding='valid',\n",
        "                                  activation='linear',\n",
        "                                  use_bias=False,\n",
        "                                  weights=[w_1_s1])\n",
        "\n",
        "x_1_s1 = layer_1_s1(sig_s1)\n",
        "print(\"\\nResults shape: \", x_1_s1.shape)\n",
        "print(\"Results: \\n\", x_1_s1)"
      ],
      "execution_count": null,
      "outputs": [
        {
          "output_type": "stream",
          "name": "stdout",
          "text": [
            "\n",
            "Predefined weights shape:  (3, 1, 1)\n",
            "Predefined weights: \n",
            " [[[0.33333333]]\n",
            "\n",
            " [[0.33333333]]\n",
            "\n",
            " [[0.33333333]]]\n",
            "\n",
            "Input signals RESHAPED:  (336, 120, 1)\n",
            "\n",
            "Results shape:  (336, 118, 1)\n",
            "Results: \n",
            " tf.Tensor(\n",
            "[[[-0.00173799]\n",
            "  [ 0.00543812]\n",
            "  [ 0.0088672 ]\n",
            "  ...\n",
            "  [-0.00922956]\n",
            "  [-0.01745678]\n",
            "  [-0.00500238]]\n",
            "\n",
            " [[ 0.00289101]\n",
            "  [ 0.00965615]\n",
            "  [ 0.00372389]\n",
            "  ...\n",
            "  [-0.01462081]\n",
            "  [-0.01062646]\n",
            "  [-0.00093308]]\n",
            "\n",
            " [[-0.00577366]\n",
            "  [ 0.01319809]\n",
            "  [ 0.01323335]\n",
            "  ...\n",
            "  [ 0.00494338]\n",
            "  [ 0.0059506 ]\n",
            "  [ 0.00149894]]\n",
            "\n",
            " ...\n",
            "\n",
            " [[-0.0005986 ]\n",
            "  [-0.00123452]\n",
            "  [ 0.0094304 ]\n",
            "  ...\n",
            "  [ 0.00960439]\n",
            "  [ 0.00218968]\n",
            "  [ 0.01435731]]\n",
            "\n",
            " [[ 0.00406452]\n",
            "  [ 0.00831405]\n",
            "  [ 0.00888411]\n",
            "  ...\n",
            "  [ 0.00775869]\n",
            "  [ 0.00466707]\n",
            "  [ 0.01472578]]\n",
            "\n",
            " [[-0.00237948]\n",
            "  [ 0.01790328]\n",
            "  [ 0.01993134]\n",
            "  ...\n",
            "  [ 0.00814672]\n",
            "  [ 0.01073317]\n",
            "  [ 0.01199241]]], shape=(336, 118, 1), dtype=float32)\n"
          ]
        }
      ]
    },
    {
      "cell_type": "markdown",
      "metadata": {
        "id": "H4Chym-JNold"
      },
      "source": [
        "Przedstawmy wynik dla wybranego przykładu z opisanego wcześniej zbioru danych."
      ]
    },
    {
      "cell_type": "code",
      "metadata": {
        "colab": {
          "base_uri": "https://localhost:8080/",
          "height": 339
        },
        "id": "2d618r2MhqGx",
        "outputId": "59636677-ee58-4583-cffc-084361de2d90"
      },
      "source": [
        "matplotlib.rcParams.update({'font.size': 16})\n",
        "fig = plt.figure(figsize=(9, 6), dpi=64)\n",
        "plt.plot(x_1_s1[0])\n",
        "plt.show()"
      ],
      "execution_count": null,
      "outputs": [
        {
          "output_type": "display_data",
          "data": {
            "image/png": "[encoded data removed]",
            "text/plain": [
              "<Figure size 576x384 with 1 Axes>"
            ]
          },
          "metadata": {
            "needs_background": "light"
          }
        }
      ]
    },
    {
      "cell_type": "markdown",
      "metadata": {
        "id": "R8xdgD28Nw1A"
      },
      "source": [
        "Wyraźnie widać, że sygnał EKG jest bardziej \"wygładzony\", co stanowi efekt zastosowanej przez nas filtracji dolno przepustowej.\n",
        "\n",
        "Możemy również sprawdzić efekt dla innej maski filtru, która uwypukli róźnice wartości w sygnale wejściowym, np.:  [-1, 2, -1]. W rezultacie uzyskamy operację filtracji górnoprzepustowej."
      ]
    },
    {
      "cell_type": "code",
      "metadata": {
        "colab": {
          "base_uri": "https://localhost:8080/"
        },
        "id": "qyqN1JlJOAI-",
        "outputId": "58be2e06-cebf-4bab-8c70-095df44f4cb8"
      },
      "source": [
        "# Input parameters\n",
        "number_of_samples_s1 = heart_data.shape[1]\n",
        "number_of_channels_s1 = 1  # input dimension\n",
        "batch_size_s1 = heart_data.shape[0]\n",
        "\n",
        "# Output parameters\n",
        "kernel_length_s1 = 3\n",
        "number_of_filters_s1 = 1 # output dimension\n",
        "\n",
        "# Define fixed weights\n",
        "w_2_s1 = np.array([[[1]], [[-2]], [[1]]])\n",
        "\n",
        "print(\"\\nPredefined weights shape: \", w_2_s1.shape)\n",
        "print(\"Predefined weights: \\n\", w_2_s1)\n",
        "\n",
        "# We need input shape as (batch_size, number of samples, number of channels)\n",
        "sig_s1 = heart_data.reshape((batch_size_s1, number_of_samples_s1, number_of_channels_s1))\n",
        "print(\"\\nInput signals RESHAPED: \", sig_s1.shape)\n",
        "\n",
        "# Define the Conv1D operation specifing a set of parameters\n",
        "layer_2_s1 = tf.keras.layers.Conv1D(\n",
        "                                  number_of_filters_s1,\n",
        "                                  input_shape= heart_data.shape,\n",
        "                                  kernel_size=kernel_length_s1,\n",
        "                                  strides=1,\n",
        "                                  dilation_rate=1,\n",
        "                                  padding='valid',\n",
        "                                  activation='linear',\n",
        "                                  use_bias=False,\n",
        "                                  weights=[w_2_s1])\n",
        "\n",
        "x_2_s1 = layer_2_s1(sig_s1)\n",
        "print(\"\\nResults shape: \", x_2_s1.shape)\n",
        "print(\"Results: \\n\", x_2_s1)"
      ],
      "execution_count": null,
      "outputs": [
        {
          "output_type": "stream",
          "name": "stdout",
          "text": [
            "\n",
            "Predefined weights shape:  (3, 1, 1)\n",
            "Predefined weights: \n",
            " [[[ 1]]\n",
            "\n",
            " [[-2]]\n",
            "\n",
            " [[ 1]]]\n",
            "\n",
            "Input signals RESHAPED:  (336, 120, 1)\n",
            "\n",
            "Results shape:  (336, 118, 1)\n",
            "Results: \n",
            " tf.Tensor(\n",
            "[[[-0.06349842]\n",
            "  [-0.00348895]\n",
            "  [ 0.05574626]\n",
            "  ...\n",
            "  [ 0.02795817]\n",
            "  [-0.08018525]\n",
            "  [ 0.11427198]]\n",
            "\n",
            " [[-0.0870927 ]\n",
            "  [ 0.04373068]\n",
            "  [ 0.00526982]\n",
            "  ...\n",
            "  [-0.04762479]\n",
            "  [ 0.00150609]\n",
            "  [ 0.06321578]]\n",
            "\n",
            " [[-0.09525013]\n",
            "  [ 0.0858679 ]\n",
            "  [-0.04742723]\n",
            "  ...\n",
            "  [-0.07611767]\n",
            "  [ 0.02718539]\n",
            "  [ 0.03255567]]\n",
            "\n",
            " ...\n",
            "\n",
            " [[-0.02148453]\n",
            "  [-0.03931665]\n",
            "  [ 0.09470372]\n",
            "  ...\n",
            "  [ 0.04275568]\n",
            "  [-0.08847583]\n",
            "  [ 0.10446718]]\n",
            "\n",
            " [[-0.07171423]\n",
            "  [ 0.0141677 ]\n",
            "  [ 0.04650814]\n",
            "  ...\n",
            "  [ 0.00127576]\n",
            "  [-0.05431959]\n",
            "  [ 0.09249479]]\n",
            "\n",
            " [[-0.11336781]\n",
            "  [ 0.08965223]\n",
            "  [-0.03104852]\n",
            "  ...\n",
            "  [-0.05281124]\n",
            "  [-0.00782714]\n",
            "  [ 0.05665675]]], shape=(336, 118, 1), dtype=float32)\n"
          ]
        }
      ]
    },
    {
      "cell_type": "markdown",
      "metadata": {
        "id": "yFyTVsY5OxKW"
      },
      "source": [
        "Przedstawmy wynik tej operacji w formie wykresu."
      ]
    },
    {
      "cell_type": "code",
      "metadata": {
        "colab": {
          "base_uri": "https://localhost:8080/",
          "height": 344
        },
        "id": "PvnwBYuuhuAw",
        "outputId": "f032c342-e74e-458a-83a4-103088240dab"
      },
      "source": [
        "matplotlib.rcParams.update({'font.size': 16})\n",
        "fig = plt.figure(figsize=(9, 6), dpi=64)\n",
        "plt.plot(x_2_s1[0])\n",
        "plt.show()"
      ],
      "execution_count": null,
      "outputs": [
        {
          "output_type": "display_data",
          "data": {
            "image/png": "[encoded data removed]",
            "text/plain": [
              "<Figure size 576x384 with 1 Axes>"
            ]
          },
          "metadata": {
            "needs_background": "light"
          }
        }
      ]
    },
    {
      "cell_type": "markdown",
      "metadata": {
        "id": "5Nf-TnNptAmr"
      },
      "source": [
        "W przykładzie tym pokazaliśmy wykorzystanie operacji Conv1D przy zdefiniowaniu stałych wag maski splotu. W uczeniu głębikich sieci soplotowych istotne bnędzie poszukiwanie wag takich masek, które doprowadzą do takiej filtracji sygnałów (zmiany reprezentacji danych) aby uzyskać jak najlepszy wynik określonego zadania uczenia maszynowego (np. klasyfikacji, detekcji, itp.).\n",
        "\n",
        "W kolejnym przykładzie zajmiemy się dwuwymiarową wersją operacji splotu.\n"
      ]
    },
    {
      "cell_type": "markdown",
      "metadata": {
        "id": "cxIDf7xKanDs"
      },
      "source": [
        "Zachęcam Państwa do dalszego eksperymentowania."
      ]
    },
    {
      "cell_type": "markdown",
      "metadata": {
        "id": "nsQTgPK3an4b"
      },
      "source": [
        "<center>\n",
        "Projekt współfinansowany ze środków Unii Europejskiej w ramach Europejskiego Funduszu Rozwoju Regionalnego\n",
        "Program Operacyjny Polska Cyfrowa na lata 2014-2020,\n",
        "Oś Priorytetowa nr 3 \"Cyfrowe kompetencje społeczeństwa\" Działanie  nr 3.2 \"Innowacyjne rozwiązania na rzecz aktywizacji cyfrowej\"\n",
        "Tytuł projektu:  „Akademia Innowacyjnych Zastosowań Technologii Cyfrowych (AI Tech)”\n",
        "    </center>"
      ]
    }
  ]
}