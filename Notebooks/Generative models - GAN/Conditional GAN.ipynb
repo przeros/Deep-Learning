{
  "nbformat": 4,
  "nbformat_minor": 0,
  "metadata": {
    "colab": {
      "provenance": []
    },
    "kernelspec": {
      "name": "python3",
      "display_name": "Python 3"
    },
    "language_info": {
      "name": "python"
    },
    "accelerator": "GPU"
  },
  "cells": [
    {
      "cell_type": "code",
      "execution_count": null,
      "metadata": {
        "id": "_RrwpCAlmPXa",
        "colab": {
          "base_uri": "https://localhost:8080/",
          "height": 175
        },
        "outputId": "c4862a1b-dc73-43b1-ec4f-b6ffe743eb08"
      },
      "outputs": [
        {
          "output_type": "display_data",
          "data": {
            "text/plain": [
              "<IPython.core.display.HTML object>"
            ],
            "text/html": [
              "<iframe src=\"https://www.polskacyfrowa.gov.pl/media/48246/FE_POPC_poziom_pl-1_rgb.jpg\" width=\"800\"></iframe>\n"
            ]
          },
          "metadata": {}
        }
      ],
      "source": [
        "#@title\n",
        "%%html\n",
        "<iframe src=\"https://www.polskacyfrowa.gov.pl/media/48246/FE_POPC_poziom_pl-1_rgb.jpg\" width=\"800\"></iframe>\n"
      ]
    },
    {
      "cell_type": "markdown",
      "source": [
        "# Uczenie głębokie\n",
        "\n",
        "Szymon Zaporowski, Politechnika Gdańska, Wydział ETI, Katedra Systemów Multimedialnych\n",
        "\n",
        "**Wykład 15:** Modele Generatywne typu GAN\n",
        "\n",
        "**Przykład (1):** Warunkowa sieć typu GAN"
      ],
      "metadata": {
        "id": "_iS11QJkmQh-"
      }
    },
    {
      "cell_type": "markdown",
      "source": [
        "Generatywna Sieć Kontradyktoryjna **(GAN)** pozwala na generowanie nowych danych w postaci obrazów, video lub audio z wejścia będącego losowymi danymi. Zazwyczaj dane losowe będące wejściem jest próbkowane z rozkładu normalnego, zanim poprzez serię transformacji zostaną zamienione w coś zorumiałego dla człowieka ( obraz, audio, video itp.)\n",
        "\n",
        "Prosta głeboka sieć typu GAN **(DCGAN)** nie pozwala na kontrolowanie wyglądu próbek (np. klasy), które generujemy. Przykładowo GAN generujący próbki z datasetu MNIST (przykład z laboratorium z modeli generatywnych), nie pozwala nam na wybranie klasy cyfr, które generujemy. Aby móc kontrolować, to co generujemy musimy kondycjonować wyjście sieci GAN na wyjściu semantycznym, takim jak klasa obrazu.\n",
        "\n",
        "W tym przykładzie zbudujemy  **Warunkową sieć typu GAN** , która może generować odręczne pisane cyfry ze zbioru MNIST uwarunkowane na danej klasie. Taki model może mieć różne przydatne aplikacje:\n",
        "\n",
        "* Powiedzmy, że masz do czynienia z niezbalansowanym zbiorem danych i chciałbyś zebrać więcej przykładów do klasy, która posiada mało próbek, aby zrównoważyć zestaw danych.\n",
        "Zbieranie danych może być kosztownym procesem. Zamiast tego można wytrenować warunkowy GAN i użyć wygenerowanych przykładów dla klasy, która wymaga równoważenia.\n",
        "\n"
      ],
      "metadata": {
        "id": "Noodqw5CmXZe"
      }
    },
    {
      "cell_type": "code",
      "source": [
        "!pip install -q git+https://github.com/tensorflow/docs"
      ],
      "metadata": {
        "id": "OTsRulRXmQUX",
        "colab": {
          "base_uri": "https://localhost:8080/"
        },
        "outputId": "2d06bd9f-5925-4df0-c1b8-4b6fafc162df"
      },
      "execution_count": null,
      "outputs": [
        {
          "output_type": "stream",
          "name": "stdout",
          "text": [
            "  Building wheel for tensorflow-docs (setup.py) ... \u001b[?25l\u001b[?25hdone\n"
          ]
        }
      ]
    },
    {
      "cell_type": "markdown",
      "source": [
        "Dokonajmy importu potrzebnych bibliotek\n"
      ],
      "metadata": {
        "id": "UO1Uw9K_ma5M"
      }
    },
    {
      "cell_type": "code",
      "source": [
        "from tensorflow import keras\n",
        "from tensorflow.keras import layers\n",
        "\n",
        "from tensorflow_docs.vis import embed\n",
        "import matplotlib.pyplot as plt\n",
        "import tensorflow as tf\n",
        "import numpy as np\n",
        "import imageio"
      ],
      "metadata": {
        "id": "TTI_8WwmmbRT"
      },
      "execution_count": null,
      "outputs": []
    },
    {
      "cell_type": "markdown",
      "source": [
        "Ustawmy hiperparametry"
      ],
      "metadata": {
        "id": "6d2lMqGHmgPt"
      }
    },
    {
      "cell_type": "code",
      "source": [
        "batch_size = 64\n",
        "num_channels = 1\n",
        "num_classes = 10\n",
        "image_size = 28\n",
        "latent_dim = 128"
      ],
      "metadata": {
        "id": "GnsNJrqzmgkq"
      },
      "execution_count": null,
      "outputs": []
    },
    {
      "cell_type": "markdown",
      "source": [
        "Załadujmy zbiór MNIST i dokonajmy skalowania oraz kodowania typu one-hot"
      ],
      "metadata": {
        "id": "xkyyOFzJmm5G"
      }
    },
    {
      "cell_type": "code",
      "source": [
        "# Wykorzystamy wszystkie dostępne przykłady dla zbioru treningowego i testowego\n",
        "(x_train, y_train), (x_test, y_test) = keras.datasets.mnist.load_data()\n",
        "all_digits = np.concatenate([x_train, x_test])\n",
        "all_labels = np.concatenate([y_train, y_test])\n",
        "\n",
        "# Przeskalujemy wartości pikseli do wartości [0,1] i doddamy wymiar kanału do obierów,\n",
        "#oraz etykiety typu one-hot\n",
        "all_digits = all_digits.astype(\"float32\") / 255.0\n",
        "all_digits = np.reshape(all_digits, (-1, 28, 28, 1))\n",
        "all_labels = keras.utils.to_categorical(all_labels, 10)\n",
        "\n",
        "# Tworzymy tf.data.Dataset.\n",
        "dataset = tf.data.Dataset.from_tensor_slices((all_digits, all_labels))\n",
        "dataset = dataset.shuffle(buffer_size=1024).batch(batch_size)\n",
        "\n",
        "print(f\"Kształt treningowych obrazów : {all_digits.shape}\")\n",
        "print(f\"Kształt treningowych etykiet : {all_labels.shape}\")"
      ],
      "metadata": {
        "id": "HtPwPGT6mmgw",
        "colab": {
          "base_uri": "https://localhost:8080/"
        },
        "outputId": "c5826eb8-3963-422b-e3a4-1fbe6b580543"
      },
      "execution_count": null,
      "outputs": [
        {
          "output_type": "stream",
          "name": "stdout",
          "text": [
            "Downloading data from https://storage.googleapis.com/tensorflow/tf-keras-datasets/mnist.npz\n",
            "11493376/11490434 [==============================] - 1s 0us/step\n",
            "11501568/11490434 [==============================] - 1s 0us/step\n",
            "Kształt treningowych obrazów : (70000, 28, 28, 1)\n",
            "Kształt treningowych etykiet : (70000, 10)\n"
          ]
        }
      ]
    },
    {
      "cell_type": "markdown",
      "source": [
        "## Obliczanie liczby kanałów wejściowych w generatorze i dyskryminatorze\n",
        "\n",
        "W klasycznej (nieuwarunkowanej) sieci typu GAN, wektor wejściowy składa się z próbek szumu (o pewnej stałej długości) z rozkłądu normalnego. W przypadku GAN-a warunkowego nalezy wziąć również pod uwagę etykiety klas. W związku z tym nalezy dodać liczbę klas do kanałów wejściowych generatora (wejście szumu) oraz dyskryminatora (wejście generowanego obrazu).\n"
      ],
      "metadata": {
        "id": "8m6fb0qVmuZR"
      }
    },
    {
      "cell_type": "code",
      "source": [
        "generator_in_channels = latent_dim + num_classes\n",
        "discriminator_in_channels = num_channels + num_classes\n",
        "print(generator_in_channels, discriminator_in_channels)"
      ],
      "metadata": {
        "id": "_Fgdxx1umuv7",
        "colab": {
          "base_uri": "https://localhost:8080/"
        },
        "outputId": "678b01e0-b15b-4869-f685-bde595459ae5"
      },
      "execution_count": null,
      "outputs": [
        {
          "output_type": "stream",
          "name": "stdout",
          "text": [
            "138 11\n"
          ]
        }
      ]
    },
    {
      "cell_type": "markdown",
      "source": [
        "## Tworzenie dyskryminatora i generatora\n",
        "\n",
        "Definicje modeli (`discriminator`, `generator`, oraz `ConditionalGAN`) zostały \"zapożyczone\" z [tego przykładu](https://keras.io/guides/customizing_what_happens_in_fit/)."
      ],
      "metadata": {
        "id": "62e8l6t4nenl"
      }
    },
    {
      "cell_type": "code",
      "source": [
        "# Tworzenie dyskryminatora\n",
        "discriminator = keras.Sequential(\n",
        "    [\n",
        "        keras.layers.InputLayer((28, 28, discriminator_in_channels)),\n",
        "        layers.Conv2D(64, (3, 3), strides=(2, 2), padding=\"same\"),\n",
        "        layers.LeakyReLU(alpha=0.2),\n",
        "        layers.Conv2D(128, (3, 3), strides=(2, 2), padding=\"same\"),\n",
        "        layers.LeakyReLU(alpha=0.2),\n",
        "        layers.GlobalMaxPooling2D(),\n",
        "        layers.Dense(1),\n",
        "    ],\n",
        "    name=\"discriminator\",\n",
        ")\n",
        "\n",
        "# Tworzenie generatora\n",
        "generator = keras.Sequential(\n",
        "    [\n",
        "        keras.layers.InputLayer((generator_in_channels,)),\n",
        "        # Chcemy wygenerwoać liczbę współczynników równą 128 + liczba klas\n",
        "        # i dokonać reshape do mapy o wymiarach 7x7x(128 + num_classes)\n",
        "        layers.Dense(7 * 7 * generator_in_channels),\n",
        "        layers.LeakyReLU(alpha=0.2),\n",
        "        layers.Reshape((7, 7, generator_in_channels)),\n",
        "        layers.Conv2DTranspose(128, (4, 4), strides=(2, 2), padding=\"same\"),\n",
        "        layers.LeakyReLU(alpha=0.2),\n",
        "        layers.Conv2DTranspose(128, (4, 4), strides=(2, 2), padding=\"same\"),\n",
        "        layers.LeakyReLU(alpha=0.2),\n",
        "        layers.Conv2D(1, (7, 7), padding=\"same\", activation=\"sigmoid\"),\n",
        "    ],\n",
        "    name=\"generator\",\n",
        ")"
      ],
      "metadata": {
        "id": "Bi-u8Fe-nfN0"
      },
      "execution_count": null,
      "outputs": []
    },
    {
      "cell_type": "markdown",
      "source": [
        "Tworzymy model warunkowy sieci GAN"
      ],
      "metadata": {
        "id": "5nPP1OgKngra"
      }
    },
    {
      "cell_type": "code",
      "source": [
        "\n",
        "class ConditionalGAN(keras.Model):\n",
        "    def __init__(self, discriminator, generator, latent_dim):\n",
        "        super(ConditionalGAN, self).__init__()\n",
        "        self.discriminator = discriminator\n",
        "        self.generator = generator\n",
        "        self.latent_dim = latent_dim\n",
        "        self.gen_loss_tracker = keras.metrics.Mean(name=\"generator_loss\")\n",
        "        self.disc_loss_tracker = keras.metrics.Mean(name=\"discriminator_loss\")\n",
        "\n",
        "    @property\n",
        "    def metrics(self):\n",
        "        return [self.gen_loss_tracker, self.disc_loss_tracker]\n",
        "\n",
        "    def compile(self, d_optimizer, g_optimizer, loss_fn):\n",
        "        super(ConditionalGAN, self).compile()\n",
        "        self.d_optimizer = d_optimizer\n",
        "        self.g_optimizer = g_optimizer\n",
        "        self.loss_fn = loss_fn\n",
        "\n",
        "    def train_step(self, data):\n",
        "        #  Odpakowanie danych\n",
        "        real_images, one_hot_labels = data\n",
        "\n",
        "        # Dodajemy dodatkowe wymiary do etykiet (dummy), aby moc dokonać konkatenacji z obrazami\n",
        "        # Robimy to dla dyskryminatora\n",
        "        image_one_hot_labels = one_hot_labels[:, :, None, None]\n",
        "        image_one_hot_labels = tf.repeat(\n",
        "            image_one_hot_labels, repeats=[image_size * image_size]\n",
        "        )\n",
        "        image_one_hot_labels = tf.reshape(\n",
        "            image_one_hot_labels, (-1, image_size, image_size, num_classes)\n",
        "        )\n",
        "\n",
        "        # Próbkujemy losowe punkty w przestrzeni  utajonej (latent space) i konkatenujemy etykiety\n",
        "        # Tym razem robimy to dla generatora\n",
        "        batch_size = tf.shape(real_images)[0]\n",
        "        random_latent_vectors = tf.random.normal(shape=(batch_size, self.latent_dim))\n",
        "        random_vector_labels = tf.concat(\n",
        "            [random_latent_vectors, one_hot_labels], axis=1\n",
        "        )\n",
        "\n",
        "        # Dekodujemy szum (wskazywany przez etykiety) aby \"sfejkować\" obrazy\n",
        "        generated_images = self.generator(random_vector_labels)\n",
        "\n",
        "        # Łączymy powyższe obrazy z rzeczywsitymi obrazami. Dodajem również etykiety obrazów (konkatenacja)\n",
        "        fake_image_and_labels = tf.concat([generated_images, image_one_hot_labels], -1)\n",
        "        real_image_and_labels = tf.concat([real_images, image_one_hot_labels], -1)\n",
        "        combined_images = tf.concat(\n",
        "            [fake_image_and_labels, real_image_and_labels], axis=0\n",
        "        )\n",
        "\n",
        "        # Grupujemy etykiety rozróżniające prawdziwe obrazy od fałszywych\n",
        "        labels = tf.concat(\n",
        "            [tf.ones((batch_size, 1)), tf.zeros((batch_size, 1))], axis=0\n",
        "        )\n",
        "\n",
        "        # Trenujemy dyskryminator\n",
        "        with tf.GradientTape() as tape:\n",
        "            predictions = self.discriminator(combined_images)\n",
        "            d_loss = self.loss_fn(labels, predictions)\n",
        "        grads = tape.gradient(d_loss, self.discriminator.trainable_weights)\n",
        "        self.d_optimizer.apply_gradients(\n",
        "            zip(grads, self.discriminator.trainable_weights)\n",
        "        )\n",
        "\n",
        "        # Próbkujemy losowe punkty w przestrzeni utajonej\n",
        "        random_latent_vectors = tf.random.normal(shape=(batch_size, self.latent_dim))\n",
        "        random_vector_labels = tf.concat(\n",
        "            [random_latent_vectors, one_hot_labels], axis=1\n",
        "        )\n",
        "\n",
        "        # Grupujemy etykiety, które wskazują na wszystkie prawdziwe obrazy\n",
        "        misleading_labels = tf.zeros((batch_size, 1))\n",
        "\n",
        "        # Trenujemy generator (należy pamiętać, że nie uaktualniamy wag dyskyrminatora!)\n",
        "        with tf.GradientTape() as tape:\n",
        "            fake_images = self.generator(random_vector_labels)\n",
        "            fake_image_and_labels = tf.concat([fake_images, image_one_hot_labels], -1)\n",
        "            predictions = self.discriminator(fake_image_and_labels)\n",
        "            g_loss = self.loss_fn(misleading_labels, predictions)\n",
        "        grads = tape.gradient(g_loss, self.generator.trainable_weights)\n",
        "        self.g_optimizer.apply_gradients(zip(grads, self.generator.trainable_weights))\n",
        "\n",
        "        # Monitorujemy funkcję straty dla generatora i dyskryminatora\n",
        "        self.gen_loss_tracker.update_state(g_loss)\n",
        "        self.disc_loss_tracker.update_state(d_loss)\n",
        "        return {\n",
        "            \"g_loss\": self.gen_loss_tracker.result(),\n",
        "            \"d_loss\": self.disc_loss_tracker.result(),\n",
        "        }\n"
      ],
      "metadata": {
        "id": "fdXXfE5AnhC5"
      },
      "execution_count": null,
      "outputs": []
    },
    {
      "cell_type": "markdown",
      "source": [
        "Dokonajmy treningu zadeklarowanego wcześniej modelu"
      ],
      "metadata": {
        "id": "FwkL5g2Bnmj5"
      }
    },
    {
      "cell_type": "code",
      "source": [
        "cond_gan = ConditionalGAN(\n",
        "    discriminator=discriminator, generator=generator, latent_dim=latent_dim\n",
        ")\n",
        "cond_gan.compile(\n",
        "    d_optimizer=keras.optimizers.Adam(learning_rate=0.0003),\n",
        "    g_optimizer=keras.optimizers.Adam(learning_rate=0.0003),\n",
        "    loss_fn=keras.losses.BinaryCrossentropy(from_logits=True),\n",
        ")\n",
        "\n",
        "cond_gan.fit(dataset, epochs=20)"
      ],
      "metadata": {
        "id": "d6REo11enm49",
        "colab": {
          "base_uri": "https://localhost:8080/"
        },
        "outputId": "10680765-ed42-4d22-9328-5d0ad694a469"
      },
      "execution_count": null,
      "outputs": [
        {
          "output_type": "stream",
          "name": "stdout",
          "text": [
            "Epoch 1/20\n",
            "1094/1094 [==============================] - 94s 73ms/step - g_loss: 1.4444 - d_loss: 0.4525\n",
            "Epoch 2/20\n",
            "1094/1094 [==============================] - 77s 70ms/step - g_loss: 1.1887 - d_loss: 0.5243\n",
            "Epoch 3/20\n",
            "1094/1094 [==============================] - 76s 70ms/step - g_loss: 1.5279 - d_loss: 0.4031\n",
            "Epoch 4/20\n",
            "1094/1094 [==============================] - 74s 68ms/step - g_loss: 2.1798 - d_loss: 0.2221\n",
            "Epoch 5/20\n",
            "1094/1094 [==============================] - 74s 68ms/step - g_loss: 0.9666 - d_loss: 0.6469\n",
            "Epoch 6/20\n",
            "1094/1094 [==============================] - 77s 70ms/step - g_loss: 0.8833 - d_loss: 0.6584\n",
            "Epoch 7/20\n",
            "1094/1094 [==============================] - 77s 70ms/step - g_loss: 0.8080 - d_loss: 0.6824\n",
            "Epoch 8/20\n",
            "1094/1094 [==============================] - 77s 70ms/step - g_loss: 0.7789 - d_loss: 0.6829\n",
            "Epoch 9/20\n",
            "1094/1094 [==============================] - 77s 70ms/step - g_loss: 0.7829 - d_loss: 0.6854\n",
            "Epoch 10/20\n",
            "1094/1094 [==============================] - 76s 70ms/step - g_loss: 0.7593 - d_loss: 0.6872\n",
            "Epoch 11/20\n",
            "1094/1094 [==============================] - 75s 68ms/step - g_loss: 0.7505 - d_loss: 0.6870\n",
            "Epoch 12/20\n",
            "1094/1094 [==============================] - 74s 68ms/step - g_loss: 0.7375 - d_loss: 0.6878\n",
            "Epoch 13/20\n",
            "1094/1094 [==============================] - 76s 69ms/step - g_loss: 0.7481 - d_loss: 0.6859\n",
            "Epoch 14/20\n",
            "1094/1094 [==============================] - 76s 70ms/step - g_loss: 0.7447 - d_loss: 0.6832\n",
            "Epoch 15/20\n",
            "1094/1094 [==============================] - 76s 70ms/step - g_loss: 0.7464 - d_loss: 0.6814\n",
            "Epoch 16/20\n",
            "1094/1094 [==============================] - 76s 69ms/step - g_loss: 0.7498 - d_loss: 0.6807\n",
            "Epoch 17/20\n",
            "1094/1094 [==============================] - 76s 69ms/step - g_loss: 0.7582 - d_loss: 0.6737\n",
            "Epoch 18/20\n",
            "1094/1094 [==============================] - 75s 69ms/step - g_loss: 0.7525 - d_loss: 0.6799\n",
            "Epoch 19/20\n",
            "1094/1094 [==============================] - 74s 67ms/step - g_loss: 0.7755 - d_loss: 0.6634\n",
            "Epoch 20/20\n",
            "1094/1094 [==============================] - 75s 68ms/step - g_loss: 0.7842 - d_loss: 0.6666\n"
          ]
        },
        {
          "output_type": "execute_result",
          "data": {
            "text/plain": [
              "<keras.callbacks.History at 0x7f3bf02aca90>"
            ]
          },
          "metadata": {},
          "execution_count": 9
        }
      ]
    },
    {
      "cell_type": "markdown",
      "source": [
        "Interpolacja między klasami z użyciem wytrenowanego wcześniej generatora"
      ],
      "metadata": {
        "id": "2_HFYvbhnr52"
      }
    },
    {
      "cell_type": "code",
      "source": [
        "# Dokonujemy ekstrakcji wytrenowanego genratora z naszego Warunkowego GAN-a.\n",
        "trained_gen = cond_gan.generator\n",
        "# Wybieramy liczbę przejsciowych obrazów, które będą wygenrowane jako interpolacja\n",
        "#między obrazem startowym i końcowym (liczba+2 ze względu na obraz startowy i końcowy)\n",
        "liczba_interpolacji =   6# @param {type:\"integer\"}\n",
        "\n",
        "# Próbkowanie szumu w celu interpolacji.\n",
        "interpolation_noise = tf.random.normal(shape=(1, latent_dim))\n",
        "interpolation_noise = tf.repeat(interpolation_noise, repeats=liczba_interpolacji)\n",
        "interpolation_noise = tf.reshape(interpolation_noise, (liczba_interpolacji, latent_dim))\n",
        "\n",
        "\n",
        "def interpolate_class(first_number, second_number):\n",
        "    # Konwersja początkowych i końcowych etykiet do postaci wektorów one-hot\n",
        "    first_label = keras.utils.to_categorical([first_number], num_classes)\n",
        "    second_label = keras.utils.to_categorical([second_number], num_classes)\n",
        "    first_label = tf.cast(first_label, tf.float32)\n",
        "    second_label = tf.cast(second_label, tf.float32)\n",
        "\n",
        "    # Obliczenie wektora interpolacji pomiędzy dwoma etykietami\n",
        "    percent_second_label = tf.linspace(0, 1, liczba_interpolacji)[:, None]\n",
        "    percent_second_label = tf.cast(percent_second_label, tf.float32)\n",
        "    interpolation_labels = (\n",
        "        first_label * (1 - percent_second_label) + second_label * percent_second_label\n",
        "    )\n",
        "\n",
        "    # Połaczenie szumu i etykiet i uruchomienie inferencji z użyciem generatora\n",
        "    noise_and_labels = tf.concat([interpolation_noise, interpolation_labels], 1)\n",
        "    fake = trained_gen.predict(noise_and_labels)\n",
        "    return fake\n",
        "\n",
        "\n",
        "klasa_startowa = 4  # @param {type:\"slider\", min:0, max:9, step:1}\n",
        "klasa_koncowa = 6  # @param {type:\"slider\", min:0, max:9, step:1}\n",
        "\n",
        "fake_images = interpolate_class(klasa_startowa, klasa_koncowa)"
      ],
      "metadata": {
        "id": "XmpjOqqinsJF"
      },
      "execution_count": null,
      "outputs": []
    },
    {
      "cell_type": "markdown",
      "source": [
        "W tej komórce najpierw próbkujemy szum z normalnej dystrybucji prawdopodopobieństwa, a następnie powtarzamy to dla wartości zmiennej\n",
        "`Liczba_Interpolacja`  i odpowiednio zmieniamy wynik.\n",
        "Następnie dystrybuujemy wynik równomiernie na wartośc zgodną z `Liczba_interpolacji`\n",
        "zgodnie z liczebnością etykiet obecnych w pewnej proporcji."
      ],
      "metadata": {
        "id": "izsOj0uynwd5"
      }
    },
    {
      "cell_type": "code",
      "source": [
        "fake_images *= 255.0\n",
        "converted_images = fake_images.astype(np.uint8)\n",
        "converted_images = tf.image.resize(converted_images, (96, 96)).numpy().astype(np.uint8)\n",
        "imageio.mimsave(\"animation.gif\", converted_images, fps=1)\n",
        "embed.embed_file(\"animation.gif\")"
      ],
      "metadata": {
        "id": "sowL6cngnx3L",
        "colab": {
          "base_uri": "https://localhost:8080/",
          "height": 117
        },
        "outputId": "905ed811-c544-405a-d7f1-c20537ca0c41"
      },
      "execution_count": null,
      "outputs": [
        {
          "output_type": "execute_result",
          "data": {
            "text/html": [
              "<img src=\"data:image/gif;base64,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\"/>"
            ],
            "text/plain": [
              "<IPython.core.display.HTML object>"
            ]
          },
          "metadata": {},
          "execution_count": 22
        }
      ]
    },
    {
      "cell_type": "markdown",
      "source": [
        "Zachęcam do eksperymentowania z notatnikiem, prób zwiększania liczby warstw, funkcji aktywacji, rodzaju maski, liczby filtrów itp."
      ],
      "metadata": {
        "id": "TkYq_1a7nz0f"
      }
    },
    {
      "cell_type": "markdown",
      "source": [
        "<center>\n",
        "Projekt współfinansowany ze środków Unii Europejskiej w ramach Europejskiego Funduszu Rozwoju Regionalnego\n",
        "Program Operacyjny Polska Cyfrowa na lata 2014-2020,\n",
        "Oś Priorytetowa nr 3 \"Cyfrowe kompetencje społeczeństwa\" Działanie  nr 3.2 \"Innowacyjne rozwiązania na rzecz aktywizacji cyfrowej\"\n",
        "Tytuł projektu:  „Akademia Innowacyjnych Zastosowań Technologii Cyfrowych (AI Tech)”\n",
        "    </center>"
      ],
      "metadata": {
        "id": "bPNEPSALn0H1"
      }
    }
  ]
}